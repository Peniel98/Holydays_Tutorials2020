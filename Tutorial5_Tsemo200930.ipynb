{
 "cells": [
  {
   "cell_type": "markdown",
   "metadata": {},
   "source": [
    "\\tableofcontents{}"
   ]
  },
  {
   "cell_type": "markdown",
   "metadata": {},
   "source": []
  },
  {
   "cell_type": "markdown",
   "metadata": {},
   "source": [
    "\\title{Tutorial 5-Quantum Circuits} \\author{Tsemo Peniel Bertrand-September 30th 2020} \\maketitle"
   ]
  },
  {
   "cell_type": "code",
   "execution_count": 3,
   "metadata": {},
   "outputs": [],
   "source": [
    "%matplotlib inline\n",
    "from qutip import*\n",
    "from qutip.qip.circuit import QubitCircuit, Gate\n",
    "from qutip.qip.operations import gate_sequence_product,rx,cphase\n",
    "from qutip import Qobj\n",
    "import numpy as np\n",
    "from IPython.display import Image "
   ]
  },
  {
   "cell_type": "markdown",
   "metadata": {},
   "source": [
    "\\section{Introduction}\n",
    "\n",
    "In the field of quantum physics, there is a branch called quantum computation which studies the information in a way quantic or how to exploit the quantum superposition to increase the power and speed of classical computers. Oppositely to electrical circuits used in classical physics, the model we use in quantum computation is the quantum circuit which contains one or several quantum  gates,takes input qubits and returns also qubits by applying his containing quantum gates. When studying phenomena including many qubits, we deal with very calculations, hence the importance of digital.\n",
    "\n",
    "In this notebook, we will first see how to represent and manipulate quantum circuits with QuTiP, and secondly we will do the same manipulations with the library Sympy. \n",
    "\n",
    "\n",
    "\\section{Quantum circuits}\n",
    "\\subsection{Quantum Information Processing (QIP)}\n",
    "\n",
    "The Quantum Information Processor (QIP) is a qutip module used to implement numerically operations of quantum computing such as quantum algorithms design and even for experimental realisation . The first side of this module  is the `qutip.qip.QubitCircuit` submodule used for unitary evolutions done by  products of quantum gates matrix representations. The other side is the `qutip.qip.device.Processor` submodule which uses open system solvers to simulate noisy quantum system device.\n",
    "\n",
    "### Quantum Circuit\n",
    "\n",
    "The commonly model used in quantum computing is the quantum cicuit model. To represent a quantum circuit in QuTiP, we use `qutip.qip.QubtiCircuit`. The informations of each quantum gate is stored in the `qutip.qip.operators.Gate` class object. For the matrix representation of each gate, we use the class method `qutip.qip.QubitCircuit.propagators`. The matrix representation of the whole quantum circuit is obtained by carrying out the matrices products.\n",
    "\n",
    "  Let's do some manipulations to get started."
   ]
  },
  {
   "cell_type": "code",
   "execution_count": 4,
   "metadata": {},
   "outputs": [
    {
     "name": "stdout",
     "output_type": "stream",
     "text": [
      "[Gate(SWAP, targets=[1, 2], controls=None), Gate(CNOT, targets=[2], controls=[0]), Gate(SWAP, targets=[1, 2], controls=None)]\n"
     ]
    }
   ],
   "source": [
    "qbc=QubitCircuit(N=3)\n",
    "H_gate=Gate(name=\"SWAP\",targets=[1,2])\n",
    "qbc.add_gate(H_gate)\n",
    "qbc.add_gate(\"CNOT\",controls=0,targets=2)\n",
    "qbc.add_gate(H_gate)\n",
    "print(qbc.gates)"
   ]
  },
  {
   "cell_type": "code",
   "execution_count": 5,
   "metadata": {
    "scrolled": true
   },
   "outputs": [
    {
     "name": "stdout",
     "output_type": "stream",
     "text": [
      "Quantum object: dims = [[2, 2, 2], [2, 2, 2]], shape = (8, 8), type = oper, isherm = True\n",
      "Qobj data =\n",
      "[[1. 0. 0. 0. 0. 0. 0. 0.]\n",
      " [0. 1. 0. 0. 0. 0. 0. 0.]\n",
      " [0. 0. 1. 0. 0. 0. 0. 0.]\n",
      " [0. 0. 0. 1. 0. 0. 0. 0.]\n",
      " [0. 0. 0. 0. 0. 0. 1. 0.]\n",
      " [0. 0. 0. 0. 0. 0. 0. 1.]\n",
      " [0. 0. 0. 0. 1. 0. 0. 0.]\n",
      " [0. 0. 0. 0. 0. 1. 0. 0.]]\n"
     ]
    }
   ],
   "source": [
    "u_list=qbc.propagators()\n",
    "print(gate_sequence_product(u_list))"
   ]
  },
  {
   "cell_type": "markdown",
   "metadata": {},
   "source": [
    "There are some pre-defined gates that we can show in the table below:\n",
    "\n",
    "|Gate name| Description|\n",
    "|-----:   | -------:   |\n",
    "|\"RX\"     | Rotation around x-axis|\n",
    "|\"RY\"      | Rotation around y-axis|\n",
    "|\"RZ\"      | Rotation around z-axis|\n",
    "|\"SQRTNOT\"| Square root of not gate|\n",
    "|\"SNOT\"    | hadamard gate   |\n",
    "|\"PHASEGATE\"| Add a phase of one to state 1|\n",
    "|\"CNOT\"     | Controlled NOT gate|\n",
    "| \"SWAP\"    | Swap the states of two qubits|\n",
    "|\"SQRTSWAP\"  | Squared root of SWAP gate|\n",
    "|\"TOFFOLI\"   | Toffoli gate|\n",
    "\n",
    "\n",
    "QuTiP also allows the user to define their own gates"
   ]
  },
  {
   "cell_type": "code",
   "execution_count": 127,
   "metadata": {},
   "outputs": [
    {
     "data": {
      "text/latex": [
       "Quantum object: dims = [[2, 2], [2, 2]], shape = (4, 4), type = oper, isherm = False\\begin{equation*}\\left(\\begin{array}{*{11}c}1.0 & 0.0 & 0.0 & 0.0\\\\0.0 & 1.0 & 0.0 & 0.0\\\\0.0 & 0.0 & 6.123\\times10^{-17} & -1.0j\\\\0.0 & 0.0 & -1.0j & 6.123\\times10^{-17}\\\\\\end{array}\\right)\\end{equation*}"
      ],
      "text/plain": [
       "Quantum object: dims = [[2, 2], [2, 2]], shape = (4, 4), type = oper, isherm = False\n",
       "Qobj data =\n",
       "[[1.000000e+00+0.j 0.000000e+00+0.j 0.000000e+00+0.j 0.000000e+00+0.j]\n",
       " [0.000000e+00+0.j 1.000000e+00+0.j 0.000000e+00+0.j 0.000000e+00+0.j]\n",
       " [0.000000e+00+0.j 0.000000e+00+0.j 6.123234e-17+0.j 0.000000e+00-1.j]\n",
       " [0.000000e+00+0.j 0.000000e+00+0.j 0.000000e+00-1.j 6.123234e-17+0.j]]"
      ]
     },
     "execution_count": 127,
     "metadata": {},
     "output_type": "execute_result"
    }
   ],
   "source": [
    "def user_gate1(arg_value):\n",
    "\n",
    "    mat=np.zeros((4,4), dtype=np.complex)\n",
    "    mat[0,0]=mat[1,1]=1\n",
    "    mat[2:4,2:4]=rx(arg_value)\n",
    "    return Qobj(mat, dims=[[2,2],[2,2]])\n",
    "\n",
    "user_gate1(np.pi)"
   ]
  },
  {
   "cell_type": "code",
   "execution_count": 128,
   "metadata": {},
   "outputs": [
    {
     "data": {
      "text/latex": [
       "Quantum object: dims = [[2], [2]], shape = (2, 2), type = oper, isherm = True\\begin{equation*}\\left(\\begin{array}{*{11}c}0.0 & 1.0\\\\1.0 & 0.0\\\\\\end{array}\\right)\\end{equation*}"
      ],
      "text/plain": [
       "Quantum object: dims = [[2], [2]], shape = (2, 2), type = oper, isherm = True\n",
       "Qobj data =\n",
       "[[0. 1.]\n",
       " [1. 0.]]"
      ]
     },
     "execution_count": 128,
     "metadata": {},
     "output_type": "execute_result"
    }
   ],
   "source": [
    "def user_gate2():\n",
    "    mat1=np.array([[0.,1],[1,0.]])\n",
    "    return Qobj(mat1, dims=[[2],[2]])\n",
    "\n",
    "user_gate2()"
   ]
  },
  {
   "cell_type": "code",
   "execution_count": 129,
   "metadata": {},
   "outputs": [
    {
     "data": {
      "text/latex": [
       "Quantum object: dims = [[2, 2], [2, 2]], shape = (4, 4), type = oper, isherm = False\\begin{equation*}\\left(\\begin{array}{*{11}c}1.0 & 0.0 & 0.0 & 0.0\\\\0.0 & 0.0 & 0.0 & -1.0j\\\\0.0 & 0.0 & 1.0 & 0.0\\\\0.0 & -1.0j & 0.0 & 0.0\\\\\\end{array}\\right)\\end{equation*}"
      ],
      "text/plain": [
       "Quantum object: dims = [[2, 2], [2, 2]], shape = (4, 4), type = oper, isherm = False\n",
       "Qobj data =\n",
       "[[1.+0.j 0.+0.j 0.+0.j 0.+0.j]\n",
       " [0.+0.j 0.+0.j 0.+0.j 0.-1.j]\n",
       " [0.+0.j 0.+0.j 1.+0.j 0.+0.j]\n",
       " [0.+0.j 0.-1.j 0.+0.j 0.+0.j]]"
      ]
     },
     "execution_count": 129,
     "metadata": {},
     "output_type": "execute_result"
    }
   ],
   "source": [
    "qc=QubitCircuit(2)\n",
    "qc.user_gates={\"CTRLRX\":user_gate1,\n",
    "               \"X\":     user_gate2}\n",
    "\n",
    "#control=0, target=1\n",
    "qc.add_gate(\"CTRLRX\", targets=[1,0], arg_value=np.pi)\n",
    "#control=1, target=0\n",
    "qc.add_gate(\"CTRLRX\",targets=[0,1],arg_value=np.pi)\n",
    "g_T=Gate(\"X\",targets=[1])\n",
    "qc.add_gate(g_T)\n",
    "prop=qc.propagators()\n",
    "prop[0]"
   ]
  },
  {
   "cell_type": "code",
   "execution_count": 131,
   "metadata": {},
   "outputs": [
    {
     "data": {
      "text/latex": [
       "Quantum object: dims = [[2, 2], [2, 2]], shape = (4, 4), type = oper, isherm = False\\begin{equation*}\\left(\\begin{array}{*{11}c}1.0 & 0.0 & 0.0 & 0.0\\\\0.0 & 1.0 & 0.0 & 0.0\\\\0.0 & 0.0 & 0.0 & -1.0j\\\\0.0 & 0.0 & -1.0j & 0.0\\\\\\end{array}\\right)\\end{equation*}"
      ],
      "text/plain": [
       "Quantum object: dims = [[2, 2], [2, 2]], shape = (4, 4), type = oper, isherm = False\n",
       "Qobj data =\n",
       "[[1.+0.j 0.+0.j 0.+0.j 0.+0.j]\n",
       " [0.+0.j 1.+0.j 0.+0.j 0.+0.j]\n",
       " [0.+0.j 0.+0.j 0.+0.j 0.-1.j]\n",
       " [0.+0.j 0.+0.j 0.-1.j 0.+0.j]]"
      ]
     },
     "execution_count": 131,
     "metadata": {},
     "output_type": "execute_result"
    }
   ],
   "source": [
    "prop[1]"
   ]
  },
  {
   "cell_type": "code",
   "execution_count": 133,
   "metadata": {
    "scrolled": true
   },
   "outputs": [
    {
     "data": {
      "text/latex": [
       "Quantum object: dims = [[2, 2], [2, 2]], shape = (4, 4), type = oper, isherm = True\\begin{equation*}\\left(\\begin{array}{*{11}c}0.0 & 1.0 & 0.0 & 0.0\\\\1.0 & 0.0 & 0.0 & 0.0\\\\0.0 & 0.0 & 0.0 & 1.0\\\\0.0 & 0.0 & 1.0 & 0.0\\\\\\end{array}\\right)\\end{equation*}"
      ],
      "text/plain": [
       "Quantum object: dims = [[2, 2], [2, 2]], shape = (4, 4), type = oper, isherm = True\n",
       "Qobj data =\n",
       "[[0. 1. 0. 0.]\n",
       " [1. 0. 0. 0.]\n",
       " [0. 0. 0. 1.]\n",
       " [0. 0. 1. 0.]]"
      ]
     },
     "execution_count": 133,
     "metadata": {},
     "output_type": "execute_result"
    }
   ],
   "source": [
    "prop[2]"
   ]
  },
  {
   "cell_type": "code",
   "execution_count": 4,
   "metadata": {},
   "outputs": [
    {
     "data": {
      "text/latex": [
       "Quantum object: dims = [[2, 2], [2, 2]], shape = (4, 4), type = oper, isherm = False\\begin{equation*}\\left(\\begin{array}{*{11}c}1.0 & 0.0 & 0.0 & 0.0\\\\0.0 & 1.0 & 0.0 & 0.0\\\\0.0 & 0.0 & 1.0 & 0.0\\\\0.0 & 0.0 & 0.0 & 1.0j\\\\\\end{array}\\right)\\end{equation*}"
      ],
      "text/plain": [
       "Quantum object: dims = [[2, 2], [2, 2]], shape = (4, 4), type = oper, isherm = False\n",
       "Qobj data =\n",
       "[[1.+0.j 0.+0.j 0.+0.j 0.+0.j]\n",
       " [0.+0.j 1.+0.j 0.+0.j 0.+0.j]\n",
       " [0.+0.j 0.+0.j 1.+0.j 0.+0.j]\n",
       " [0.+0.j 0.+0.j 0.+0.j 0.+1.j]]"
      ]
     },
     "execution_count": 4,
     "metadata": {},
     "output_type": "execute_result"
    }
   ],
   "source": [
    "cphase(np.pi/2)"
   ]
  },
  {
   "cell_type": "code",
   "execution_count": 8,
   "metadata": {},
   "outputs": [
    {
     "ename": "FileNotFoundError",
     "evalue": "[Errno 2] No such file or directory: 'qcirc.png'",
     "output_type": "error",
     "traceback": [
      "\u001b[0;31m---------------------------------------------------------------------------\u001b[0m",
      "\u001b[0;31mFileNotFoundError\u001b[0m                         Traceback (most recent call last)",
      "\u001b[0;32m<ipython-input-8-d4003b5f7614>\u001b[0m in \u001b[0;36m<module>\u001b[0;34m\u001b[0m\n\u001b[1;32m      1\u001b[0m \u001b[0mq\u001b[0m \u001b[0;34m=\u001b[0m \u001b[0mQubitCircuit\u001b[0m\u001b[0;34m(\u001b[0m\u001b[0;36m3\u001b[0m\u001b[0;34m,\u001b[0m \u001b[0mreverse_states\u001b[0m\u001b[0;34m=\u001b[0m\u001b[0;32mFalse\u001b[0m\u001b[0;34m)\u001b[0m\u001b[0;34m\u001b[0m\u001b[0;34m\u001b[0m\u001b[0m\n\u001b[1;32m      2\u001b[0m \u001b[0mq\u001b[0m\u001b[0;34m.\u001b[0m\u001b[0madd_gate\u001b[0m\u001b[0;34m(\u001b[0m\u001b[0;34m\"CNOT\"\u001b[0m\u001b[0;34m,\u001b[0m \u001b[0mcontrols\u001b[0m\u001b[0;34m=\u001b[0m\u001b[0;34m[\u001b[0m\u001b[0;36m1\u001b[0m\u001b[0;34m]\u001b[0m\u001b[0;34m,\u001b[0m \u001b[0mtargets\u001b[0m\u001b[0;34m=\u001b[0m\u001b[0;34m[\u001b[0m\u001b[0;36m2\u001b[0m\u001b[0;34m]\u001b[0m\u001b[0;34m)\u001b[0m\u001b[0;34m\u001b[0m\u001b[0;34m\u001b[0m\u001b[0m\n\u001b[0;32m----> 3\u001b[0;31m \u001b[0mq\u001b[0m\u001b[0;34m.\u001b[0m\u001b[0mpng\u001b[0m\u001b[0;34m\u001b[0m\u001b[0;34m\u001b[0m\u001b[0m\n\u001b[0m",
      "\u001b[0;32m~/anaconda3/lib/python3.7/site-packages/qutip/qip/circuit.py\u001b[0m in \u001b[0;36mpng\u001b[0;34m(self)\u001b[0m\n\u001b[1;32m   1122\u001b[0m     \u001b[0;32mdef\u001b[0m \u001b[0mpng\u001b[0m\u001b[0;34m(\u001b[0m\u001b[0mself\u001b[0m\u001b[0;34m)\u001b[0m\u001b[0;34m:\u001b[0m\u001b[0;34m\u001b[0m\u001b[0;34m\u001b[0m\u001b[0m\n\u001b[1;32m   1123\u001b[0m         \u001b[0;32mfrom\u001b[0m \u001b[0mIPython\u001b[0m\u001b[0;34m.\u001b[0m\u001b[0mdisplay\u001b[0m \u001b[0;32mimport\u001b[0m \u001b[0mImage\u001b[0m\u001b[0;34m\u001b[0m\u001b[0;34m\u001b[0m\u001b[0m\n\u001b[0;32m-> 1124\u001b[0;31m         \u001b[0;32mreturn\u001b[0m \u001b[0mImage\u001b[0m\u001b[0;34m(\u001b[0m\u001b[0mself\u001b[0m\u001b[0;34m.\u001b[0m\u001b[0m_repr_png_\u001b[0m\u001b[0;34m(\u001b[0m\u001b[0;34m)\u001b[0m\u001b[0;34m,\u001b[0m \u001b[0membed\u001b[0m\u001b[0;34m=\u001b[0m\u001b[0;32mTrue\u001b[0m\u001b[0;34m)\u001b[0m\u001b[0;34m\u001b[0m\u001b[0;34m\u001b[0m\u001b[0m\n\u001b[0m\u001b[1;32m   1125\u001b[0m \u001b[0;34m\u001b[0m\u001b[0m\n\u001b[1;32m   1126\u001b[0m     \u001b[0;34m@\u001b[0m\u001b[0mproperty\u001b[0m\u001b[0;34m\u001b[0m\u001b[0;34m\u001b[0m\u001b[0m\n",
      "\u001b[0;32m~/anaconda3/lib/python3.7/site-packages/qutip/qip/circuit.py\u001b[0m in \u001b[0;36m_repr_png_\u001b[0;34m(self)\u001b[0m\n\u001b[1;32m   1114\u001b[0m \u001b[0;34m\u001b[0m\u001b[0m\n\u001b[1;32m   1115\u001b[0m     \u001b[0;32mdef\u001b[0m \u001b[0m_repr_png_\u001b[0m\u001b[0;34m(\u001b[0m\u001b[0mself\u001b[0m\u001b[0;34m)\u001b[0m\u001b[0;34m:\u001b[0m\u001b[0;34m\u001b[0m\u001b[0;34m\u001b[0m\u001b[0m\n\u001b[0;32m-> 1116\u001b[0;31m         \u001b[0;32mreturn\u001b[0m \u001b[0m_latex_compile\u001b[0m\u001b[0;34m(\u001b[0m\u001b[0mself\u001b[0m\u001b[0;34m.\u001b[0m\u001b[0mlatex_code\u001b[0m\u001b[0;34m(\u001b[0m\u001b[0;34m)\u001b[0m\u001b[0;34m,\u001b[0m \u001b[0mformat\u001b[0m\u001b[0;34m=\u001b[0m\u001b[0;34m\"png\"\u001b[0m\u001b[0;34m)\u001b[0m\u001b[0;34m\u001b[0m\u001b[0;34m\u001b[0m\u001b[0m\n\u001b[0m\u001b[1;32m   1117\u001b[0m \u001b[0;34m\u001b[0m\u001b[0m\n\u001b[1;32m   1118\u001b[0m     \u001b[0;32mdef\u001b[0m \u001b[0m_repr_svg_\u001b[0m\u001b[0;34m(\u001b[0m\u001b[0mself\u001b[0m\u001b[0;34m)\u001b[0m\u001b[0;34m:\u001b[0m\u001b[0;34m\u001b[0m\u001b[0;34m\u001b[0m\u001b[0m\n",
      "\u001b[0;32m~/anaconda3/lib/python3.7/site-packages/qutip/qip/circuit_latex.py\u001b[0m in \u001b[0;36m_latex_compile\u001b[0;34m(code, filename, format)\u001b[0m\n\u001b[1;32m     60\u001b[0m         os.system(\"convert -density %s %s.pdf %s.png\" % (100, filename,\n\u001b[1;32m     61\u001b[0m                                                          filename))\n\u001b[0;32m---> 62\u001b[0;31m         \u001b[0;32mwith\u001b[0m \u001b[0mopen\u001b[0m\u001b[0;34m(\u001b[0m\u001b[0;34m\"%s.png\"\u001b[0m \u001b[0;34m%\u001b[0m \u001b[0mfilename\u001b[0m\u001b[0;34m,\u001b[0m \u001b[0;34m\"rb\"\u001b[0m\u001b[0;34m)\u001b[0m \u001b[0;32mas\u001b[0m \u001b[0mf\u001b[0m\u001b[0;34m:\u001b[0m\u001b[0;34m\u001b[0m\u001b[0;34m\u001b[0m\u001b[0m\n\u001b[0m\u001b[1;32m     63\u001b[0m             \u001b[0mresult\u001b[0m \u001b[0;34m=\u001b[0m \u001b[0mf\u001b[0m\u001b[0;34m.\u001b[0m\u001b[0mread\u001b[0m\u001b[0;34m(\u001b[0m\u001b[0;34m)\u001b[0m\u001b[0;34m\u001b[0m\u001b[0;34m\u001b[0m\u001b[0m\n\u001b[1;32m     64\u001b[0m     \u001b[0;32melse\u001b[0m\u001b[0;34m:\u001b[0m\u001b[0;34m\u001b[0m\u001b[0;34m\u001b[0m\u001b[0m\n",
      "\u001b[0;31mFileNotFoundError\u001b[0m: [Errno 2] No such file or directory: 'qcirc.png'"
     ]
    }
   ],
   "source": [
    "q = QubitCircuit(3, reverse_states=False)\n",
    "q.add_gate(\"CNOT\", controls=[1], targets=[2])\n",
    "q.png"
   ]
  },
  {
   "cell_type": "markdown",
   "metadata": {},
   "source": [
    "Still searching how to solve this problem working with Ubuntu sir"
   ]
  },
  {
   "cell_type": "markdown",
   "metadata": {},
   "source": [
    "\\section{Symbolic(Sympy) quantum computing}"
   ]
  },
  {
   "cell_type": "code",
   "execution_count": 2,
   "metadata": {},
   "outputs": [],
   "source": [
    "from sympy import*\n",
    "from sympy import init_printing\n",
    "init_printing(use_latex=True)\n",
    "from sympy import Eq\n",
    "from sympy.physics.quantum import *\n",
    "from sympy.physics.quantum.qubit import *\n",
    "from sympy.physics.quantum.gate import *\n",
    "from sympy.physics.quantum.circuitplot import circuit_plot,CircuitPlot,labeller,Mz,CreateOneQubitGate\n",
    "from sympy.physics.quantum.qasm import Qasm"
   ]
  },
  {
   "cell_type": "markdown",
   "metadata": {},
   "source": [
    "## Gates\n",
    "Gates are operators which acts on qubits states"
   ]
  },
  {
   "cell_type": "code",
   "execution_count": 159,
   "metadata": {},
   "outputs": [
    {
     "data": {
      "image/png": "[encoded data removed]",
      "text/latex": [
       "$\\displaystyle X_{0}$"
      ],
      "text/plain": [
       "X \n",
       " 0"
      ]
     },
     "execution_count": 159,
     "metadata": {},
     "output_type": "execute_result"
    }
   ],
   "source": [
    "X(0)"
   ]
  },
  {
   "cell_type": "code",
   "execution_count": 160,
   "metadata": {},
   "outputs": [
    {
     "data": {
      "image/png": "[encoded data removed]",
      "text/latex": [
       "$\\displaystyle \\left[\\begin{matrix}0 & 1 & 0 & 0\\\\1 & 0 & 0 & 0\\\\0 & 0 & 0 & 1\\\\0 & 0 & 1 & 0\\end{matrix}\\right]$"
      ],
      "text/plain": [
       "⎡0  1  0  0⎤\n",
       "⎢          ⎥\n",
       "⎢1  0  0  0⎥\n",
       "⎢          ⎥\n",
       "⎢0  0  0  1⎥\n",
       "⎢          ⎥\n",
       "⎣0  0  1  0⎦"
      ]
     },
     "execution_count": 160,
     "metadata": {},
     "output_type": "execute_result"
    }
   ],
   "source": [
    "represent(X(0), nqubits=2)"
   ]
  },
  {
   "cell_type": "code",
   "execution_count": 161,
   "metadata": {},
   "outputs": [
    {
     "data": {
      "image/png": "[encoded data removed]",
      "text/latex": [
       "$\\displaystyle H_{1} {\\left|00\\right\\rangle }$"
      ],
      "text/plain": [
       "H ⋅❘00⟩\n",
       " 1     "
      ]
     },
     "execution_count": 161,
     "metadata": {},
     "output_type": "execute_result"
    }
   ],
   "source": [
    "H(1)*Qubit('00')"
   ]
  },
  {
   "cell_type": "code",
   "execution_count": 162,
   "metadata": {},
   "outputs": [
    {
     "data": {
      "image/png": "[encoded data removed]",
      "text/latex": [
       "$\\displaystyle \\frac{\\sqrt{2} {\\left|00\\right\\rangle }}{2} + \\frac{\\sqrt{2} {\\left|10\\right\\rangle }}{2}$"
      ],
      "text/plain": [
       "√2⋅❘00⟩   √2⋅❘10⟩\n",
       "─────── + ───────\n",
       "   2         2   "
      ]
     },
     "execution_count": 162,
     "metadata": {},
     "output_type": "execute_result"
    }
   ],
   "source": [
    "qapply(H(1)*Qubit('00'))"
   ]
  },
  {
   "cell_type": "code",
   "execution_count": 170,
   "metadata": {},
   "outputs": [
    {
     "data": {
      "image/png": "[encoded data removed]",
      "text/latex": [
       "$\\displaystyle H_{0} {\\left|0\\right\\rangle } = \\frac{\\sqrt{2} {\\left|0\\right\\rangle }}{2} + \\frac{\\sqrt{2} {\\left|1\\right\\rangle }}{2}$"
      ],
      "text/plain": [
       "         √2⋅❘0⟩   √2⋅❘1⟩\n",
       "H ⋅❘0⟩ = ────── + ──────\n",
       " 0         2        2   "
      ]
     },
     "metadata": {},
     "output_type": "display_data"
    },
    {
     "data": {
      "image/png": "[encoded data removed]",
      "text/latex": [
       "$\\displaystyle H_{0} {\\left|1\\right\\rangle } = \\frac{\\sqrt{2} {\\left|0\\right\\rangle }}{2} - \\frac{\\sqrt{2} {\\left|1\\right\\rangle }}{2}$"
      ],
      "text/plain": [
       "         √2⋅❘0⟩   √2⋅❘1⟩\n",
       "H ⋅❘1⟩ = ────── - ──────\n",
       " 0         2        2   "
      ]
     },
     "metadata": {},
     "output_type": "display_data"
    },
    {
     "data": {
      "image/png": "[encoded data removed]",
      "text/latex": [
       "$\\displaystyle X_{0} {\\left|0\\right\\rangle } = {\\left|1\\right\\rangle }$"
      ],
      "text/plain": [
       "X ⋅❘0⟩ = ❘1⟩\n",
       " 0          "
      ]
     },
     "metadata": {},
     "output_type": "display_data"
    },
    {
     "data": {
      "image/png": "[encoded data removed]",
      "text/latex": [
       "$\\displaystyle X_{0} {\\left|1\\right\\rangle } = {\\left|0\\right\\rangle }$"
      ],
      "text/plain": [
       "X ⋅❘1⟩ = ❘0⟩\n",
       " 0          "
      ]
     },
     "metadata": {},
     "output_type": "display_data"
    },
    {
     "data": {
      "image/png": "[encoded data removed]",
      "text/latex": [
       "$\\displaystyle Y_{0} {\\left|0\\right\\rangle } = i {\\left|1\\right\\rangle }$"
      ],
      "text/plain": [
       "Y ⋅❘0⟩ = ⅈ⋅❘1⟩\n",
       " 0            "
      ]
     },
     "metadata": {},
     "output_type": "display_data"
    },
    {
     "data": {
      "image/png": "[encoded data removed]",
      "text/latex": [
       "$\\displaystyle Y_{0} {\\left|1\\right\\rangle } = - i {\\left|0\\right\\rangle }$"
      ],
      "text/plain": [
       "Y ⋅❘1⟩ = -ⅈ⋅❘0⟩\n",
       " 0             "
      ]
     },
     "metadata": {},
     "output_type": "display_data"
    },
    {
     "data": {
      "image/png": "[encoded data removed]",
      "text/latex": [
       "$\\displaystyle Z_{0} {\\left|0\\right\\rangle } = {\\left|0\\right\\rangle }$"
      ],
      "text/plain": [
       "Z ⋅❘0⟩ = ❘0⟩\n",
       " 0          "
      ]
     },
     "metadata": {},
     "output_type": "display_data"
    },
    {
     "data": {
      "image/png": "[encoded data removed]",
      "text/latex": [
       "$\\displaystyle Z_{0} {\\left|1\\right\\rangle } = - {\\left|1\\right\\rangle }$"
      ],
      "text/plain": [
       "Z ⋅❘1⟩ = -❘1⟩\n",
       " 0           "
      ]
     },
     "metadata": {},
     "output_type": "display_data"
    },
    {
     "data": {
      "image/png": "[encoded data removed]",
      "text/latex": [
       "$\\displaystyle S_{0} {\\left|0\\right\\rangle } = {\\left|0\\right\\rangle }$"
      ],
      "text/plain": [
       "S ⋅❘0⟩ = ❘0⟩\n",
       " 0          "
      ]
     },
     "metadata": {},
     "output_type": "display_data"
    },
    {
     "data": {
      "image/png": "[encoded data removed]",
      "text/latex": [
       "$\\displaystyle S_{0} {\\left|1\\right\\rangle } = i {\\left|1\\right\\rangle }$"
      ],
      "text/plain": [
       "S ⋅❘1⟩ = ⅈ⋅❘1⟩\n",
       " 0            "
      ]
     },
     "metadata": {},
     "output_type": "display_data"
    },
    {
     "data": {
      "image/png": "[encoded data removed]",
      "text/latex": [
       "$\\displaystyle T_{0} {\\left|0\\right\\rangle } = {\\left|0\\right\\rangle }$"
      ],
      "text/plain": [
       "T ⋅❘0⟩ = ❘0⟩\n",
       " 0          "
      ]
     },
     "metadata": {},
     "output_type": "display_data"
    },
    {
     "data": {
      "image/png": "[encoded data removed]",
      "text/latex": [
       "$\\displaystyle T_{0} {\\left|1\\right\\rangle } = e^{\\frac{i \\pi}{4}} {\\left|1\\right\\rangle }$"
      ],
      "text/plain": [
       "          ⅈ⋅π    \n",
       "          ───    \n",
       "           4     \n",
       "T ⋅❘1⟩ = ℯ   ⋅❘1⟩\n",
       " 0               "
      ]
     },
     "metadata": {},
     "output_type": "display_data"
    }
   ],
   "source": [
    "for gate in [H,X,Y,Z,S,T]:\n",
    "    for state in [Qubit('0'),Qubit('1')]:\n",
    "        lhs=gate(0)*state\n",
    "        ghs=qapply(lhs)\n",
    "        display(Eq(lhs,ghs))"
   ]
  },
  {
   "cell_type": "markdown",
   "metadata": {},
   "source": [
    "## Symbolic gate rules and circuit simplification"
   ]
  },
  {
   "cell_type": "code",
   "execution_count": 172,
   "metadata": {},
   "outputs": [
    {
     "data": {
      "image/png": "[encoded data removed]",
      "text/latex": [
       "$\\displaystyle \\left[H_{0},X_{0}\\right] = \\sqrt{2} i Y_{0}$"
      ],
      "text/plain": [
       "⎡H ,X ⎤ = √2⋅ⅈ⋅Y \n",
       "⎣ 0  0⎦         0"
      ]
     },
     "metadata": {},
     "output_type": "display_data"
    },
    {
     "data": {
      "image/png": "[encoded data removed]",
      "text/latex": [
       "$\\displaystyle \\left[H_{0},S_{0}\\right] = H_{0} S_{0} - S_{0} H_{0}$"
      ],
      "text/plain": [
       "⎡H ,S ⎤ = H ⋅S  - S ⋅H \n",
       "⎣ 0  0⎦    0  0    0  0"
      ]
     },
     "metadata": {},
     "output_type": "display_data"
    },
    {
     "data": {
      "image/png": "[encoded data removed]",
      "text/latex": [
       "$\\displaystyle \\left[H_{0},T_{0}\\right] = H_{0} T_{0} - T_{0} H_{0}$"
      ],
      "text/plain": [
       "⎡H ,T ⎤ = H ⋅T  - T ⋅H \n",
       "⎣ 0  0⎦    0  0    0  0"
      ]
     },
     "metadata": {},
     "output_type": "display_data"
    },
    {
     "data": {
      "image/png": "[encoded data removed]",
      "text/latex": [
       "$\\displaystyle - \\left[X_{0},Y_{0}\\right] = - 2 i Z_{0}$"
      ],
      "text/plain": [
       "-⎡X ,Y ⎤ = -2⋅ⅈ⋅Z \n",
       " ⎣ 0  0⎦         0"
      ]
     },
     "metadata": {},
     "output_type": "display_data"
    },
    {
     "data": {
      "image/png": "[encoded data removed]",
      "text/latex": [
       "$\\displaystyle - \\left[S_{0},Y_{0}\\right] = - (S_{0} Y_{0} - Y_{0} S_{0})$"
      ],
      "text/plain": [
       "-⎡S ,Y ⎤ = -⎛S ⋅Y  - Y ⋅S ⎞\n",
       " ⎣ 0  0⎦    ⎝ 0  0    0  0⎠"
      ]
     },
     "metadata": {},
     "output_type": "display_data"
    },
    {
     "data": {
      "image/png": "[encoded data removed]",
      "text/latex": [
       "$\\displaystyle - \\left[T_{0},Y_{0}\\right] = - (T_{0} Y_{0} - Y_{0} T_{0})$"
      ],
      "text/plain": [
       "-⎡T ,Y ⎤ = -⎛T ⋅Y  - Y ⋅T ⎞\n",
       " ⎣ 0  0⎦    ⎝ 0  0    0  0⎠"
      ]
     },
     "metadata": {},
     "output_type": "display_data"
    },
    {
     "data": {
      "image/png": "[encoded data removed]",
      "text/latex": [
       "$\\displaystyle - \\left[X_{0},Z_{0}\\right] = 2 i Y_{0}$"
      ],
      "text/plain": [
       "-⎡X ,Z ⎤ = 2⋅ⅈ⋅Y \n",
       " ⎣ 0  0⎦        0"
      ]
     },
     "metadata": {},
     "output_type": "display_data"
    },
    {
     "data": {
      "image/png": "[encoded data removed]",
      "text/latex": [
       "$\\displaystyle - \\left[S_{0},Z_{0}\\right] = 0$"
      ],
      "text/plain": [
       "-⎡S ,Z ⎤ = 0\n",
       " ⎣ 0  0⎦    "
      ]
     },
     "metadata": {},
     "output_type": "display_data"
    },
    {
     "data": {
      "image/png": "[encoded data removed]",
      "text/latex": [
       "$\\displaystyle - \\left[T_{0},Z_{0}\\right] = 0$"
      ],
      "text/plain": [
       "-⎡T ,Z ⎤ = 0\n",
       " ⎣ 0  0⎦    "
      ]
     },
     "metadata": {},
     "output_type": "display_data"
    }
   ],
   "source": [
    "for g1 in (H,Y,Z):\n",
    "    for g2 in (X,S,T):\n",
    "        e=Commutator(g1(0),g2(0))\n",
    "        display(Eq(e,e.doit()))"
   ]
  },
  {
   "cell_type": "code",
   "execution_count": 181,
   "metadata": {},
   "outputs": [
    {
     "data": {
      "text/plain": [
       "<sympy.physics.quantum.circuitplot.CircuitPlot at 0x7f29f410ff50>"
      ]
     },
     "execution_count": 181,
     "metadata": {},
     "output_type": "execute_result"
    },
    {
     "data": {
      "image/png": "[encoded data removed]",
      "text/plain": [
       "<Figure size 504x144 with 1 Axes>"
      ]
     },
     "metadata": {},
     "output_type": "display_data"
    }
   ],
   "source": [
    "c=H(0)*X(0)*X(1)*CNOT(1,0)*Y(1)*Y(1)**2*X(1)**3*Z(0)**2*X(0)**3\n",
    "circuit_plot(c,nqubits=2)"
   ]
  },
  {
   "cell_type": "code",
   "execution_count": 185,
   "metadata": {},
   "outputs": [
    {
     "data": {
      "text/plain": [
       "<sympy.physics.quantum.circuitplot.CircuitPlot at 0x7f29efe86f50>"
      ]
     },
     "execution_count": 185,
     "metadata": {},
     "output_type": "execute_result"
    },
    {
     "data": {
      "image/png": "[encoded data removed]",
      "text/plain": [
       "<Figure size 576x216 with 1 Axes>"
      ]
     },
     "metadata": {},
     "output_type": "display_data"
    }
   ],
   "source": [
    "c=c*H(2)\n",
    "circuit_plot(c,nqubits=3)"
   ]
  },
  {
   "cell_type": "code",
   "execution_count": 186,
   "metadata": {},
   "outputs": [
    {
     "data": {
      "image/png": "[encoded data removed]",
      "text/latex": [
       "$\\displaystyle - H_{0} X_{0} X_{1} CNOT_{1,0} H_{2} X_{0} X_{1} Y_{1}$"
      ],
      "text/plain": [
       "-H ⋅X ⋅X ⋅CNOT   ⋅H ⋅X ⋅X ⋅Y \n",
       "  0  0  1     1,0  2  0  1  1"
      ]
     },
     "execution_count": 186,
     "metadata": {},
     "output_type": "execute_result"
    }
   ],
   "source": [
    "gate_simp(c)"
   ]
  },
  {
   "cell_type": "code",
   "execution_count": 197,
   "metadata": {},
   "outputs": [
    {
     "data": {
      "text/plain": [
       "<sympy.physics.quantum.circuitplot.CircuitPlot at 0x7f29efb284d0>"
      ]
     },
     "execution_count": 197,
     "metadata": {},
     "output_type": "execute_result"
    },
    {
     "data": {
      "image/png": "[encoded data removed]",
      "text/plain": [
       "<Figure size 360x144 with 1 Axes>"
      ]
     },
     "metadata": {},
     "output_type": "display_data"
    }
   ],
   "source": [
    "a=c=H(0)*X(0)*X(1)*CNOT(0,1)*X(1)*Y(1)**2*X(1)**3*Z(0)**2*X(1)**3\n",
    "circuit_plot(a,nqubits=2)"
   ]
  },
  {
   "cell_type": "code",
   "execution_count": 198,
   "metadata": {},
   "outputs": [
    {
     "data": {
      "text/plain": [
       "<sympy.physics.quantum.circuitplot.CircuitPlot at 0x7f29efbae9d0>"
      ]
     },
     "execution_count": 198,
     "metadata": {},
     "output_type": "execute_result"
    },
    {
     "data": {
      "image/png": "[encoded data removed]",
      "text/plain": [
       "<Figure size 216x144 with 1 Axes>"
      ]
     },
     "metadata": {},
     "output_type": "display_data"
    }
   ],
   "source": [
    "circuit_plot(gate_simp(a),nqubits=2)"
   ]
  },
  {
   "cell_type": "markdown",
   "metadata": {},
   "source": [
    "## Gate decomposition\n",
    "To create a symbolic controlled-Y gate"
   ]
  },
  {
   "cell_type": "code",
   "execution_count": 200,
   "metadata": {},
   "outputs": [
    {
     "data": {
      "image/png": "[encoded data removed]",
      "text/latex": [
       "$\\displaystyle C_{1}{\\left(Y_{0}\\right)}$"
      ],
      "text/plain": [
       "C ⎛Y ⎞\n",
       " 1⎝ 0⎠"
      ]
     },
     "execution_count": 200,
     "metadata": {},
     "output_type": "execute_result"
    }
   ],
   "source": [
    "CY10=CGate(1,Y(0))\n",
    "CY10"
   ]
  },
  {
   "cell_type": "markdown",
   "metadata": {},
   "source": [
    "To decompose into elementary gates and plot it"
   ]
  },
  {
   "cell_type": "code",
   "execution_count": 202,
   "metadata": {},
   "outputs": [
    {
     "data": {
      "image/png": "[encoded data removed]",
      "text/latex": [
       "$\\displaystyle S_{0} CNOT_{1,0} S_{0} Z_{0}$"
      ],
      "text/plain": [
       "S ⋅CNOT   ⋅S ⋅Z \n",
       " 0     1,0  0  0"
      ]
     },
     "execution_count": 202,
     "metadata": {},
     "output_type": "execute_result"
    }
   ],
   "source": [
    "CY10.decompose()"
   ]
  },
  {
   "cell_type": "code",
   "execution_count": 203,
   "metadata": {},
   "outputs": [
    {
     "data": {
      "text/plain": [
       "<sympy.physics.quantum.circuitplot.CircuitPlot at 0x7f29efa61a90>"
      ]
     },
     "execution_count": 203,
     "metadata": {},
     "output_type": "execute_result"
    },
    {
     "data": {
      "image/png": "[encoded data removed]",
      "text/plain": [
       "<Figure size 288x144 with 1 Axes>"
      ]
     },
     "metadata": {},
     "output_type": "display_data"
    }
   ],
   "source": [
    "circuit_plot(CY10.decompose(),nqubits=2)"
   ]
  },
  {
   "cell_type": "code",
   "execution_count": 229,
   "metadata": {},
   "outputs": [],
   "source": [
    "gates=[CGate(1,Y(0)),CGate(1,Z(0)),SWAP(1,0)]"
   ]
  },
  {
   "cell_type": "code",
   "execution_count": 231,
   "metadata": {},
   "outputs": [
    {
     "data": {
      "image/png": "[encoded data removed]",
      "text/latex": [
       "$\\displaystyle C_{1}{\\left(Y_{0}\\right)} = S_{0} CNOT_{1,0} S_{0} Z_{0}$"
      ],
      "text/plain": [
       "C ⎛Y ⎞ = S ⋅CNOT   ⋅S ⋅Z \n",
       " 1⎝ 0⎠    0     1,0  0  0"
      ]
     },
     "metadata": {},
     "output_type": "display_data"
    },
    {
     "data": {
      "image/png": "[encoded data removed]",
      "text/latex": [
       "$\\displaystyle C_{1}{\\left(Z_{0}\\right)} = H_{0} CNOT_{1,0} H_{0}$"
      ],
      "text/plain": [
       "C ⎛Z ⎞ = H ⋅CNOT   ⋅H \n",
       " 1⎝ 0⎠    0     1,0  0"
      ]
     },
     "metadata": {},
     "output_type": "display_data"
    },
    {
     "data": {
      "image/png": "[encoded data removed]",
      "text/latex": [
       "$\\displaystyle SWAP_{1,0} = CNOT_{1,0} CNOT_{0,1} CNOT_{1,0}$"
      ],
      "text/plain": [
       "SWAP    = CNOT   ⋅CNOT   ⋅CNOT   \n",
       "    1,0       1,0     0,1     1,0"
      ]
     },
     "metadata": {},
     "output_type": "display_data"
    },
    {
     "data": {
      "image/png": "[encoded data removed]",
      "text/plain": [
       "<Figure size 144x144 with 1 Axes>"
      ]
     },
     "metadata": {},
     "output_type": "display_data"
    },
    {
     "data": {
      "image/png": "[encoded data removed]",
      "text/plain": [
       "<Figure size 288x144 with 1 Axes>"
      ]
     },
     "metadata": {},
     "output_type": "display_data"
    },
    {
     "data": {
      "image/png": "[encoded data removed]",
      "text/plain": [
       "<Figure size 144x144 with 1 Axes>"
      ]
     },
     "metadata": {},
     "output_type": "display_data"
    },
    {
     "data": {
      "image/png": "[encoded data removed]",
      "text/plain": [
       "<Figure size 216x144 with 1 Axes>"
      ]
     },
     "metadata": {},
     "output_type": "display_data"
    },
    {
     "data": {
      "image/png": "[encoded data removed]",
      "text/plain": [
       "<Figure size 144x144 with 1 Axes>"
      ]
     },
     "metadata": {},
     "output_type": "display_data"
    },
    {
     "data": {
      "image/png": "[encoded data removed]",
      "text/plain": [
       "<Figure size 216x144 with 1 Axes>"
      ]
     },
     "metadata": {},
     "output_type": "display_data"
    }
   ],
   "source": [
    "for g in gates:\n",
    "    dg=g.decompose()\n",
    "    display(Eq(g,dg))\n",
    "    circuit_plot(g,nqubits=2)\n",
    "    circuit_plot(dg,nqubits=2)"
   ]
  },
  {
   "cell_type": "markdown",
   "metadata": {},
   "source": [
    "## Another way of plotting quantum circuits called qasm\n"
   ]
  },
  {
   "cell_type": "markdown",
   "metadata": {},
   "source": [
    "### X-gate test "
   ]
  },
  {
   "cell_type": "code",
   "execution_count": 241,
   "metadata": {},
   "outputs": [
    {
     "data": {
      "text/plain": [
       "<sympy.physics.quantum.circuitplot.CircuitPlot at 0x7f29ef51e910>"
      ]
     },
     "execution_count": 241,
     "metadata": {},
     "output_type": "execute_result"
    },
    {
     "data": {
      "image/png": "[encoded data removed]",
      "text/plain": [
       "<Figure size 144x144 with 1 Axes>"
      ]
     },
     "metadata": {},
     "output_type": "display_data"
    }
   ],
   "source": [
    "CircuitPlot(CNOT(1,0),2)"
   ]
  },
  {
   "cell_type": "code",
   "execution_count": 242,
   "metadata": {},
   "outputs": [
    {
     "data": {
      "text/plain": [
       "<sympy.physics.quantum.circuitplot.CircuitPlot at 0x7f29ef416c10>"
      ]
     },
     "execution_count": 242,
     "metadata": {},
     "output_type": "execute_result"
    },
    {
     "data": {
      "image/png": "[encoded data removed]",
      "text/plain": [
       "<Figure size 72x72 with 1 Axes>"
      ]
     },
     "metadata": {},
     "output_type": "display_data"
    }
   ],
   "source": [
    "CircuitPlot(X(0),1)"
   ]
  },
  {
   "cell_type": "markdown",
   "metadata": {},
   "source": [
    "### Making arbitrary gates\n",
    "\n",
    "It's very easy to create one qubit-gate of our choice"
   ]
  },
  {
   "cell_type": "code",
   "execution_count": 247,
   "metadata": {},
   "outputs": [],
   "source": [
    "Vgate=CreateOneQubitGate('V')\n",
    "sqrtXGate=CreateOneQubitGate('sqrt-x','\\sqrt{X}')"
   ]
  },
  {
   "cell_type": "code",
   "execution_count": 251,
   "metadata": {},
   "outputs": [
    {
     "data": {
      "text/plain": [
       "<sympy.physics.quantum.circuitplot.CircuitPlot at 0x7f29ef54c650>"
      ]
     },
     "execution_count": 251,
     "metadata": {},
     "output_type": "execute_result"
    },
    {
     "data": {
      "image/png": "[encoded data removed]",
      "text/plain": [
       "<Figure size 144x72 with 1 Axes>"
      ]
     },
     "metadata": {},
     "output_type": "display_data"
    }
   ],
   "source": [
    "CircuitPlot(sqrtXGate(0)*Vgate(0),1)"
   ]
  },
  {
   "cell_type": "code",
   "execution_count": 252,
   "metadata": {},
   "outputs": [
    {
     "data": {
      "text/plain": [
       "<sympy.physics.quantum.circuitplot.CircuitPlot at 0x7f29ef688610>"
      ]
     },
     "execution_count": 252,
     "metadata": {},
     "output_type": "execute_result"
    },
    {
     "data": {
      "image/png": "[encoded data removed]",
      "text/plain": [
       "<Figure size 144x144 with 1 Axes>"
      ]
     },
     "metadata": {},
     "output_type": "display_data"
    }
   ],
   "source": [
    "CircuitPlot(sqrtXGate(1)*Vgate(0),2)"
   ]
  },
  {
   "cell_type": "markdown",
   "metadata": {},
   "source": [
    "We can make controled gates with these gates"
   ]
  },
  {
   "cell_type": "code",
   "execution_count": 255,
   "metadata": {},
   "outputs": [
    {
     "data": {
      "text/plain": [
       "<sympy.physics.quantum.circuitplot.CircuitPlot at 0x7f29ef667c10>"
      ]
     },
     "execution_count": 255,
     "metadata": {},
     "output_type": "execute_result"
    },
    {
     "data": {
      "image/png": "[encoded data removed]",
      "text/plain": [
       "<Figure size 144x144 with 1 Axes>"
      ]
     },
     "metadata": {},
     "output_type": "display_data"
    }
   ],
   "source": [
    "CircuitPlot(CGate(1,sqrtXGate(0)),2)"
   ]
  },
  {
   "cell_type": "markdown",
   "metadata": {},
   "source": [
    "### Example1:EPR creation\n",
    "Goal:\n",
    "\n",
    "![EPR creation](test1.png \"EPR creation\")"
   ]
  },
  {
   "cell_type": "code",
   "execution_count": 257,
   "metadata": {},
   "outputs": [
    {
     "data": {
      "text/plain": [
       "<sympy.physics.quantum.circuitplot.CircuitPlot at 0x7f29ef129b90>"
      ]
     },
     "execution_count": 257,
     "metadata": {},
     "output_type": "execute_result"
    },
    {
     "data": {
      "image/png": "[encoded data removed]",
      "text/plain": [
       "<Figure size 144x144 with 1 Axes>"
      ]
     },
     "metadata": {},
     "output_type": "display_data"
    }
   ],
   "source": [
    "CircuitPlot(CNOT(1,0)*H(1),2,labels=labeller(2))"
   ]
  },
  {
   "cell_type": "markdown",
   "metadata": {},
   "source": [
    "We can also plot the `Qasm` version."
   ]
  },
  {
   "cell_type": "code",
   "execution_count": 7,
   "metadata": {},
   "outputs": [
    {
     "data": {
      "image/png": "[encoded data removed]",
      "text/plain": [
       "<Figure size 144x144 with 1 Axes>"
      ]
     },
     "metadata": {},
     "output_type": "display_data"
    }
   ],
   "source": [
    "q=Qasm('qubit 0','qubit 1','h 0','cnot 0,1')\n",
    "q.plot()"
   ]
  },
  {
   "cell_type": "markdown",
   "metadata": {},
   "source": [
    "We can proceed by calling the commands directly"
   ]
  },
  {
   "cell_type": "code",
   "execution_count": 9,
   "metadata": {},
   "outputs": [
    {
     "data": {
      "image/png": "[encoded data removed]",
      "text/plain": [
       "<Figure size 144x144 with 1 Axes>"
      ]
     },
     "metadata": {},
     "output_type": "display_data"
    }
   ],
   "source": [
    "q=Qasm()\n",
    "q.qubit('q_0')\n",
    "q.qubit('q_1')\n",
    "q.h('q_0')\n",
    "q.cnot('q_0','q_1')\n",
    "q.plot()"
   ]
  },
  {
   "cell_type": "markdown",
   "metadata": {},
   "source": [
    "### Example2: Teleportatortation Gate\n",
    "Goal:\n",
    "\n",
    "![Teleporation Gate](test2.png \"Teleporation Gate\")"
   ]
  },
  {
   "cell_type": "code",
   "execution_count": 17,
   "metadata": {},
   "outputs": [
    {
     "data": {
      "text/plain": [
       "<sympy.physics.quantum.circuitplot.CircuitPlot at 0x7f01e8d13f10>"
      ]
     },
     "execution_count": 17,
     "metadata": {},
     "output_type": "execute_result"
    },
    {
     "data": {
      "image/png": "[encoded data removed]",
      "text/plain": [
       "<Figure size 576x216 with 1 Axes>"
      ]
     },
     "metadata": {},
     "output_type": "display_data"
    }
   ],
   "source": [
    "circ=CGate(2,Z(0))*CGate(1,X(0))*Mz(2)*Mz(1)*H(2)*CNOT(2,1)*CNOT(1,0)*H(1)\n",
    "CircuitPlot(circ,3,labels=labeller(3))"
   ]
  },
  {
   "cell_type": "code",
   "execution_count": 18,
   "metadata": {},
   "outputs": [
    {
     "data": {
      "image/png": "[encoded data removed]",
      "text/plain": [
       "<Figure size 576x216 with 1 Axes>"
      ]
     },
     "metadata": {},
     "output_type": "display_data"
    }
   ],
   "source": [
    "q=Qasm('qubit q0','qubit q1','qubit q2', 'h q1',\n",
    "       'cnot q1,q2','cnot q0,q1','h q0','measure q1',\n",
    "       'measure q0', 'c-x q1,q2','c-z q0,q2')\n",
    "q.plot()"
   ]
  },
  {
   "cell_type": "markdown",
   "metadata": {},
   "source": [
    "### Example3: QFT on 3 qubits\n",
    "Goal:\n",
    "\n",
    "![QFT](test3.png \"QFT 3-qubits\")"
   ]
  },
  {
   "cell_type": "code",
   "execution_count": 25,
   "metadata": {},
   "outputs": [
    {
     "data": {
      "text/plain": [
       "<sympy.physics.quantum.circuitplot.CircuitPlot at 0x7f01e9c1d9d0>"
      ]
     },
     "execution_count": 25,
     "metadata": {},
     "output_type": "execute_result"
    },
    {
     "data": {
      "image/png": "[encoded data removed]",
      "text/plain": [
       "<Figure size 504x216 with 1 Axes>"
      ]
     },
     "metadata": {},
     "output_type": "display_data"
    }
   ],
   "source": [
    "CircuitPlot(SWAP(0,2)*H(0)*CGate(0,S(1))*H(1)*CGate(0,T(2))*CGate(1,S(2))*H(2),3,labels=labeller(3,'\\psi'))"
   ]
  },
  {
   "cell_type": "code",
   "execution_count": 11,
   "metadata": {},
   "outputs": [
    {
     "data": {
      "image/png": "[encoded data removed]",
      "text/plain": [
       "<Figure size 504x216 with 1 Axes>"
      ]
     },
     "metadata": {},
     "output_type": "display_data"
    }
   ],
   "source": [
    "# qasm version\n",
    "\n",
    "q=Qasm(\"def   c-S,1,'S'\",\n",
    "     \"def   c-T,2,'T'\",\n",
    "     \"qubit 0\",\n",
    "     \"qubit 1\",\n",
    "     \"qubit 2\",\n",
    "     \"h     0\",\n",
    "     \"c-S   1,0\",\n",
    "     \"c-T   2,0\",\n",
    "     \"nop 1\",\n",
    "     \"h  1\",\n",
    "     \"c-S 2,1\",\n",
    "     \"h  2\",\n",
    "     \"swap 0,2\")  \n",
    "q.plot()"
   ]
  },
  {
   "cell_type": "code",
   "execution_count": 7,
   "metadata": {},
   "outputs": [
    {
     "data": {
      "text/html": [
       "<table><tr><th>Software</th><th>Version</th></tr><tr><td>QuTiP</td><td>4.5.0</td></tr><tr><td>Numpy</td><td>1.18.1</td></tr><tr><td>SciPy</td><td>1.4.1</td></tr><tr><td>matplotlib</td><td>3.1.3</td></tr><tr><td>Cython</td><td>0.29.15</td></tr><tr><td>Number of CPUs</td><td>2</td></tr><tr><td>BLAS Info</td><td>INTEL MKL</td></tr><tr><td>IPython</td><td>7.12.0</td></tr><tr><td>Python</td><td>3.7.6 (default, Jan  8 2020, 19:59:22) \n",
       "[GCC 7.3.0]</td></tr><tr><td>OS</td><td>posix [linux]</td></tr><tr><td colspan='2'>Wed Sep 30 19:44:29 2020 WAT</td></tr></table>"
      ],
      "text/plain": [
       "<IPython.core.display.HTML object>"
      ]
     },
     "execution_count": 7,
     "metadata": {},
     "output_type": "execute_result"
    }
   ],
   "source": [
    "from qutip.ipynbtools import version_table\n",
    "version_table()"
   ]
  }
 ],
 "metadata": {
  "author": "Tutorial 5-Quantum Circuits",
  "kernelspec": {
   "display_name": "Python 3",
   "language": "python",
   "name": "python3"
  },
  "language_info": {
   "codemirror_mode": {
    "name": "ipython",
    "version": 3
   },
   "file_extension": ".py",
   "mimetype": "text/x-python",
   "name": "python",
   "nbconvert_exporter": "python",
   "pygments_lexer": "ipython3",
   "version": "3.8.5"
  },
  "latex_envs": {
   "LaTeX_envs_menu_present": true,
   "autoclose": false,
   "autocomplete": true,
   "bibliofile": "biblio.bib",
   "cite_by": "apalike",
   "current_citInitial": 1,
   "eqLabelWithNumbers": true,
   "eqNumInitial": 1,
   "hotkeys": {
    "equation": "Ctrl-E",
    "itemize": "Ctrl-I"
   },
   "labels_anchors": false,
   "latex_user_defs": false,
   "report_style_numbering": false,
   "user_envs_cfg": false
  },
  "toc": {
   "base_numbering": 1,
   "nav_menu": {},
   "number_sections": true,
   "sideBar": true,
   "skip_h1_title": false,
   "title_cell": "Table of Contents",
   "title_sidebar": "Contents",
   "toc_cell": false,
   "toc_position": {},
   "toc_section_display": true,
   "toc_window_display": false
  }
 },
 "nbformat": 4,
 "nbformat_minor": 4
}
