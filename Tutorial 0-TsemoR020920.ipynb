{
 "cells": [
  {
   "cell_type": "markdown",
   "metadata": {
    "toc": true
   },
   "source": [
    "<h1>Table of Contents<span class=\"tocSkip\"></span></h1>\n",
    "<div class=\"toc\"><ul class=\"toc-item\"><li><span><a href=\"#QuTiP\" data-toc-modified-id=\"QuTiP-1\"><span class=\"toc-item-num\">1&nbsp;&nbsp;</span>QuTiP</a></span><ul class=\"toc-item\"><li><ul class=\"toc-item\"><li><span><a href=\"#Presentation\" data-toc-modified-id=\"Presentation-1.0.1\"><span class=\"toc-item-num\">1.0.1&nbsp;&nbsp;</span>Presentation</a></span></li><li><span><a href=\"#Why-choosing-Python-and-what-is-Python-?\" data-toc-modified-id=\"Why-choosing-Python-and-what-is-Python-?-1.0.2\"><span class=\"toc-item-num\">1.0.2&nbsp;&nbsp;</span>Why choosing Python and what is Python ?</a></span></li><li><span><a href=\"#About-Scipy\" data-toc-modified-id=\"About-Scipy-1.0.3\"><span class=\"toc-item-num\">1.0.3&nbsp;&nbsp;</span>About Scipy</a></span></li><li><span><a href=\"#About-Numpy\" data-toc-modified-id=\"About-Numpy-1.0.4\"><span class=\"toc-item-num\">1.0.4&nbsp;&nbsp;</span>About Numpy</a></span></li><li><span><a href=\"#About-Matplotlib\" data-toc-modified-id=\"About-Matplotlib-1.0.5\"><span class=\"toc-item-num\">1.0.5&nbsp;&nbsp;</span>About Matplotlib</a></span></li><li><span><a href=\"#About-SymPy\" data-toc-modified-id=\"About-SymPy-1.0.6\"><span class=\"toc-item-num\">1.0.6&nbsp;&nbsp;</span>About SymPy</a></span></li></ul></li><li><span><a href=\"#Installation-of-QuTiP\" data-toc-modified-id=\"Installation-of-QuTiP-1.1\"><span class=\"toc-item-num\">1.1&nbsp;&nbsp;</span>Installation of QuTiP</a></span><ul class=\"toc-item\"><li><span><a href=\"#Platform-independant-installation\" data-toc-modified-id=\"Platform-independant-installation-1.1.1\"><span class=\"toc-item-num\">1.1.1&nbsp;&nbsp;</span>Platform-independant installation</a></span></li><li><span><a href=\"#Installing-via-pip\" data-toc-modified-id=\"Installing-via-pip-1.1.2\"><span class=\"toc-item-num\">1.1.2&nbsp;&nbsp;</span>Installing via pip</a></span></li><li><span><a href=\"#Installing-from-source\" data-toc-modified-id=\"Installing-from-source-1.1.3\"><span class=\"toc-item-num\">1.1.3&nbsp;&nbsp;</span>Installing from source</a></span></li><li><span><a href=\"#Verifying-the-installation\" data-toc-modified-id=\"Verifying-the-installation-1.1.4\"><span class=\"toc-item-num\">1.1.4&nbsp;&nbsp;</span>Verifying the installation</a></span></li><li><span><a href=\"#Checking-the-version-installation\" data-toc-modified-id=\"Checking-the-version-installation-1.1.5\"><span class=\"toc-item-num\">1.1.5&nbsp;&nbsp;</span>Checking the version installation</a></span></li></ul></li></ul></li><li><span><a href=\"#Jupyter-Notebook\" data-toc-modified-id=\"Jupyter-Notebook-2\"><span class=\"toc-item-num\">2&nbsp;&nbsp;</span>Jupyter Notebook</a></span><ul class=\"toc-item\"><li><ul class=\"toc-item\"><li><span><a href=\"#Presentation\" data-toc-modified-id=\"Presentation-2.0.1\"><span class=\"toc-item-num\">2.0.1&nbsp;&nbsp;</span>Presentation</a></span><ul class=\"toc-item\"><li><span><a href=\"#Main-features-of-web-applicant-component\" data-toc-modified-id=\"Main-features-of-web-applicant-component-2.0.1.1\"><span class=\"toc-item-num\">2.0.1.1&nbsp;&nbsp;</span>Main features of web applicant component</a></span></li></ul></li></ul></li><li><span><a href=\"#Markdown-and-its-commands\" data-toc-modified-id=\"Markdown-and-its-commands-2.1\"><span class=\"toc-item-num\">2.1&nbsp;&nbsp;</span>Markdown and its commands</a></span><ul class=\"toc-item\"><li><ul class=\"toc-item\"><li><span><a href=\"#Basic-syntaxes-of-Markdown\" data-toc-modified-id=\"Basic-syntaxes-of-Markdown-2.1.0.1\"><span class=\"toc-item-num\">2.1.0.1&nbsp;&nbsp;</span>Basic syntaxes of Markdown</a></span></li></ul></li></ul></li><li><span><a href=\"#LaTeX-and-its-commands\" data-toc-modified-id=\"LaTeX-and-its-commands-2.2\"><span class=\"toc-item-num\">2.2&nbsp;&nbsp;</span>LaTeX and its commands</a></span></li></ul></li></ul></div>"
   ]
  },
  {
   "cell_type": "markdown",
   "metadata": {},
   "source": [
    "\\title{Tutorial 0- What is QuTiP and Jupyter Notebook} \\author{Tsemo Peniel Bertrand-August 22th 2020} \\maketitle{}"
   ]
  },
  {
   "cell_type": "markdown",
   "metadata": {},
   "source": [
    "Simulating quantum systems is very important in quantum physics because it allows to save up much time. The advantage physicians have is that we already have computers we can use to do those simulations. To help for the implementation of quantum physics, physicians like J.R Johansson and P.Nation set on foot a quantum library written in python called QuTiP (Quantum Toolbox in Python) which quantum physicians can use like a luggage containing kind of *quantum objects* quantum physicians need to work in python platforms. In order to use QuTiP library, there is a very interactive open-source web applicant called Jupyter Notebook that allows to create and share notebook containing code, equations, graphics, text and so on."
   ]
  },
  {
   "cell_type": "markdown",
   "metadata": {},
   "source": [
    "# QuTiP"
   ]
  },
  {
   "cell_type": "markdown",
   "metadata": {},
   "source": [
    "   ###  Presentation\n",
    " QuTiP is a very interesting software for simulating quantum systems using quantum elements (ket, bras operators...) as objects. Using QuTiP, we can simulate arbitrary time-evolution quantum systems. Indeed QuTiP is very interesting library in the domain of quantum optics, ion-trap, superconducting systems  .... QuTiP uses many numerical packages that are very important for his functions. We can cite Numpy generally for plotting and easily manipulate arrays , Scipy for scientific algorithms and Matplotlib for plotting graphs. "
   ]
  },
  {
   "cell_type": "markdown",
   "metadata": {},
   "source": [
    "###  Why choosing Python and what is Python ?"
   ]
  },
  {
   "cell_type": "markdown",
   "metadata": {},
   "source": [
    "Python is a interpreted programming language that we can use on several platforms.it aims for object oriented objet programmation. Python language is is placed under free licence and in available on smartphones and portable computers. It was designed for informatic developpers to product high-levels tools based on a simple syntax.\n",
    "Python is also used by teachers because it is simple and allow entering in the world of programmation really step by step."
   ]
  },
  {
   "cell_type": "markdown",
   "metadata": {},
   "source": [
    "###  About Scipy"
   ]
  },
  {
   "cell_type": "markdown",
   "metadata": {},
   "source": [
    "`Scipy`, also called the *Scipy project* is a frame work build to construct high-level scientific algorithms. like integrations, manipulating special functions, interpolation and so on. To do complex computations, Scipy uses various submodules that provides classes and functions that used can be used to solve specific problems.\n",
    "To load the Scipy module, one should type the command `from scipy import*`"
   ]
  },
  {
   "cell_type": "markdown",
   "metadata": {},
   "source": [
    "###  About Numpy"
   ]
  },
  {
   "cell_type": "markdown",
   "metadata": {},
   "source": [
    "   `Numpy` is a package that is used for high numerical computation using python. The module Numpy performs vectorized calculations (calculations using vectors and matrices) by using arrays as mathematical objects.\n",
    "   To load the Scipy module, one should type the command `from numpy import*`"
   ]
  },
  {
   "cell_type": "markdown",
   "metadata": {},
   "source": [
    "### About Matplotlib"
   ]
  },
  {
   "cell_type": "markdown",
   "metadata": {},
   "source": [
    "   `Matplotlib` is an very interesting module for generating 2D and 3D graphics. Matplotlib is recognized bacause it is very easy to get started even with those who just begin programming in python. Using Matplotlib, we can programmatically control all aspects of our graphics. It gives many advantages by plotting figures with Matplotlib, among others:\n",
    "   - Use $\\LaTeX$ labels and texts.\n",
    "   - Plotting figures in different formats (PNG, JPG, PDF, SVG...)\n",
    "   - Control of every elements in a figure\n",
    "To load the matplotlib module, we use the command same than other module `from matplotlib import*`. Taht is wht we do first. Secondly, we include symbols using the command `from pylab import*` or the command `import matplotlib.pyplot as plt`."
   ]
  },
  {
   "cell_type": "markdown",
   "metadata": {},
   "source": [
    "###  About SymPy"
   ]
  },
  {
   "cell_type": "markdown",
   "metadata": {},
   "source": [
    "`Sympy` is a Python library which was created for symbolic mathematics. In Sympy, it is not about to manipulate numerical values but to manipulate symbols, formulas and get symbolic developpements."
   ]
  },
  {
   "cell_type": "markdown",
   "metadata": {},
   "source": [
    "## Installation of QuTiP"
   ]
  },
  {
   "cell_type": "markdown",
   "metadata": {},
   "source": [
    "As we said upper, QuTiP need installation of many others packages for better scientific computations in the Python language. These packages are `Scipy`, `Numpy`, `Matplotlib`, `SymPy`, `C++ Compiler`, `Python`, `Python Headers`, `Cython`. And for additionnal functionnalities `LateX` and `pytest`. There are several methods that one can use to install QuTiP depending or independing on the platform used."
   ]
  },
  {
   "cell_type": "markdown",
   "metadata": {},
   "source": [
    "###  Platform-independant installation"
   ]
  },
  {
   "cell_type": "markdown",
   "metadata": {},
   "source": [
    "QuTiP works either on Anaconda or Python distrbution which support the conda package management. When one ha already installed the anaconda environment and have already defined the **conda-forge**, channel, just type `conda install qutip`.\n",
    "If there is not a conda environment installed, we have to build a conda environment to install QuTiP. To create a **qutip-env** (QuTiP environemnt), type `conda create -n qutip-env python=3` and for installing all the recommended packages, type: `conda install numpy scipy cython pytest pytest-cov matplotlib`.\n",
    "If one have conda 4.1.0 or later, you will have to add the **conda-forge** channel using the command `conda config --append channels conda-forge` or just update conda using `conda update conda` command."
   ]
  },
  {
   "cell_type": "markdown",
   "metadata": {},
   "source": [
    "###  Installing via pip"
   ]
  },
  {
   "cell_type": "markdown",
   "metadata": {},
   "source": [
    "For me, it is the easiest way to install QuTiP. You just have to type `pip install qutip`."
   ]
  },
  {
   "cell_type": "markdown",
   "metadata": {},
   "source": [
    "###   Installing from source"
   ]
  },
  {
   "cell_type": "markdown",
   "metadata": {},
   "source": [
    "Assured that all the dependencies of QuTiP are already installed, we install QuTiP from the source code by typing `python setup.py install`."
   ]
  },
  {
   "cell_type": "markdown",
   "metadata": {},
   "source": [
    "### Verifying the installation "
   ]
  },
  {
   "cell_type": "markdown",
   "metadata": {},
   "source": [
    "In order to verify of all QuTiP functionnalities are working properly, we can type:\n",
    "\n",
    "`import.testing as qt`\n",
    "\n",
    "`qt.run()`"
   ]
  },
  {
   "cell_type": "markdown",
   "metadata": {},
   "source": [
    "If this is successfull, we can do final step of the installation of QuTiP which is checking the version information."
   ]
  },
  {
   "cell_type": "markdown",
   "metadata": {},
   "source": [
    "###  Checking the version installation "
   ]
  },
  {
   "cell_type": "markdown",
   "metadata": {},
   "source": [
    "To have information about QuTiP and verifying that all the important dependencies which are instaled on our system. We use the commands:\n",
    "   \n",
    " `from qutip import*`\n",
    " \n",
    "  `about()`"
   ]
  },
  {
   "cell_type": "markdown",
   "metadata": {},
   "source": [
    "# Jupyter Notebook\n",
    "\n",
    "###  Presentation\n",
    "\n",
    "Jupyter Notebook is an open-source interface used to create scientific notebooks. These scientific notebooks can contain code, text, figures, graphics, equations and can be shared between many collaborators using different platforms like GitHub.\n",
    "In Jupyter notebook, we can type use about 40 programming languages (Python, R, Julia, Scala...). It can produce differents types of outputs: HTML, images, videos, Latex and so on .\n",
    "Jupyter Notebook have two qualifications:\n",
    " - It is a web application: A toot based on a browser which allows interactive scientific computations including texts , figures and mathematical expressions.\n",
    " - A notebook: It represents all all whazt can be represented in a web applicationi ncluding imges, texts, equations...\n",
    " \n",
    " #### Main features of web applicant component\n",
    " \n",
    " \n",
    " - In browser editing for code, with automatic syntax highlighting, indentation and tab completion/introspection.\n",
    " - The ability to execute code from the browser, with the results of computations attached to the code which generated them.\n",
    " - Displaying the result of computation using rich media representations, such as HTML, LaTeX, PNG, SVG, etc. For example, publication-quality figures rendered by the matplotlib library, can be included inline.\n",
    " - In-browser editing for rich text using the Markdown markup language, which can provide commentary for the code, is not limited to plain text.\n",
    " - The ability to easily include mathematical notation within markdown cells using LaTeX, and rendered natively by MathJax.\n",
    "  \n",
    "##   Markdown and its commands\n",
    " \n",
    " `Markdown` is a markup lightweight language . It is used in jupyter Notebook to create nice looking documents wth a small number of commands. Its goal is to offer a very easy syntax for reading and writting.\n",
    " \n",
    " #### Basic syntaxes of Markdown\n",
    " the basic syntaxes of Markdown.\n",
    " - **Headings**:  # Heading, ## sub-heading , ### subsub-heading\n",
    " - **Bold text**: ** My text in bold  **\n",
    " - **Italic text**: * My text in italic *\n",
    " - **Odered list**: 1.first item, 2.Second item ...\n",
    " - **Unorderd list**: -Fisrt item, -second item....\n",
    "\n",
    " \n",
    "## LaTeX and its commands"
   ]
  },
  {
   "cell_type": "markdown",
   "metadata": {},
   "source": [
    "`LaTeX` which is pronounced Lah-tech or Lay-tech is a programmation language which is used to programm high quality documnents with an very impressive typesetting. it can be used for producing alomost all types of documents. The princuple of LaTex which is completely different compared with Microsft is authors don't really worry about appearance of their documents, but to focus on the content. It idea is to leave the document appearance to designers and to concentrate on writing the document. In LateX, you tell what you tells what you want using command and get the result of your request.\n",
    "\n",
    "laTeX has many features among others:\n",
    "- Produce many types of documents (articles, technical reports, books, slide presentations)\n",
    "- typesetting of complex mathematical formulas\n",
    "- automatic generation of bibliographies, table of contents, indexes\n",
    "- Multi-lingual typesetting\n",
    "\n",
    "LateX uses many commands to recognize what what the user ask for . Some of those commands are:\n",
    "- `$ $` to write mathematics equations\n",
    "- `\\textit{#argument}` to write text in italic\n",
    "- `\\title{#}` to write title of the document.\n",
    "- `\\author{#}` for the name of the author\n",
    "- `\\frac{#1}{#2}` to write fractions\n",
    "- `^` to write at the of power of something\n",
    "- `\\sqrt(#}` to write the square root of something\n",
    "\n",
    " The list of $\\LaTeX$ commands is far to the comprehensive"
   ]
  },
  {
   "cell_type": "code",
   "execution_count": null,
   "metadata": {},
   "outputs": [],
   "source": [
    "from qutip.ipynbtools import version_table\n",
    "version_table()"
   ]
  }
 ],
 "metadata": {
  "author": "#",
  "kernelspec": {
   "display_name": "Python 3",
   "language": "python",
   "name": "python3"
  },
  "language_info": {
   "codemirror_mode": {
    "name": "ipython",
    "version": 3
   },
   "file_extension": ".py",
   "mimetype": "text/x-python",
   "name": "python",
   "nbconvert_exporter": "python",
   "pygments_lexer": "ipython3",
   "version": "3.8.5"
  },
  "latex_envs": {
   "LaTeX_envs_menu_present": true,
   "autoclose": true,
   "autocomplete": true,
   "bibliofile": "biblio.bib",
   "cite_by": "apalike",
   "current_citInitial": 1,
   "eqLabelWithNumbers": true,
   "eqNumInitial": 1,
   "hotkeys": {
    "equation": "Ctrl-E",
    "itemize": "Ctrl-I"
   },
   "labels_anchors": false,
   "latex_user_defs": false,
   "report_style_numbering": true,
   "user_envs_cfg": true
  },
  "toc": {
   "base_numbering": 1,
   "nav_menu": {},
   "number_sections": true,
   "sideBar": true,
   "skip_h1_title": false,
   "title_cell": "Table of Contents",
   "title_sidebar": "Contents",
   "toc_cell": true,
   "toc_position": {},
   "toc_section_display": true,
   "toc_window_display": false
  }
 },
 "nbformat": 4,
 "nbformat_minor": 4
}
