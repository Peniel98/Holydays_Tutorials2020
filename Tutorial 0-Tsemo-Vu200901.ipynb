{
 "cells": [
  {
   "cell_type": "markdown",
   "metadata": {
    "collapsed": false
   },
   "source": [
    "\\title{Tutorial 0- What is QuTiP and Jupyter Notebook} \\author{Tsemo Peniel Bertrand-August 22th 2020} \\maketitle"
   ]
  },
  {
   "cell_type": "markdown",
   "metadata": {
    "collapsed": false
   },
   "source": [
    " In what follows, we will give a brief overview on QuTiP and Jupyter Notebook\n",
    " "
   ]
  },
  {
   "cell_type": "markdown",
   "metadata": {
    "collapsed": false
   },
   "source": [
    "<span class=\"burk\">\n",
    "    1. Très insuffisante comme introduction\n",
    "\n",
    "2. Bien gerer les titres (ôter la numerotation inutile)\n",
    "\n",
    "3. Autant que possible, indiquer les commandes ainsi:\n",
    "> `commande`\n",
    "\n",
    "4. Enrichir la presentation avec des images quand c'est possible\n",
    "\n",
    "5. Pour ce qui du LaTeX, se limiter à ce que Jupyter Notebook accepte!</span>"
   ]
  },
  {
   "cell_type": "markdown",
   "metadata": {
    "collapsed": false
   },
   "source": [
    "# QuTiP"
   ]
  },
  {
   "cell_type": "markdown",
   "metadata": {
    "collapsed": false
   },
   "source": [
    "   ###  1. Presentation\n",
    " QuTiP is a very interesting software for simulating quantum systems using quantum elements (ket, bras operators...) as objects. Using QuTiP, we can simulate arbitrary time-evolution quantum systems. Indeed QuTiP is very interesting library in the domain of quantum optics, ion-trap, superconducting systems  .... QuTiP uses many numerical packages that are very important for his functions. We can cite Numpy generally for plotting and easily manipulate arrays , Scipy for scientific algorithms and Matplotlib for plotting graphs. "
   ]
  },
  {
   "cell_type": "markdown",
   "metadata": {
    "collapsed": false
   },
   "source": [
    "### 1.1. Why choosing Python and what is Python ?"
   ]
  },
  {
   "cell_type": "markdown",
   "metadata": {
    "collapsed": false
   },
   "source": [
    "Python is a interpreted programming language that we can use on several platforms.it aims for object oriented objet programmation. Python language is is placed under free licence and in available on smartphones and portable computers. It was designed for informatic developpers to product high-levels tools based on a simple syntax.\n",
    "Python is also used by teachers because it is simple and allow entering in the world of programmation really step by step."
   ]
  },
  {
   "cell_type": "markdown",
   "metadata": {
    "collapsed": false
   },
   "source": [
    "### 1.2. About Scipy"
   ]
  },
  {
   "cell_type": "markdown",
   "metadata": {
    "collapsed": false
   },
   "source": [
    "`Scipy`, also called the *Scipy project* is a frame work build to construct high-level scientific algorithms. like integrations, manipulating special functions, interpolation and so on. To do complex computations, Scipy uses various submodules that provides classes and functions that used can be used to solve specific problems.\n",
    "To load the Scipy module, one should type the command `from scipy import*`"
   ]
  },
  {
   "cell_type": "markdown",
   "metadata": {
    "collapsed": false
   },
   "source": [
    "### 1.3. About Numpy"
   ]
  },
  {
   "cell_type": "markdown",
   "metadata": {
    "collapsed": false
   },
   "source": [
    "   `Numpy` is a package that is used for high numerical computation using python. The module Numpy performs vectorized calculations (calculations using vectors and matrices) by using arrays as mathematical objects.\n",
    "   To load the Scipy module, one should type the command `from numpy import*`"
   ]
  },
  {
   "cell_type": "markdown",
   "metadata": {
    "collapsed": false
   },
   "source": [
    "### 1.4. About Matplotlib"
   ]
  },
  {
   "cell_type": "markdown",
   "metadata": {
    "collapsed": false
   },
   "source": [
    "   `Matplotlib` is an very interesting module for generating 2D and 3D graphics. Matplotlib is recognized bacause it is very easy to get started even with those who just begin programming in python. Using Matplotlib, we can programmatically control all aspects of our graphics. It gives many advantages by plotting figures with Matplotlib, among others:\n",
    "   - Use $\\LaTeX$ labels and texts.\n",
    "   - Plotting figures in different formats (PNG, JPG, PDF, SVG...)\n",
    "   - Control of every elements in a figure\n",
    "To load the matplotlib module, we use the command same than other module `fr\n",
    "om matplotlib import*`. Taht is wht we do first. Secondly, we include symbols using the command `from pylab import*` or the command `import matplotlib.pyplot as plt`."
   ]
  },
  {
   "cell_type": "markdown",
   "metadata": {
    "collapsed": false
   },
   "source": [
    "### 1.5. About SymPy"
   ]
  },
  {
   "cell_type": "markdown",
   "metadata": {
    "collapsed": false
   },
   "source": [
    "`SymPy` is a Python library which was created for symbolic mathematics. "
   ]
  },
  {
   "cell_type": "markdown",
   "metadata": {
    "collapsed": false
   },
   "source": [
    "## 2. Installation of QuTiP"
   ]
  },
  {
   "cell_type": "markdown",
   "metadata": {
    "collapsed": false
   },
   "source": [
    "As we said upper, QuTiP need installation of many others packages for better scientific computations in the Python language. These packages are `Scipy`, `Numpy`, `Matplotlib`, `SymPy`, `C++ Compiler`, `Python`, `Python Headers`, `Cython`. And for additionnal functionnalities `LateX` and `pytest`. There are several methods that one can use to install QuTiP depending or independing on the platform used."
   ]
  },
  {
   "cell_type": "markdown",
   "metadata": {
    "collapsed": false
   },
   "source": [
    "### 2.1. Platform-independant installation"
   ]
  },
  {
   "cell_type": "markdown",
   "metadata": {
    "collapsed": false
   },
   "source": [
    "QuTiP works either on Anaconda or Python distrbution which support the conda package management. When one ha already installed the anaconda environment and have already defined the **conda-forge**, channel, just type `conda install qutip`.\n",
    "If there is not a conda environment installed, we have to build a conda environment to install QuTiP. To create a **qutip-env** (QuTiP environemnt), type `conda create -n qutip-env python=3` and for installing all the recommended packages, type: `conda install numpy scipy cython pytest pytest-cov matplotlib`.\n",
    "If one have conda 4.1.0 or later, you will have to add the **conda-forge** channel using the command `conda config --append channels conda-forge` or just update conda using `conda update conda` command."
   ]
  },
  {
   "cell_type": "markdown",
   "metadata": {
    "collapsed": false
   },
   "source": [
    "### 2.2. Installing via pip"
   ]
  },
  {
   "cell_type": "markdown",
   "metadata": {
    "collapsed": false
   },
   "source": [
    "For me, it is the easiest way to install QuTiP. You just have to type `pip install qutip`."
   ]
  },
  {
   "cell_type": "markdown",
   "metadata": {
    "collapsed": false
   },
   "source": [
    "###  2.3. Installing from source"
   ]
  },
  {
   "cell_type": "markdown",
   "metadata": {
    "collapsed": false
   },
   "source": [
    "Assured that all the dependencies of QuTiP are already installed, we install QuTiP from the source code by typing `python setup.py install`."
   ]
  },
  {
   "cell_type": "markdown",
   "metadata": {
    "collapsed": false
   },
   "source": [
    "### 2.4. Verifying the installation "
   ]
  },
  {
   "cell_type": "markdown",
   "metadata": {
    "collapsed": false
   },
   "source": [
    "In order to verify of all QuTiP functionnalities are working properly, we can type:\n",
    "\n",
    "`import.testing as qt`\n",
    "\n",
    "`qt.run()`"
   ]
  },
  {
   "cell_type": "markdown",
   "metadata": {
    "collapsed": false
   },
   "source": [
    "If this is successfull, we can do final step of the installation of QuTiP which is checking the version information."
   ]
  },
  {
   "cell_type": "markdown",
   "metadata": {
    "collapsed": false
   },
   "source": [
    "### 2.5. Checking the version installation "
   ]
  },
  {
   "cell_type": "markdown",
   "metadata": {
    "collapsed": false
   },
   "source": [
    "To have information about QuTiP and verifying that all the important dependencies which are instaled on our system. We use the commands:\n",
    "   \n",
    " `from qutip import*`\n",
    " \n",
    "  `about()`"
   ]
  },
  {
   "cell_type": "markdown",
   "metadata": {
    "collapsed": false
   },
   "source": [
    "## Jupyter Notebook\n",
    "\n",
    "### 1. Presentation\n",
    "\n",
    "Jupyter Notebook is an open-source interface used to create scientific notebooks. These scientific notebooks can contain code, text, figures, graphics, equations and can be shared between many collaborators using different platforms like GitHub.\n",
    "In Jupyter notebook, we can type use about 40 programming languages (Python, R, Julia, Scala...). It can produce differents types of outputs: HTML, images, videos, Latex and so on .\n",
    "Jupyter Notebook have two qualifications:\n",
    " - It is a web application: A toot based on a browser which allows interactive scientific computations including texts , figures and mathematical expressions.\n",
    " - A notebook: It represents all all whazt can be represented in a web applicationi ncluding imges, texts, equations...\n",
    " \n",
    " #### Main features of web applicant component\n",
    " \n",
    " \n",
    " - In browser editing for code, with automatic syntax highlighting, indentation and tab completion/introspection.\n",
    " - The ability to execute code from the browser, with the results of computations attached to the code which generated them.\n",
    " - Displaying the result of computation using rich media representations, such as HTML, LaTeX, PNG, SVG, etc. For example, publication-quality figures rendered by the matplotlib library, can be included inline.\n",
    " - In-browser editing for rich text using the Markdown markup language, which can provide commentary for the code, is not limited to plain text.\n",
    " - The ability to easily include mathematical notation within markdown cells using LaTeX, and rendered natively by MathJax.\n",
    "  \n",
    "###  2. Markdown and its commands\n",
    " \n",
    " `Markdown` is a markup lightweight language . It is used in jupyter Notebook to create nice looking documents wth a small number of commands. Its goal is to offer a very easy syntax for reading and writting.\n",
    " \n",
    " #### Basic syntaxes of Markdown\n",
    " the basic syntaxes of Markdown.\n",
    " - **Headings**:  # Heading, ## sub-heading , ### subsub-heading\n",
    " - **Bold text**: ** My text in bold  **\n",
    " - **Italic text**: * My text in italic *\n",
    " - **Odered list**: 1.first item, 2.Second item ...\n",
    " - **Unorderd list**: -Fisrt item, -second item....\n",
    "\n",
    " \n",
    "### 3. Latex and its comands"
   ]
  },
  {
   "cell_type": "markdown",
   "metadata": {
    "collapsed": false
   },
   "source": [
    "`LaTeX` which is pronounced Lah-tech or Lay-tech is a programmation language which is used to programm high quality documnents with an very impressive typesetting. it can be used for producing alomost all types of documents. The princuple of LaTex which is completely different compared with Microsft is authors don't really worry about appearance of their documents, but to focus on the content. It idea is to leave the document appearance to designers and to concentrate on writing the document. In LateX, you tell what you tells what you want using command and get the result of your request.\n",
    "\n",
    "laTeX has many features among others:\n",
    "- Produce many types of documents (articles, technical reports, books, slide presentations)\n",
    "- typesetting of complex mathematical formulas\n",
    "- automatic generation of bibliographies, table of contents, indexes\n",
    "- Multi-lingual typesetting\n",
    "\n",
    "LateX uses many commands to recognize what what the user ask for . Some of those commands are:\n",
    "- `\\documentclass{argument}` to indicate what type of document is going to be produced\n",
    "- `\\usepackage{#argument}` to call library \n",
    "- `\\begin{#environment}#### \\end{environment}` to use call special environemnt\n",
    "- $ $ to write mathematics\n",
    "- `\\bfseries{#argument}` to write text in bold\n",
    "- `\\textit{#argument}` to write text in italic\n",
    "- `%#%` to write comments\n",
    "- `\\title{#}` to write title of the document.\n",
    "- `\\author{#}` for the name of the author\n",
    "- `\\begin{document} #### \\end{document}` to write the content of the document}"
   ]
  },
  {
   "cell_type": "code",
   "execution_count": 0,
   "metadata": {
    "collapsed": false
   },
   "outputs": [
   ],
   "source": [
    "from qutip.ipynbtools import version_table\n",
    "version_table()"
   ]
  }
 ],
 "metadata": {
  "author": "Tutorial 0- What is QuTiP and Jupyter Notebook",
  "kernelspec": {
   "display_name": "Python 3 (system-wide)",
   "language": "python",
   "metadata": {
    "cocalc": {
     "description": "Python 3 programming language",
     "priority": 100,
     "url": "https://www.python.org/"
    }
   },
   "name": "python3"
  },
  "language_info": {
   "codemirror_mode": {
    "name": "ipython",
    "version": 3
   },
   "file_extension": ".py",
   "mimetype": "text/x-python",
   "name": "python",
   "nbconvert_exporter": "python",
   "pygments_lexer": "ipython3",
   "version": "3.8.2"
  },
  "latex_envs": {
   "LaTeX_envs_menu_present": true,
   "autoclose": false,
   "autocomplete": true,
   "bibliofile": "biblio.bib",
   "cite_by": "apalike",
   "current_citInitial": 1,
   "eqLabelWithNumbers": true,
   "eqNumInitial": 1,
   "hotkeys": {
    "equation": "Ctrl-E",
    "itemize": "Ctrl-I"
   },
   "labels_anchors": false,
   "latex_user_defs": false,
   "report_style_numbering": false,
   "user_envs_cfg": false
  },
  "toc": {
   "base_numbering": 1,
   "nav_menu": {
   },
   "number_sections": true,
   "sideBar": true,
   "skip_h1_title": false,
   "title_cell": "Table of Contents",
   "title_sidebar": "Contents",
   "toc_cell": false,
   "toc_position": {
   },
   "toc_section_display": true,
   "toc_window_display": false
  }
 },
 "nbformat": 4,
 "nbformat_minor": 4
}