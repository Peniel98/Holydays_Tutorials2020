{
 "cells": [
  {
   "cell_type": "markdown",
   "metadata": {
    "toc": true
   },
   "source": [
    "<h1>Table of Contents<span class=\"tocSkip\"></span></h1>\n",
    "<div class=\"toc\"><ul class=\"toc-item\"><li><span><a href=\"#Basic-operations-on-quantum-objects\" data-toc-modified-id=\"Basic-operations-on-quantum-objects-1\"><span class=\"toc-item-num\">1&nbsp;&nbsp;</span>Basic operations on quantum objects</a></span><ul class=\"toc-item\"><li><span><a href=\"#Creating-quantum-objects-and-consulting-their-properties\" data-toc-modified-id=\"Creating-quantum-objects-and-consulting-their-properties-1.1\"><span class=\"toc-item-num\">1.1&nbsp;&nbsp;</span>Creating quantum objects and consulting their properties</a></span></li></ul></li><li><span><a href=\"#Calculations-with-Qobjects\" data-toc-modified-id=\"Calculations-with-Qobjects-2\"><span class=\"toc-item-num\">2&nbsp;&nbsp;</span>Calculations with Qobjects</a></span></li><li><span><a href=\"#States-and-operators\" data-toc-modified-id=\"States-and-operators-3\"><span class=\"toc-item-num\">3&nbsp;&nbsp;</span>States and operators</a></span><ul class=\"toc-item\"><li><span><a href=\"#States\" data-toc-modified-id=\"States-3.1\"><span class=\"toc-item-num\">3.1&nbsp;&nbsp;</span>States</a></span></li><li><span><a href=\"#Density-matrices\" data-toc-modified-id=\"Density-matrices-3.2\"><span class=\"toc-item-num\">3.2&nbsp;&nbsp;</span>Density matrices</a></span></li><li><span><a href=\"#Operators\" data-toc-modified-id=\"Operators-3.3\"><span class=\"toc-item-num\">3.3&nbsp;&nbsp;</span>Operators</a></span><ul class=\"toc-item\"><li><span><a href=\"#Qubit(two-level)-system-operators\" data-toc-modified-id=\"Qubit(two-level)-system-operators-3.3.1\"><span class=\"toc-item-num\">3.3.1&nbsp;&nbsp;</span>Qubit(two-level) system operators</a></span></li><li><span><a href=\"#Harmonix-oscillator-operators\" data-toc-modified-id=\"Harmonix-oscillator-operators-3.3.2\"><span class=\"toc-item-num\">3.3.2&nbsp;&nbsp;</span>Harmonix oscillator operators</a></span></li></ul></li><li><span><a href=\"#Expectation-values\" data-toc-modified-id=\"Expectation-values-3.4\"><span class=\"toc-item-num\">3.4&nbsp;&nbsp;</span>Expectation values</a></span></li><li><span><a href=\"#projections\" data-toc-modified-id=\"projections-3.5\"><span class=\"toc-item-num\">3.5&nbsp;&nbsp;</span>projections</a></span></li></ul></li><li><span><a href=\"#Composite-systems\" data-toc-modified-id=\"Composite-systems-4\"><span class=\"toc-item-num\">4&nbsp;&nbsp;</span>Composite systems</a></span></li><li><span><a href=\"#Manipulating-states-and-operators\" data-toc-modified-id=\"Manipulating-states-and-operators-5\"><span class=\"toc-item-num\">5&nbsp;&nbsp;</span>Manipulating states and operators</a></span><ul class=\"toc-item\"><li><span><a href=\"#States-vectors-(kets-or-bras)\" data-toc-modified-id=\"States-vectors-(kets-or-bras)-5.1\"><span class=\"toc-item-num\">5.1&nbsp;&nbsp;</span>States vectors (kets or bras)</a></span></li></ul></li><li><span><a href=\"#Manipulating-$\\mt{PAULI}$-operators-with-Sympy\" data-toc-modified-id=\"Manipulating-$\\mt{PAULI}$-operators-with-Sympy-6\"><span class=\"toc-item-num\">6&nbsp;&nbsp;</span>Manipulating $\\mt{PAULI}$ operators with Sympy</a></span><ul class=\"toc-item\"><li><span><a href=\"#HTML-table\" data-toc-modified-id=\"HTML-table-6.1\"><span class=\"toc-item-num\">6.1&nbsp;&nbsp;</span>HTML table</a></span><ul class=\"toc-item\"><li><span><a href=\"#Matrix-representations\" data-toc-modified-id=\"Matrix-representations-6.1.1\"><span class=\"toc-item-num\">6.1.1&nbsp;&nbsp;</span>Matrix representations</a></span></li><li><span><a href=\"#Commutators\" data-toc-modified-id=\"Commutators-6.1.2\"><span class=\"toc-item-num\">6.1.2&nbsp;&nbsp;</span>Commutators</a></span></li><li><span><a href=\"#Adjoint\" data-toc-modified-id=\"Adjoint-6.1.3\"><span class=\"toc-item-num\">6.1.3&nbsp;&nbsp;</span>Adjoint</a></span></li><li><span><a href=\"#powers\" data-toc-modified-id=\"powers-6.1.4\"><span class=\"toc-item-num\">6.1.4&nbsp;&nbsp;</span>powers</a></span></li></ul></li></ul></li><li><span><a href=\"#Exercise-2.6.1-Représentation-matricielle\" data-toc-modified-id=\"Exercise-2.6.1-Représentation-matricielle-7\"><span class=\"toc-item-num\">7&nbsp;&nbsp;</span>Exercise 2.6.1-Représentation matricielle</a></span></li><li><span><a href=\"#Exercise-3.4.2--ECOC\" data-toc-modified-id=\"Exercise-3.4.2--ECOC-8\"><span class=\"toc-item-num\">8&nbsp;&nbsp;</span>Exercise 3.4.2- ECOC</a></span></li><li><span><a href=\"#Basic-symbolic-Quantum-Mechanics\" data-toc-modified-id=\"Basic-symbolic-Quantum-Mechanics-9\"><span class=\"toc-item-num\">9&nbsp;&nbsp;</span>Basic symbolic Quantum Mechanics</a></span><ul class=\"toc-item\"><li><span><a href=\"#Bras-and-Kets\" data-toc-modified-id=\"Bras-and-Kets-9.1\"><span class=\"toc-item-num\">9.1&nbsp;&nbsp;</span>Bras and Kets</a></span></li><li><span><a href=\"#Operators\" data-toc-modified-id=\"Operators-9.2\"><span class=\"toc-item-num\">9.2&nbsp;&nbsp;</span>Operators</a></span></li><li><span><a href=\"#Tensor-Products\" data-toc-modified-id=\"Tensor-Products-9.3\"><span class=\"toc-item-num\">9.3&nbsp;&nbsp;</span>Tensor Products</a></span></li></ul></li></ul></div>"
   ]
  },
  {
   "cell_type": "markdown",
   "metadata": {},
   "source": [
    "\\title{States and operators in QuTiP} \\author{Tsemo Peniel Bertrand-August 22th 2020} \\maketitle"
   ]
  },
  {
   "cell_type": "markdown",
   "metadata": {},
   "source": [
    "in QuTiP, we manipulate quantum objects called `Qobj` which has all the quantum properties we know in quantum physics. It might be interesting to know to manipulate quantum objects and simulate complex quantum systems. In this notebook, we will therefore see all the basic in QuTiP among others do operations between states and operators; "
   ]
  },
  {
   "cell_type": "code",
   "execution_count": 17,
   "metadata": {},
   "outputs": [],
   "source": [
    "from qutip import*# to make all the functions and classes of QuTiP available in the rest of the programm\n",
    "from numpy import*  # import numpy library in the name np\n",
    "from IPython.display import Image # allow display of images\n",
    "from sympy import*\n",
    "init_printing(use_latex=True)"
   ]
  },
  {
   "cell_type": "code",
   "execution_count": 25,
   "metadata": {},
   "outputs": [],
   "source": [
    "from sympy.physics.quantum import*\n",
    "from sympy.physics.quantum.pauli import*\n",
    "from sympy.physics.quantum.density import*\n",
    "from sympy.physics.quantum.operatorordering import*"
   ]
  },
  {
   "cell_type": "code",
   "execution_count": 15,
   "metadata": {},
   "outputs": [],
   "source": [
    "from IPython.display import HTML"
   ]
  },
  {
   "cell_type": "markdown",
   "metadata": {},
   "source": [
    "$$\n",
    "\\newcommand{\\tbf}[1]{\\textbf{#1}}\n",
    "\\DeclareMathOperator{\\Tr}{\\operatorname{Tr}}\n",
    "\\newcommand{\\ket}[1]{|#1\\rangle}\n",
    "\\newcommand{\\bra}[1]{\\langle#1|}\n",
    "\\newcommand{\\mt}[1]{\\mathtt{#1}}\n",
    "\\newcommand{\\mc}[1]{\\mathcal{#1}}\n",
    "\\newcommand{\\fr}[2]{\\frac{#1}{#2}}\n",
    "\\newcommand{\\ot}{\\otimes}\n",
    "\\newcommand{\\ti}{\\times}\n",
    "\\newcommand{\\sq}[1]{\\sqrt{#1}}\n",
    "\\newcommand{\\P}{\\mathtt{P}}\n",
    "\\newcommand{\\X}{\\mathtt{X}}\n",
    "\\newcommand{\\Y}{\\mathtt{Y}}\n",
    "\\newcommand{\\Z}{\\mathtt{Z}}\n",
    "\\newcommand{\\W}{\\mathtt{W}}\n",
    "\\newcommand{\\H}{\\mathtt{H}}\n",
    "\\newcommand{\\I}{\\mathbb{1}}\n",
    "\\newcommand{\\av}[1]{\\langle{#1}\\rangle}\n",
    "\\newcommand{\\proj}[1]{\\ket{#1}\\bra{#1}}\n",
    "$$\n",
    "\n",
    "## Basic operations on quantum objects\n",
    "To proceed on complex quantum system, there are many basic operations that one need to know such as taking the dagger of a Qobj, verifying the properties of ac Qobj, computing the scalar product of a vector state and so on. To understand what is the Qobj class, we shoul take a look at the image below:"
   ]
  },
  {
   "cell_type": "code",
   "execution_count": 5,
   "metadata": {},
   "outputs": [
    {
     "data": {
      "image/png": "[encoded data removed]",
      "text/plain": [
       "<IPython.core.display.Image object>"
      ]
     },
     "execution_count": 5,
     "metadata": {},
     "output_type": "execute_result"
    }
   ],
   "source": [
    "Image(filename='Qobj.png')"
   ]
  },
  {
   "cell_type": "markdown",
   "metadata": {},
   "source": [
    "### Creating quantum objects and consulting their properties"
   ]
  },
  {
   "cell_type": "code",
   "execution_count": 6,
   "metadata": {},
   "outputs": [
    {
     "data": {
      "text/latex": [
       "Quantum object: dims = [[2], [1]], shape = (2, 1), type = ket\\begin{equation*}\\left(\\begin{array}{*{11}c}0.0\\\\1.0\\\\\\end{array}\\right)\\end{equation*}"
      ],
      "text/plain": [
       "Quantum object: dims = [[2], [1]], shape = (2, 1), type = ket\n",
       "Qobj data =\n",
       "[[0.]\n",
       " [1.]]"
      ]
     },
     "execution_count": 6,
     "metadata": {},
     "output_type": "execute_result"
    }
   ],
   "source": [
    "Q=Qobj([[0],[1]])\n",
    "Q"
   ]
  },
  {
   "cell_type": "markdown",
   "metadata": {},
   "source": [
    "To consult the properties of a `Qobj` instance,"
   ]
  },
  {
   "cell_type": "code",
   "execution_count": 7,
   "metadata": {},
   "outputs": [
    {
     "data": {
      "text/plain": [
       "[[2], [1]]"
      ]
     },
     "execution_count": 7,
     "metadata": {},
     "output_type": "execute_result"
    }
   ],
   "source": [
    "Q.dims # dimension of Q"
   ]
  },
  {
   "cell_type": "code",
   "execution_count": 8,
   "metadata": {},
   "outputs": [
    {
     "data": {
      "text/plain": [
       "<2x1 sparse matrix of type '<class 'numpy.complex128'>'\n",
       "\twith 1 stored elements in Compressed Sparse Row format>"
      ]
     },
     "execution_count": 8,
     "metadata": {},
     "output_type": "execute_result"
    }
   ],
   "source": [
    "Q.data # the matrix data itself. In sparse matrix format"
   ]
  },
  {
   "cell_type": "code",
   "execution_count": 9,
   "metadata": {},
   "outputs": [
    {
     "data": {
      "text/plain": [
       "(2, 1)"
      ]
     },
     "execution_count": 9,
     "metadata": {},
     "output_type": "execute_result"
    }
   ],
   "source": [
    "Q.shape # The shape of the matrix data representation"
   ]
  },
  {
   "cell_type": "code",
   "execution_count": 12,
   "metadata": {},
   "outputs": [
    {
     "data": {
      "text/plain": [
       "array([[1, 0],\n",
       "       [0, 0]])"
      ]
     },
     "execution_count": 12,
     "metadata": {},
     "output_type": "execute_result"
    }
   ],
   "source": [
    "np.array([[1,0]])*np.array([[1],[0]])"
   ]
  },
  {
   "cell_type": "code",
   "execution_count": 15,
   "metadata": {},
   "outputs": [
    {
     "data": {
      "text/plain": [
       "array([[0.+0.j],\n",
       "       [1.+0.j]])"
      ]
     },
     "execution_count": 15,
     "metadata": {},
     "output_type": "execute_result"
    }
   ],
   "source": [
    "Q.full() # get the dese matrix representation"
   ]
  },
  {
   "cell_type": "code",
   "execution_count": 16,
   "metadata": {},
   "outputs": [
    {
     "data": {
      "text/plain": [
       "False"
      ]
     },
     "execution_count": 16,
     "metadata": {},
     "output_type": "execute_result"
    }
   ],
   "source": [
    "Q.isherm # check the hermicity"
   ]
  },
  {
   "cell_type": "code",
   "execution_count": 17,
   "metadata": {},
   "outputs": [
    {
     "data": {
      "text/plain": [
       "'ket'"
      ]
     },
     "execution_count": 17,
     "metadata": {},
     "output_type": "execute_result"
    }
   ],
   "source": [
    "Q.type     #the type of the Qobj instance"
   ]
  },
  {
   "cell_type": "markdown",
   "metadata": {},
   "source": [
    "## Calculations with Qobjects"
   ]
  },
  {
   "cell_type": "code",
   "execution_count": 44,
   "metadata": {},
   "outputs": [
    {
     "data": {
      "text/latex": [
       "Quantum object: dims = [[2], [2]], shape = (2, 2), type = oper, isherm = True\\begin{equation*}\\left(\\begin{array}{*{11}c}0.0 & -1.0j\\\\1.0j & 0.0\\\\\\end{array}\\right)\\end{equation*}"
      ],
      "text/plain": [
       "Quantum object: dims = [[2], [2]], shape = (2, 2), type = oper, isherm = True\n",
       "Qobj data =\n",
       "[[0.+0.j 0.-1.j]\n",
       " [0.+1.j 0.+0.j]]"
      ]
     },
     "execution_count": 44,
     "metadata": {},
     "output_type": "execute_result"
    }
   ],
   "source": [
    "sy=Qobj([[0, -1j],[1j, 0]]) # Pauli Y matrix\n",
    "sy"
   ]
  },
  {
   "cell_type": "code",
   "execution_count": 45,
   "metadata": {},
   "outputs": [
    {
     "data": {
      "text/latex": [
       "Quantum object: dims = [[2], [2]], shape = (2, 2), type = oper, isherm = True\\begin{equation*}\\left(\\begin{array}{*{11}c}0.0 & 1.0\\\\1.0 & 0.0\\\\\\end{array}\\right)\\end{equation*}"
      ],
      "text/plain": [
       "Quantum object: dims = [[2], [2]], shape = (2, 2), type = oper, isherm = True\n",
       "Qobj data =\n",
       "[[0. 1.]\n",
       " [1. 0.]]"
      ]
     },
     "execution_count": 45,
     "metadata": {},
     "output_type": "execute_result"
    }
   ],
   "source": [
    "sx= Qobj([[0.0,1.0],[1.0, 0.0]]) # Pauli X matrix\n",
    "sx"
   ]
  },
  {
   "cell_type": "code",
   "execution_count": 46,
   "metadata": {},
   "outputs": [
    {
     "data": {
      "text/latex": [
       "Quantum object: dims = [[2], [2]], shape = (2, 2), type = oper, isherm = True\\begin{equation*}\\left(\\begin{array}{*{11}c}0.0 & (1.0-1.0j)\\\\(1.0+1.0j) & 0.0\\\\\\end{array}\\right)\\end{equation*}"
      ],
      "text/plain": [
       "Quantum object: dims = [[2], [2]], shape = (2, 2), type = oper, isherm = True\n",
       "Qobj data =\n",
       "[[0.+0.j 1.-1.j]\n",
       " [1.+1.j 0.+0.j]]"
      ]
     },
     "execution_count": 46,
     "metadata": {},
     "output_type": "execute_result"
    }
   ],
   "source": [
    "sx+sy # addition of sx and sy matrices"
   ]
  },
  {
   "cell_type": "code",
   "execution_count": 47,
   "metadata": {},
   "outputs": [
    {
     "data": {
      "text/latex": [
       "Quantum object: dims = [[2], [2]], shape = (2, 2), type = oper, isherm = False\\begin{equation*}\\left(\\begin{array}{*{11}c}2.0j & 0.0\\\\0.0 & -2.0j\\\\\\end{array}\\right)\\end{equation*}"
      ],
      "text/plain": [
       "Quantum object: dims = [[2], [2]], shape = (2, 2), type = oper, isherm = False\n",
       "Qobj data =\n",
       "[[0.+2.j 0.+0.j]\n",
       " [0.+0.j 0.-2.j]]"
      ]
     },
     "execution_count": 47,
     "metadata": {},
     "output_type": "execute_result"
    }
   ],
   "source": [
    "commutator(sx,sy)  # commutator of sx and sy"
   ]
  },
  {
   "cell_type": "code",
   "execution_count": 48,
   "metadata": {},
   "outputs": [
    {
     "data": {
      "text/latex": [
       "Quantum object: dims = [[3], [3]], shape = (3, 3), type = oper, isherm = False\\begin{equation*}\\left(\\begin{array}{*{11}c}1.0 & 1.0 & -1.0\\\\-1.0 & 1.0j & 2.0\\\\-1.0 & 2.0 & 2.0j\\\\\\end{array}\\right)\\end{equation*}"
      ],
      "text/plain": [
       "Quantum object: dims = [[3], [3]], shape = (3, 3), type = oper, isherm = False\n",
       "Qobj data =\n",
       "[[ 1.+0.j  1.+0.j -1.+0.j]\n",
       " [-1.+0.j  0.+1.j  2.+0.j]\n",
       " [-1.+0.j  2.+0.j  0.+2.j]]"
      ]
     },
     "execution_count": 48,
     "metadata": {},
     "output_type": "execute_result"
    }
   ],
   "source": [
    "A=Qobj([[1,1,-1],[-1,1j,2],[-1,2,2j]])\n",
    "A"
   ]
  },
  {
   "cell_type": "markdown",
   "metadata": {},
   "source": [
    "$\\mt{A}^3$"
   ]
  },
  {
   "cell_type": "code",
   "execution_count": 49,
   "metadata": {},
   "outputs": [
    {
     "data": {
      "text/latex": [
       "Quantum object: dims = [[3], [3]], shape = (3, 3), type = oper, isherm = False\\begin{equation*}\\left(\\begin{array}{*{11}c}(1.0+1.0j) & (2.0-5.0j) & (1.0+4.0j)\\\\(-6.0-7.0j) & (-1.0+13.0j) & (-5.0+3.0j)\\\\(-3.0-8.0j) & (-7.0-3.0j) & (1.0+16.0j)\\\\\\end{array}\\right)\\end{equation*}"
      ],
      "text/plain": [
       "Quantum object: dims = [[3], [3]], shape = (3, 3), type = oper, isherm = False\n",
       "Qobj data =\n",
       "[[ 1. +1.j  2. -5.j  1. +4.j]\n",
       " [-6. -7.j -1.+13.j -5. +3.j]\n",
       " [-3. -8.j -7. -3.j  1.+16.j]]"
      ]
     },
     "execution_count": 49,
     "metadata": {},
     "output_type": "execute_result"
    }
   ],
   "source": [
    "A**3"
   ]
  },
  {
   "cell_type": "code",
   "execution_count": 21,
   "metadata": {},
   "outputs": [
    {
     "name": "stdout",
     "output_type": "stream",
     "text": [
      "An arbitrary hamiltonian\n",
      " Quantum object: dims = [[2], [2]], shape = (2, 2), type = oper, isherm = False\n",
      "Qobj data =\n",
      "[[ 0.   1.1]\n",
      " [-0.9  0. ]]\n"
     ]
    }
   ],
   "source": [
    "H=0.1*sx+1j*sy # arithmetic with quantum objects\n",
    "print('An arbitrary hamiltonian\\n', H)"
   ]
  },
  {
   "cell_type": "code",
   "execution_count": 22,
   "metadata": {},
   "outputs": [
    {
     "data": {
      "text/latex": [
       "Quantum object: dims = [[2], [2]], shape = (2, 2), type = oper, isherm = True\\begin{equation*}\\left(\\begin{array}{*{11}c}0.0 & -1.0j\\\\1.0j & 0.0\\\\\\end{array}\\right)\\end{equation*}"
      ],
      "text/plain": [
       "Quantum object: dims = [[2], [2]], shape = (2, 2), type = oper, isherm = True\n",
       "Qobj data =\n",
       "[[0.+0.j 0.-1.j]\n",
       " [0.+1.j 0.+0.j]]"
      ]
     },
     "execution_count": 22,
     "metadata": {},
     "output_type": "execute_result"
    }
   ],
   "source": [
    "sy.dag()# computing the hermitian conjugate of sy"
   ]
  },
  {
   "cell_type": "code",
   "execution_count": 23,
   "metadata": {},
   "outputs": [
    {
     "data": {
      "text/plain": [
       "0.0"
      ]
     },
     "execution_count": 23,
     "metadata": {},
     "output_type": "execute_result"
    }
   ],
   "source": [
    "sx.tr() # The trace of sx"
   ]
  },
  {
   "cell_type": "code",
   "execution_count": 25,
   "metadata": {},
   "outputs": [
    {
     "data": {
      "text/plain": [
       "array([0.-0.99498744j, 0.+0.99498744j])"
      ]
     },
     "execution_count": 25,
     "metadata": {},
     "output_type": "execute_result"
    }
   ],
   "source": [
    "H.eigenenergies() # eigen energies of H "
   ]
  },
  {
   "cell_type": "markdown",
   "metadata": {},
   "source": [
    "## States and operators\n",
    "### States\n",
    "In orde to create quantum states, we can use some built-in functions in QuTiP"
   ]
  },
  {
   "cell_type": "code",
   "execution_count": 26,
   "metadata": {},
   "outputs": [
    {
     "data": {
      "text/latex": [
       "Quantum object: dims = [[2], [1]], shape = (2, 1), type = ket\\begin{equation*}\\left(\\begin{array}{*{11}c}0.0\\\\1.0\\\\\\end{array}\\right)\\end{equation*}"
      ],
      "text/plain": [
       "Quantum object: dims = [[2], [1]], shape = (2, 1), type = ket\n",
       "Qobj data =\n",
       "[[0.]\n",
       " [1.]]"
      ]
     },
     "execution_count": 26,
     "metadata": {},
     "output_type": "execute_result"
    }
   ],
   "source": [
    "N=2 # N represent the number of states in the Hilbert space\n",
    "n=1 # n is the state that will be occupated\n",
    "\n",
    "basis(N,n)        "
   ]
  },
  {
   "cell_type": "code",
   "execution_count": 27,
   "metadata": {},
   "outputs": [
    {
     "data": {
      "text/latex": [
       "Quantum object: dims = [[4], [1]], shape = (4, 1), type = ket\\begin{equation*}\\left(\\begin{array}{*{11}c}0.0\\\\0.0\\\\1.0\\\\0.0\\\\\\end{array}\\right)\\end{equation*}"
      ],
      "text/plain": [
       "Quantum object: dims = [[4], [1]], shape = (4, 1), type = ket\n",
       "Qobj data =\n",
       "[[0.]\n",
       " [0.]\n",
       " [1.]\n",
       " [0.]]"
      ]
     },
     "execution_count": 27,
     "metadata": {},
     "output_type": "execute_result"
    }
   ],
   "source": [
    "N=4\n",
    "n=2 \n",
    "fock(N,n) # equivalent to basis(N,n)"
   ]
  },
  {
   "cell_type": "markdown",
   "metadata": {},
   "source": [
    "Let remark that the first state is at the position 0"
   ]
  },
  {
   "cell_type": "code",
   "execution_count": 28,
   "metadata": {},
   "outputs": [
    {
     "data": {
      "text/latex": [
       "Quantum object: dims = [[10], [1]], shape = (10, 1), type = ket\\begin{equation*}\\left(\\begin{array}{*{11}c}0.607\\\\0.607j\\\\-0.429\\\\-0.248j\\\\0.124\\\\0.055j\\\\-0.023\\\\-0.009j\\\\0.003\\\\0.001j\\\\\\end{array}\\right)\\end{equation*}"
      ],
      "text/plain": [
       "Quantum object: dims = [[10], [1]], shape = (10, 1), type = ket\n",
       "Qobj data =\n",
       "[[ 0.60653066+0.j        ]\n",
       " [ 0.        +0.60653066j]\n",
       " [-0.42888194+0.j        ]\n",
       " [ 0.        -0.24761511j]\n",
       " [ 0.12380753+0.j        ]\n",
       " [ 0.        +0.0553686j ]\n",
       " [-0.02260303+0.j        ]\n",
       " [ 0.        -0.00854887j]\n",
       " [ 0.00299672+0.j        ]\n",
       " [ 0.        +0.00110007j]]"
      ]
     },
     "execution_count": 28,
     "metadata": {},
     "output_type": "execute_result"
    }
   ],
   "source": [
    "N=10 # number of levels in the Hilbert space\n",
    "coherent(N,1j) # 1j is the complex nmuber for requested ceherent state"
   ]
  },
  {
   "cell_type": "markdown",
   "metadata": {},
   "source": [
    "### Density matrices"
   ]
  },
  {
   "cell_type": "code",
   "execution_count": 29,
   "metadata": {},
   "outputs": [
    {
     "data": {
      "text/latex": [
       "Quantum object: dims = [[4], [4]], shape = (4, 4), type = oper, isherm = True\\begin{equation*}\\left(\\begin{array}{*{11}c}0.0 & 0.0 & 0.0 & 0.0\\\\0.0 & 0.0 & 0.0 & 0.0\\\\0.0 & 0.0 & 1.0 & 0.0\\\\0.0 & 0.0 & 0.0 & 0.0\\\\\\end{array}\\right)\\end{equation*}"
      ],
      "text/plain": [
       "Quantum object: dims = [[4], [4]], shape = (4, 4), type = oper, isherm = True\n",
       "Qobj data =\n",
       "[[0. 0. 0. 0.]\n",
       " [0. 0. 0. 0.]\n",
       " [0. 0. 1. 0.]\n",
       " [0. 0. 0. 0.]]"
      ]
     },
     "execution_count": 29,
     "metadata": {},
     "output_type": "execute_result"
    }
   ],
   "source": [
    "# density matrix of a fock state\n",
    "fock_dm(4,2) # 4=size of the Hilbert space, 2=state occupied"
   ]
  },
  {
   "cell_type": "code",
   "execution_count": 32,
   "metadata": {},
   "outputs": [
    {
     "data": {
      "text/latex": [
       "Quantum object: dims = [[5], [5]], shape = (5, 5), type = oper, isherm = True\\begin{equation*}\\left(\\begin{array}{*{11}c}0.368 & 0.368 & 0.261 & 0.146 & 0.088\\\\0.368 & 0.368 & 0.261 & 0.146 & 0.088\\\\0.261 & 0.261 & 0.185 & 0.104 & 0.063\\\\0.146 & 0.146 & 0.104 & 0.058 & 0.035\\\\0.088 & 0.088 & 0.063 & 0.035 & 0.021\\\\\\end{array}\\right)\\end{equation*}"
      ],
      "text/plain": [
       "Quantum object: dims = [[5], [5]], shape = (5, 5), type = oper, isherm = True\n",
       "Qobj data =\n",
       "[[0.36791117 0.36774407 0.26105441 0.14620658 0.08826704]\n",
       " [0.36774407 0.36757705 0.26093584 0.14614018 0.08822695]\n",
       " [0.26105441 0.26093584 0.18523331 0.10374209 0.06263061]\n",
       " [0.14620658 0.14614018 0.10374209 0.05810197 0.035077  ]\n",
       " [0.08826704 0.08822695 0.06263061 0.035077   0.0211765 ]]"
      ]
     },
     "execution_count": 32,
     "metadata": {},
     "output_type": "execute_result"
    }
   ],
   "source": [
    "# Density matrix of coherent state\n",
    "coherent_dm(5,1.0) "
   ]
  },
  {
   "cell_type": "markdown",
   "metadata": {},
   "source": [
    "### Operators\n",
    "\n",
    "#### Qubit(two-level) system operators"
   ]
  },
  {
   "cell_type": "code",
   "execution_count": 33,
   "metadata": {},
   "outputs": [
    {
     "data": {
      "text/latex": [
       "Quantum object: dims = [[2], [2]], shape = (2, 2), type = oper, isherm = True\\begin{equation*}\\left(\\begin{array}{*{11}c}0.0 & 1.0\\\\1.0 & 0.0\\\\\\end{array}\\right)\\end{equation*}"
      ],
      "text/plain": [
       "Quantum object: dims = [[2], [2]], shape = (2, 2), type = oper, isherm = True\n",
       "Qobj data =\n",
       "[[0. 1.]\n",
       " [1. 0.]]"
      ]
     },
     "execution_count": 33,
     "metadata": {},
     "output_type": "execute_result"
    }
   ],
   "source": [
    "#built-in X Pauli matrix\n",
    "sigmax()"
   ]
  },
  {
   "cell_type": "code",
   "execution_count": 35,
   "metadata": {},
   "outputs": [
    {
     "data": {
      "text/latex": [
       "Quantum object: dims = [[2], [2]], shape = (2, 2), type = oper, isherm = True\\begin{equation*}\\left(\\begin{array}{*{11}c}0.0 & -1.0j\\\\1.0j & 0.0\\\\\\end{array}\\right)\\end{equation*}"
      ],
      "text/plain": [
       "Quantum object: dims = [[2], [2]], shape = (2, 2), type = oper, isherm = True\n",
       "Qobj data =\n",
       "[[0.+0.j 0.-1.j]\n",
       " [0.+1.j 0.+0.j]]"
      ]
     },
     "execution_count": 35,
     "metadata": {},
     "output_type": "execute_result"
    }
   ],
   "source": [
    "#built-in Y Pauli matrix\n",
    "sigmay()"
   ]
  },
  {
   "cell_type": "code",
   "execution_count": 36,
   "metadata": {},
   "outputs": [
    {
     "data": {
      "text/latex": [
       "Quantum object: dims = [[2], [2]], shape = (2, 2), type = oper, isherm = True\\begin{equation*}\\left(\\begin{array}{*{11}c}1.0 & 0.0\\\\0.0 & -1.0\\\\\\end{array}\\right)\\end{equation*}"
      ],
      "text/plain": [
       "Quantum object: dims = [[2], [2]], shape = (2, 2), type = oper, isherm = True\n",
       "Qobj data =\n",
       "[[ 1.  0.]\n",
       " [ 0. -1.]]"
      ]
     },
     "execution_count": 36,
     "metadata": {},
     "output_type": "execute_result"
    }
   ],
   "source": [
    "#built-in Z Pauli matrix\n",
    "sigmaz()"
   ]
  },
  {
   "cell_type": "markdown",
   "metadata": {},
   "source": [
    "#### Harmonix oscillator operators"
   ]
  },
  {
   "cell_type": "code",
   "execution_count": 38,
   "metadata": {},
   "outputs": [
    {
     "data": {
      "text/latex": [
       "Quantum object: dims = [[5], [5]], shape = (5, 5), type = oper, isherm = False\\begin{equation*}\\left(\\begin{array}{*{11}c}0.0 & 1.0 & 0.0 & 0.0 & 0.0\\\\0.0 & 0.0 & 1.414 & 0.0 & 0.0\\\\0.0 & 0.0 & 0.0 & 1.732 & 0.0\\\\0.0 & 0.0 & 0.0 & 0.0 & 2.0\\\\0.0 & 0.0 & 0.0 & 0.0 & 0.0\\\\\\end{array}\\right)\\end{equation*}"
      ],
      "text/plain": [
       "Quantum object: dims = [[5], [5]], shape = (5, 5), type = oper, isherm = False\n",
       "Qobj data =\n",
       "[[0.         1.         0.         0.         0.        ]\n",
       " [0.         0.         1.41421356 0.         0.        ]\n",
       " [0.         0.         0.         1.73205081 0.        ]\n",
       " [0.         0.         0.         0.         2.        ]\n",
       " [0.         0.         0.         0.         0.        ]]"
      ]
     },
     "execution_count": 38,
     "metadata": {},
     "output_type": "execute_result"
    }
   ],
   "source": [
    "# Annihilation operator \n",
    "\n",
    "destroy(N=5)  # Number of Fock states of included in the Hilbert space"
   ]
  },
  {
   "cell_type": "code",
   "execution_count": 39,
   "metadata": {},
   "outputs": [
    {
     "data": {
      "text/latex": [
       "Quantum object: dims = [[5], [5]], shape = (5, 5), type = oper, isherm = False\\begin{equation*}\\left(\\begin{array}{*{11}c}0.0 & 0.0 & 0.0 & 0.0 & 0.0\\\\1.0 & 0.0 & 0.0 & 0.0 & 0.0\\\\0.0 & 1.414 & 0.0 & 0.0 & 0.0\\\\0.0 & 0.0 & 1.732 & 0.0 & 0.0\\\\0.0 & 0.0 & 0.0 & 2.0 & 0.0\\\\\\end{array}\\right)\\end{equation*}"
      ],
      "text/plain": [
       "Quantum object: dims = [[5], [5]], shape = (5, 5), type = oper, isherm = False\n",
       "Qobj data =\n",
       "[[0.         0.         0.         0.         0.        ]\n",
       " [1.         0.         0.         0.         0.        ]\n",
       " [0.         1.41421356 0.         0.         0.        ]\n",
       " [0.         0.         1.73205081 0.         0.        ]\n",
       " [0.         0.         0.         2.         0.        ]]"
      ]
     },
     "execution_count": 39,
     "metadata": {},
     "output_type": "execute_result"
    }
   ],
   "source": [
    "#creation operator\n",
    "\n",
    "create(N=5) #equivalent to destroy(N=5).dag()"
   ]
  },
  {
   "cell_type": "code",
   "execution_count": 40,
   "metadata": {},
   "outputs": [
    {
     "data": {
      "text/latex": [
       "Quantum object: dims = [[5], [5]], shape = (5, 5), type = oper, isherm = True\\begin{equation*}\\left(\\begin{array}{*{11}c}0.0 & 0.0 & 0.0 & 0.0 & 0.0\\\\0.0 & 1.0 & 0.0 & 0.0 & 0.0\\\\0.0 & 0.0 & 2.0 & 0.0 & 0.0\\\\0.0 & 0.0 & 0.0 & 3.0 & 0.0\\\\0.0 & 0.0 & 0.0 & 0.0 & 4.0\\\\\\end{array}\\right)\\end{equation*}"
      ],
      "text/plain": [
       "Quantum object: dims = [[5], [5]], shape = (5, 5), type = oper, isherm = True\n",
       "Qobj data =\n",
       "[[0. 0. 0. 0. 0.]\n",
       " [0. 1. 0. 0. 0.]\n",
       " [0. 0. 2. 0. 0.]\n",
       " [0. 0. 0. 3. 0.]\n",
       " [0. 0. 0. 0. 4.]]"
      ]
     },
     "execution_count": 40,
     "metadata": {},
     "output_type": "execute_result"
    }
   ],
   "source": [
    "# Number of photons operator\n",
    "\n",
    "num(5) "
   ]
  },
  {
   "cell_type": "code",
   "execution_count": 41,
   "metadata": {},
   "outputs": [
    {
     "data": {
      "text/latex": [
       "Quantum object: dims = [[5], [5]], shape = (5, 5), type = oper, isherm = True\\begin{equation*}\\left(\\begin{array}{*{11}c}0.0 & 0.0 & 0.0 & 0.0 & 0.0\\\\0.0 & 1.0 & 0.0 & 0.0 & 0.0\\\\0.0 & 0.0 & 2.0 & 0.0 & 0.0\\\\0.0 & 0.0 & 0.0 & 3.000 & 0.0\\\\0.0 & 0.0 & 0.0 & 0.0 & 4.0\\\\\\end{array}\\right)\\end{equation*}"
      ],
      "text/plain": [
       "Quantum object: dims = [[5], [5]], shape = (5, 5), type = oper, isherm = True\n",
       "Qobj data =\n",
       "[[0. 0. 0. 0. 0.]\n",
       " [0. 1. 0. 0. 0.]\n",
       " [0. 0. 2. 0. 0.]\n",
       " [0. 0. 0. 3. 0.]\n",
       " [0. 0. 0. 0. 4.]]"
      ]
     },
     "execution_count": 41,
     "metadata": {},
     "output_type": "execute_result"
    }
   ],
   "source": [
    "create(5)*destroy(5) # equivalent to num(5)"
   ]
  },
  {
   "cell_type": "markdown",
   "metadata": {},
   "source": [
    "We can check commutation relations using `Qobj` instances"
   ]
  },
  {
   "cell_type": "code",
   "execution_count": 52,
   "metadata": {},
   "outputs": [],
   "source": [
    "# defining the function 'com' which calculate the commutator of op1 and op2\n",
    "def com(op1,op2):\n",
    "    return op1*op2-op2*op1"
   ]
  },
  {
   "cell_type": "markdown",
   "metadata": {},
   "source": [
    "Let us verify the property $[\\mt{X},\\mt{P}]=i$"
   ]
  },
  {
   "cell_type": "code",
   "execution_count": 55,
   "metadata": {},
   "outputs": [
    {
     "data": {
      "text/latex": [
       "Quantum object: dims = [[5], [5]], shape = (5, 5), type = oper, isherm = False\\begin{equation*}\\left(\\begin{array}{*{11}c}1.000j & 0.0 & 0.0 & 0.0 & 0.0\\\\0.0 & 1.0j & 0.0 & 0.0 & 0.0\\\\0.0 & 0.0 & 1.000j & 0.0 & 0.0\\\\0.0 & 0.0 & 0.0 & 1.000j & 0.0\\\\0.0 & 0.0 & 0.0 & 0.0 & -4.000j\\\\\\end{array}\\right)\\end{equation*}"
      ],
      "text/plain": [
       "Quantum object: dims = [[5], [5]], shape = (5, 5), type = oper, isherm = False\n",
       "Qobj data =\n",
       "[[0.+1.j 0.+0.j 0.+0.j 0.+0.j 0.+0.j]\n",
       " [0.+0.j 0.+1.j 0.+0.j 0.+0.j 0.+0.j]\n",
       " [0.+0.j 0.+0.j 0.+1.j 0.+0.j 0.+0.j]\n",
       " [0.+0.j 0.+0.j 0.+0.j 0.+1.j 0.+0.j]\n",
       " [0.+0.j 0.+0.j 0.+0.j 0.+0.j 0.-4.j]]"
      ]
     },
     "execution_count": 55,
     "metadata": {},
     "output_type": "execute_result"
    }
   ],
   "source": [
    "a=destroy(5)\n",
    "X=1/np.sqrt(2)*(a+a.dag())\n",
    "P=-1j/np.sqrt(2)*(a-a.dag())\n",
    "com(X,P)"
   ]
  },
  {
   "cell_type": "markdown",
   "metadata": {},
   "source": [
    "The result not $i$ simply bescause the Hilbert space has been troncated. However, it is good until highest Fock state is not used for dynamics."
   ]
  },
  {
   "cell_type": "markdown",
   "metadata": {},
   "source": [
    "Let's verify the $\\mt{PAULI}$ matrices property $$\\sigma_x^2=\\sigma_y^2=\\sigma_z^2=\\mathbb{1}$$"
   ]
  },
  {
   "cell_type": "code",
   "execution_count": 51,
   "metadata": {},
   "outputs": [
    {
     "data": {
      "text/plain": [
       "True"
      ]
     },
     "execution_count": 51,
     "metadata": {},
     "output_type": "execute_result"
    }
   ],
   "source": [
    "sigmax()**2==sigmay()**2==sigmaz()**2"
   ]
  },
  {
   "cell_type": "markdown",
   "metadata": {},
   "source": [
    "### Expectation values\n",
    "We can compute de expectation value of an operator `oper` in the state `state` using the `qutip.expect(oper,state)` function"
   ]
  },
  {
   "cell_type": "code",
   "execution_count": 52,
   "metadata": {},
   "outputs": [],
   "source": [
    "Z=sigmaz()\n",
    "psi=(basis(2,0)+basis(2,1)).unit()"
   ]
  },
  {
   "cell_type": "code",
   "execution_count": 53,
   "metadata": {},
   "outputs": [
    {
     "data": {
      "text/plain": [
       "0.0"
      ]
     },
     "execution_count": 53,
     "metadata": {},
     "output_type": "execute_result"
    }
   ],
   "source": [
    "expect(Z,psi)"
   ]
  },
  {
   "cell_type": "markdown",
   "metadata": {},
   "source": [
    "Let calculate $\\langle\\mt{A}\\rangle=\\bra{\\psi}\\mt{A}\\ket{\\psi}$, where $\\ket{\\psi}=\\frac{1}{2}\\ket{0}-\\fr{i}{2}\\ket{1}+\\fr{1}{\\sq{2}}\\ket{2}$ and $\\mt{A}=\\left(\\begin{array}{ccc} 0 & \\fr{1}{\\sq{2}} & 1 \\\\ 1 & \\fr{1}{\\sq{2}} & 0 \\\\ 0 & 0 & 0 \\end{array}\\right)$"
   ]
  },
  {
   "cell_type": "code",
   "execution_count": 56,
   "metadata": {},
   "outputs": [],
   "source": [
    "psi=0.5*basis(3,0)-(1j/2)*basis(3,1)+(1/sqrt(2))*basis(3,2)\n",
    "A=Qobj([[0,1/sqrt(2),1],[1,1/sqrt(2),0],[0,0,0]])"
   ]
  },
  {
   "cell_type": "code",
   "execution_count": 57,
   "metadata": {},
   "outputs": [
    {
     "data": {
      "text/latex": [
       "Quantum object: dims = [[3], [1]], shape = (3, 1), type = ket\\begin{equation*}\\left(\\begin{array}{*{11}c}0.500\\\\-0.500j\\\\0.707\\\\\\end{array}\\right)\\end{equation*}"
      ],
      "text/plain": [
       "Quantum object: dims = [[3], [1]], shape = (3, 1), type = ket\n",
       "Qobj data =\n",
       "[[0.5       +0.j ]\n",
       " [0.        -0.5j]\n",
       " [0.70710678+0.j ]]"
      ]
     },
     "execution_count": 57,
     "metadata": {},
     "output_type": "execute_result"
    }
   ],
   "source": [
    "psi"
   ]
  },
  {
   "cell_type": "code",
   "execution_count": 59,
   "metadata": {},
   "outputs": [
    {
     "data": {
      "text/latex": [
       "Quantum object: dims = [[3], [3]], shape = (3, 3), type = oper, isherm = False\\begin{equation*}\\left(\\begin{array}{*{11}c}0.0 & 0.707 & 1.0\\\\1.0 & 0.707 & 0.0\\\\0.0 & 0.0 & 0.0\\\\\\end{array}\\right)\\end{equation*}"
      ],
      "text/plain": [
       "Quantum object: dims = [[3], [3]], shape = (3, 3), type = oper, isherm = False\n",
       "Qobj data =\n",
       "[[0.         0.70710678 1.        ]\n",
       " [1.         0.70710678 0.        ]\n",
       " [0.         0.         0.        ]]"
      ]
     },
     "execution_count": 59,
     "metadata": {},
     "output_type": "execute_result"
    }
   ],
   "source": [
    "A"
   ]
  },
  {
   "cell_type": "code",
   "execution_count": 63,
   "metadata": {},
   "outputs": [
    {
     "data": {
      "text/plain": [
       "(0.5303300858899106+0.07322330470336313j)"
      ]
     },
     "execution_count": 63,
     "metadata": {},
     "output_type": "execute_result"
    }
   ],
   "source": [
    "moy=expect(A,psi)\n",
    "moy"
   ]
  },
  {
   "cell_type": "markdown",
   "metadata": {},
   "source": [
    "### projections"
   ]
  },
  {
   "cell_type": "markdown",
   "metadata": {},
   "source": [
    "To create the projection operator $\\ket{n}\\bra{m}$ in the Hilbert space of dimension $\\mt{N}$, we use the function `projection[N,n,m)`"
   ]
  },
  {
   "cell_type": "code",
   "execution_count": 72,
   "metadata": {},
   "outputs": [
    {
     "data": {
      "text/latex": [
       "Quantum object: dims = [[2], [2]], shape = (2, 2), type = oper, isherm = True\\begin{equation*}\\left(\\begin{array}{*{11}c}1.0 & 0.0\\\\0.0 & 0.0\\\\\\end{array}\\right)\\end{equation*}"
      ],
      "text/plain": [
       "Quantum object: dims = [[2], [2]], shape = (2, 2), type = oper, isherm = True\n",
       "Qobj data =\n",
       "[[1. 0.]\n",
       " [0. 0.]]"
      ]
     },
     "execution_count": 72,
     "metadata": {},
     "output_type": "execute_result"
    }
   ],
   "source": [
    "projection(2,0,0)"
   ]
  },
  {
   "cell_type": "code",
   "execution_count": 73,
   "metadata": {},
   "outputs": [
    {
     "data": {
      "text/latex": [
       "Quantum object: dims = [[2], [2]], shape = (2, 2), type = oper, isherm = True\\begin{equation*}\\left(\\begin{array}{*{11}c}0.0 & 0.0\\\\0.0 & 1.0\\\\\\end{array}\\right)\\end{equation*}"
      ],
      "text/plain": [
       "Quantum object: dims = [[2], [2]], shape = (2, 2), type = oper, isherm = True\n",
       "Qobj data =\n",
       "[[0. 0.]\n",
       " [0. 1.]]"
      ]
     },
     "execution_count": 73,
     "metadata": {},
     "output_type": "execute_result"
    }
   ],
   "source": [
    "projection(2,1,1)"
   ]
  },
  {
   "cell_type": "code",
   "execution_count": 74,
   "metadata": {},
   "outputs": [
    {
     "data": {
      "text/latex": [
       "Quantum object: dims = [[2], [2]], shape = (2, 2), type = oper, isherm = True\\begin{equation*}\\left(\\begin{array}{*{11}c}1.0 & 0.0\\\\0.0 & 1.0\\\\\\end{array}\\right)\\end{equation*}"
      ],
      "text/plain": [
       "Quantum object: dims = [[2], [2]], shape = (2, 2), type = oper, isherm = True\n",
       "Qobj data =\n",
       "[[1. 0.]\n",
       " [0. 1.]]"
      ]
     },
     "execution_count": 74,
     "metadata": {},
     "output_type": "execute_result"
    }
   ],
   "source": [
    "projection(2,0,0)+projection(2,1,1) #identity"
   ]
  },
  {
   "cell_type": "markdown",
   "metadata": {},
   "source": [
    "## Composite systems\n",
    "It is more interesting to study the behavior of composite or coupled quantum systems. theoretically, we use the mathematic tool called the **tensor product** for studying such systems. In QuTiP, we use the `tensor` function to create Qobj instances for composite systems.\n",
    "\n",
    "To define for example $\\sigma_x\\otimes\\mathbb{1}$"
   ]
  },
  {
   "cell_type": "code",
   "execution_count": 61,
   "metadata": {},
   "outputs": [
    {
     "data": {
      "text/latex": [
       "Quantum object: dims = [[2, 2], [2, 2]], shape = (4, 4), type = oper, isherm = True\\begin{equation*}\\left(\\begin{array}{*{11}c}0.0 & 0.0 & 1.0 & 0.0\\\\0.0 & 0.0 & 0.0 & 1.0\\\\1.0 & 0.0 & 0.0 & 0.0\\\\0.0 & 1.0 & 0.0 & 0.0\\\\\\end{array}\\right)\\end{equation*}"
      ],
      "text/plain": [
       "Quantum object: dims = [[2, 2], [2, 2]], shape = (4, 4), type = oper, isherm = True\n",
       "Qobj data =\n",
       "[[0. 0. 1. 0.]\n",
       " [0. 0. 0. 1.]\n",
       " [1. 0. 0. 0.]\n",
       " [0. 1. 0. 0.]]"
      ]
     },
     "execution_count": 61,
     "metadata": {},
     "output_type": "execute_result"
    }
   ],
   "source": [
    "csx=tensor(sigmax(),qeye(2))\n",
    "csx"
   ]
  },
  {
   "cell_type": "markdown",
   "metadata": {},
   "source": [
    "This operator is supposed to apply the $\\mt{X}$ $\\mt{PAULI}$ operator on the first qubit and apply identity on the second qubit of an arbitrary coupled state. We have for example $\\sigma_x\\otimes\\mathbb{1}(\\ket{0}\\otimes\\ket{1})=\\sigma_x\\ket{0}\\ot\\mathbb{1}\\ket{1}=\\ket{11}$"
   ]
  },
  {
   "cell_type": "code",
   "execution_count": 63,
   "metadata": {},
   "outputs": [
    {
     "data": {
      "text/latex": [
       "Quantum object: dims = [[2, 2], [1, 1]], shape = (4, 1), type = ket\\begin{equation*}\\left(\\begin{array}{*{11}c}0.0\\\\0.0\\\\0.0\\\\1.0\\\\\\end{array}\\right)\\end{equation*}"
      ],
      "text/plain": [
       "Quantum object: dims = [[2, 2], [1, 1]], shape = (4, 1), type = ket\n",
       "Qobj data =\n",
       "[[0.]\n",
       " [0.]\n",
       " [0.]\n",
       " [1.]]"
      ]
     },
     "execution_count": 63,
     "metadata": {},
     "output_type": "execute_result"
    }
   ],
   "source": [
    "psi1=tensor(basis(2,0),basis(2,1))\n",
    "psi2=tensor(basis(2,1),basis(2,1))\n",
    "csx*psi1"
   ]
  },
  {
   "cell_type": "code",
   "execution_count": 66,
   "metadata": {},
   "outputs": [
    {
     "data": {
      "text/plain": [
       "True"
      ]
     },
     "execution_count": 66,
     "metadata": {},
     "output_type": "execute_result"
    }
   ],
   "source": [
    "csx*psi1==psi2 # this should be true because the first qubit of psi1 should be turned into 1"
   ]
  },
  {
   "cell_type": "code",
   "execution_count": 68,
   "metadata": {},
   "outputs": [
    {
     "data": {
      "text/plain": [
       "True"
      ]
     },
     "execution_count": 68,
     "metadata": {},
     "output_type": "execute_result"
    }
   ],
   "source": [
    "csx*psi2==psi1 # this should be true because the first qubit of psi2 should be turned into 0"
   ]
  },
  {
   "cell_type": "markdown",
   "metadata": {},
   "source": [
    "  To create composite different types of composite systems, we can just change the arguments of function `tensor`. For example, we can define Jaynes-Cumming hamiltonian for qubit-cavity system: $\\mt{H}=\\omega_c a^\\dagger a-\\frac{1}{2}\\omega_a\\sigma_z+g(a\\sigma_++a^\\dagger\\sigma_-)$"
   ]
  },
  {
   "cell_type": "code",
   "execution_count": 73,
   "metadata": {},
   "outputs": [
    {
     "data": {
      "text/latex": [
       "Quantum object: dims = [[5, 2], [5, 2]], shape = (10, 10), type = oper, isherm = True\\begin{equation*}\\left(\\begin{array}{*{11}c}-0.500 & 0.0 & 0.0 & 0.0 & 0.0 & 0.0 & 0.0 & 0.0 & 0.0 & 0.0\\\\0.0 & 0.500 & 0.100 & 0.0 & 0.0 & 0.0 & 0.0 & 0.0 & 0.0 & 0.0\\\\0.0 & 0.100 & 0.500 & 0.0 & 0.0 & 0.0 & 0.0 & 0.0 & 0.0 & 0.0\\\\0.0 & 0.0 & 0.0 & 1.500 & 0.141 & 0.0 & 0.0 & 0.0 & 0.0 & 0.0\\\\0.0 & 0.0 & 0.0 & 0.141 & 1.500 & 0.0 & 0.0 & 0.0 & 0.0 & 0.0\\\\0.0 & 0.0 & 0.0 & 0.0 & 0.0 & 2.500 & 0.173 & 0.0 & 0.0 & 0.0\\\\0.0 & 0.0 & 0.0 & 0.0 & 0.0 & 0.173 & 2.500 & 0.0 & 0.0 & 0.0\\\\0.0 & 0.0 & 0.0 & 0.0 & 0.0 & 0.0 & 0.0 & 3.500 & 0.200 & 0.0\\\\0.0 & 0.0 & 0.0 & 0.0 & 0.0 & 0.0 & 0.0 & 0.200 & 3.500 & 0.0\\\\0.0 & 0.0 & 0.0 & 0.0 & 0.0 & 0.0 & 0.0 & 0.0 & 0.0 & 4.500\\\\\\end{array}\\right)\\end{equation*}"
      ],
      "text/plain": [
       "Quantum object: dims = [[5, 2], [5, 2]], shape = (10, 10), type = oper, isherm = True\n",
       "Qobj data =\n",
       "[[-0.5         0.          0.          0.          0.          0.\n",
       "   0.          0.          0.          0.        ]\n",
       " [ 0.          0.5         0.1         0.          0.          0.\n",
       "   0.          0.          0.          0.        ]\n",
       " [ 0.          0.1         0.5         0.          0.          0.\n",
       "   0.          0.          0.          0.        ]\n",
       " [ 0.          0.          0.          1.5         0.14142136  0.\n",
       "   0.          0.          0.          0.        ]\n",
       " [ 0.          0.          0.          0.14142136  1.5         0.\n",
       "   0.          0.          0.          0.        ]\n",
       " [ 0.          0.          0.          0.          0.          2.5\n",
       "   0.17320508  0.          0.          0.        ]\n",
       " [ 0.          0.          0.          0.          0.          0.17320508\n",
       "   2.5         0.          0.          0.        ]\n",
       " [ 0.          0.          0.          0.          0.          0.\n",
       "   0.          3.5         0.2         0.        ]\n",
       " [ 0.          0.          0.          0.          0.          0.\n",
       "   0.          0.2         3.5         0.        ]\n",
       " [ 0.          0.          0.          0.          0.          0.\n",
       "   0.          0.          0.          4.5       ]]"
      ]
     },
     "execution_count": 73,
     "metadata": {},
     "output_type": "execute_result"
    }
   ],
   "source": [
    "wc=1.0 # cavity frerquency\n",
    "wa=1.0 # cavity/atom frequency\n",
    "g=0.1  #coupling strength\n",
    "\n",
    "#Cavity mode operator\n",
    "a=tensor(destroy(5),qeye(2))\n",
    "\n",
    "#qubit/atom operators\n",
    "\n",
    "sz=tensor(qeye(5), sigmaz()) # sigmaz\n",
    "smi=tensor(qeye(5),destroy(2))# sigma-minus\n",
    "sp=smi.dag() # sigma-plus\n",
    "\n",
    "#Jaynes-Cumming Hamiltonian \n",
    "\n",
    "H=wc * a.dag() * a- 0.5 * wa *sz + g * ( a * sp + a.dag() * smi)\n",
    "\n",
    "H"
   ]
  },
  {
   "cell_type": "markdown",
   "metadata": {},
   "source": [
    "## Manipulating states and operators\n",
    "Now we will look at how to perform basic operations with states and operators"
   ]
  },
  {
   "cell_type": "markdown",
   "metadata": {},
   "source": [
    "### States vectors (kets or bras)\n",
    "Let create a Fock vacuum state $\\ket{0}$ with 5 number states in the Hilbert space from 0 to 4."
   ]
  },
  {
   "cell_type": "code",
   "execution_count": 15,
   "metadata": {},
   "outputs": [
    {
     "data": {
      "text/latex": [
       "Quantum object: dims = [[5], [1]], shape = (5, 1), type = ket\\begin{equation*}\\left(\\begin{array}{*{11}c}1.0\\\\0.0\\\\0.0\\\\0.0\\\\0.0\\\\\\end{array}\\right)\\end{equation*}"
      ],
      "text/plain": [
       "Quantum object: dims = [[5], [1]], shape = (5, 1), type = ket\n",
       "Qobj data =\n",
       "[[1.]\n",
       " [0.]\n",
       " [0.]\n",
       " [0.]\n",
       " [0.]]"
      ]
     },
     "execution_count": 15,
     "metadata": {},
     "output_type": "execute_result"
    }
   ],
   "source": [
    "vac=basis(5,0)\n",
    "vac"
   ]
  },
  {
   "cell_type": "markdown",
   "metadata": {},
   "source": [
    "create the operator destroy $a$ correspodin to five number states using the function `qutip.operators.destroy`."
   ]
  },
  {
   "cell_type": "code",
   "execution_count": 3,
   "metadata": {},
   "outputs": [
    {
     "data": {
      "text/latex": [
       "Quantum object: dims = [[5], [5]], shape = (5, 5), type = oper, isherm = False\\begin{equation*}\\left(\\begin{array}{*{11}c}0.0 & 1.0 & 0.0 & 0.0 & 0.0\\\\0.0 & 0.0 & 1.414 & 0.0 & 0.0\\\\0.0 & 0.0 & 0.0 & 1.732 & 0.0\\\\0.0 & 0.0 & 0.0 & 0.0 & 2.0\\\\0.0 & 0.0 & 0.0 & 0.0 & 0.0\\\\\\end{array}\\right)\\end{equation*}"
      ],
      "text/plain": [
       "Quantum object: dims = [[5], [5]], shape = (5, 5), type = oper, isherm = False\n",
       "Qobj data =\n",
       "[[0.         1.         0.         0.         0.        ]\n",
       " [0.         0.         1.41421356 0.         0.        ]\n",
       " [0.         0.         0.         1.73205081 0.        ]\n",
       " [0.         0.         0.         0.         2.        ]\n",
       " [0.         0.         0.         0.         0.        ]]"
      ]
     },
     "execution_count": 3,
     "metadata": {},
     "output_type": "execute_result"
    }
   ],
   "source": [
    "a=destroy(5)\n",
    "\n",
    "a"
   ]
  },
  {
   "cell_type": "markdown",
   "metadata": {},
   "source": [
    "verify the property $a\\ket{0}=0$"
   ]
  },
  {
   "cell_type": "code",
   "execution_count": 77,
   "metadata": {},
   "outputs": [
    {
     "data": {
      "text/latex": [
       "Quantum object: dims = [[5], [1]], shape = (5, 1), type = ket\\begin{equation*}\\left(\\begin{array}{*{11}c}0.0\\\\0.0\\\\0.0\\\\0.0\\\\0.0\\\\\\end{array}\\right)\\end{equation*}"
      ],
      "text/plain": [
       "Quantum object: dims = [[5], [1]], shape = (5, 1), type = ket\n",
       "Qobj data =\n",
       "[[0.]\n",
       " [0.]\n",
       " [0.]\n",
       " [0.]\n",
       " [0.]]"
      ]
     },
     "execution_count": 77,
     "metadata": {},
     "output_type": "execute_result"
    }
   ],
   "source": [
    "a*vac"
   ]
  },
  {
   "cell_type": "markdown",
   "metadata": {},
   "source": [
    "using the adjoint of the destroy operator, $a^\\dagger$, we have $a^\\dagger\\ket{0}=\\ket{1}$"
   ]
  },
  {
   "cell_type": "code",
   "execution_count": 78,
   "metadata": {},
   "outputs": [
    {
     "data": {
      "text/latex": [
       "Quantum object: dims = [[5], [1]], shape = (5, 1), type = ket\\begin{equation*}\\left(\\begin{array}{*{11}c}0.0\\\\1.0\\\\0.0\\\\0.0\\\\0.0\\\\\\end{array}\\right)\\end{equation*}"
      ],
      "text/plain": [
       "Quantum object: dims = [[5], [1]], shape = (5, 1), type = ket\n",
       "Qobj data =\n",
       "[[0.]\n",
       " [1.]\n",
       " [0.]\n",
       " [0.]\n",
       " [0.]]"
      ]
     },
     "execution_count": 78,
     "metadata": {},
     "output_type": "execute_result"
    }
   ],
   "source": [
    "a.dag()*vac"
   ]
  },
  {
   "cell_type": "markdown",
   "metadata": {},
   "source": [
    "We could also use the `qutip.operator.create` built-in function to raise vacuum Fock state from 0 to 1"
   ]
  },
  {
   "cell_type": "code",
   "execution_count": 4,
   "metadata": {},
   "outputs": [
    {
     "data": {
      "text/latex": [
       "Quantum object: dims = [[5], [1]], shape = (5, 1), type = ket\\begin{equation*}\\left(\\begin{array}{*{11}c}0.0\\\\1.0\\\\0.0\\\\0.0\\\\0.0\\\\\\end{array}\\right)\\end{equation*}"
      ],
      "text/plain": [
       "Quantum object: dims = [[5], [1]], shape = (5, 1), type = ket\n",
       "Qobj data =\n",
       "[[0.]\n",
       " [1.]\n",
       " [0.]\n",
       " [0.]\n",
       " [0.]]"
      ]
     },
     "execution_count": 4,
     "metadata": {},
     "output_type": "execute_result"
    }
   ],
   "source": [
    "ac=create(5)\n",
    "ac*vac"
   ]
  },
  {
   "cell_type": "markdown",
   "metadata": {},
   "source": [
    "We can raise the vacuum state twice by taking the square root of `qutip.operator.create` function"
   ]
  },
  {
   "cell_type": "code",
   "execution_count": 80,
   "metadata": {},
   "outputs": [
    {
     "data": {
      "text/latex": [
       "Quantum object: dims = [[5], [1]], shape = (5, 1), type = ket\\begin{equation*}\\left(\\begin{array}{*{11}c}0.0\\\\0.0\\\\1.414\\\\0.0\\\\0.0\\\\\\end{array}\\right)\\end{equation*}"
      ],
      "text/plain": [
       "Quantum object: dims = [[5], [1]], shape = (5, 1), type = ket\n",
       "Qobj data =\n",
       "[[0.        ]\n",
       " [0.        ]\n",
       " [1.41421356]\n",
       " [0.        ]\n",
       " [0.        ]]"
      ]
     },
     "execution_count": 80,
     "metadata": {},
     "output_type": "execute_result"
    }
   ],
   "source": [
    "ac**2*vac"
   ]
  },
  {
   "cell_type": "markdown",
   "metadata": {},
   "source": [
    "To can apply  the number operator $a^\\dagger a$ to the vacuum state $\\ket{0}$"
   ]
  },
  {
   "cell_type": "code",
   "execution_count": 8,
   "metadata": {},
   "outputs": [
    {
     "data": {
      "text/latex": [
       "Quantum object: dims = [[5], [1]], shape = (5, 1), type = ket\\begin{equation*}\\left(\\begin{array}{*{11}c}0.0\\\\0.0\\\\0.0\\\\0.0\\\\0.0\\\\\\end{array}\\right)\\end{equation*}"
      ],
      "text/plain": [
       "Quantum object: dims = [[5], [1]], shape = (5, 1), type = ket\n",
       "Qobj data =\n",
       "[[0.]\n",
       " [0.]\n",
       " [0.]\n",
       " [0.]\n",
       " [0.]]"
      ]
     },
     "execution_count": 8,
     "metadata": {},
     "output_type": "execute_result"
    }
   ],
   "source": [
    "ac*a*vac"
   ]
  },
  {
   "cell_type": "markdown",
   "metadata": {},
   "source": [
    "We obtain that the vacuum state contain no photons"
   ]
  },
  {
   "cell_type": "markdown",
   "metadata": {},
   "source": [
    "to the state $\\ket{1}$"
   ]
  },
  {
   "cell_type": "code",
   "execution_count": 10,
   "metadata": {},
   "outputs": [
    {
     "data": {
      "text/latex": [
       "Quantum object: dims = [[5], [1]], shape = (5, 1), type = ket\\begin{equation*}\\left(\\begin{array}{*{11}c}0.0\\\\1.0\\\\0.0\\\\0.0\\\\0.0\\\\\\end{array}\\right)\\end{equation*}"
      ],
      "text/plain": [
       "Quantum object: dims = [[5], [1]], shape = (5, 1), type = ket\n",
       "Qobj data =\n",
       "[[0.]\n",
       " [1.]\n",
       " [0.]\n",
       " [0.]\n",
       " [0.]]"
      ]
     },
     "execution_count": 10,
     "metadata": {},
     "output_type": "execute_result"
    }
   ],
   "source": [
    "ac*a*(ac*vac)"
   ]
  },
  {
   "cell_type": "markdown",
   "metadata": {},
   "source": [
    "In order to generate a higher number of photon state, we are not obligeed to operate on the vacuum state, we can just use the `qutip.state.basis` or `qutip.state.fock` functions."
   ]
  },
  {
   "cell_type": "code",
   "execution_count": 11,
   "metadata": {},
   "outputs": [
    {
     "data": {
      "text/latex": [
       "Quantum object: dims = [[5], [1]], shape = (5, 1), type = ket\\begin{equation*}\\left(\\begin{array}{*{11}c}0.0\\\\0.0\\\\1.0\\\\0.0\\\\0.0\\\\\\end{array}\\right)\\end{equation*}"
      ],
      "text/plain": [
       "Quantum object: dims = [[5], [1]], shape = (5, 1), type = ket\n",
       "Qobj data =\n",
       "[[0.]\n",
       " [0.]\n",
       " [1.]\n",
       " [0.]\n",
       " [0.]]"
      ]
     },
     "execution_count": 11,
     "metadata": {},
     "output_type": "execute_result"
    }
   ],
   "source": [
    "basis(5,2)"
   ]
  },
  {
   "cell_type": "code",
   "execution_count": 12,
   "metadata": {},
   "outputs": [
    {
     "data": {
      "text/latex": [
       "Quantum object: dims = [[5], [1]], shape = (5, 1), type = ket\\begin{equation*}\\left(\\begin{array}{*{11}c}0.0\\\\0.0\\\\1.0\\\\0.0\\\\0.0\\\\\\end{array}\\right)\\end{equation*}"
      ],
      "text/plain": [
       "Quantum object: dims = [[5], [1]], shape = (5, 1), type = ket\n",
       "Qobj data =\n",
       "[[0.]\n",
       " [0.]\n",
       " [1.]\n",
       " [0.]\n",
       " [0.]]"
      ]
     },
     "execution_count": 12,
     "metadata": {},
     "output_type": "execute_result"
    }
   ],
   "source": [
    "fock(5,2)"
   ]
  },
  {
   "cell_type": "markdown",
   "metadata": {},
   "source": [
    "To create the number of pjotons operator, we can use the built-in function `qutip.state.num`"
   ]
  },
  {
   "cell_type": "code",
   "execution_count": 13,
   "metadata": {},
   "outputs": [
    {
     "data": {
      "text/latex": [
       "Quantum object: dims = [[5], [5]], shape = (5, 5), type = oper, isherm = True\\begin{equation*}\\left(\\begin{array}{*{11}c}0.0 & 0.0 & 0.0 & 0.0 & 0.0\\\\0.0 & 1.0 & 0.0 & 0.0 & 0.0\\\\0.0 & 0.0 & 2.0 & 0.0 & 0.0\\\\0.0 & 0.0 & 0.0 & 3.0 & 0.0\\\\0.0 & 0.0 & 0.0 & 0.0 & 4.0\\\\\\end{array}\\right)\\end{equation*}"
      ],
      "text/plain": [
       "Quantum object: dims = [[5], [5]], shape = (5, 5), type = oper, isherm = True\n",
       "Qobj data =\n",
       "[[0. 0. 0. 0. 0.]\n",
       " [0. 1. 0. 0. 0.]\n",
       " [0. 0. 2. 0. 0.]\n",
       " [0. 0. 0. 3. 0.]\n",
       " [0. 0. 0. 0. 4.]]"
      ]
     },
     "execution_count": 13,
     "metadata": {},
     "output_type": "execute_result"
    }
   ],
   "source": [
    "num(5)"
   ]
  },
  {
   "cell_type": "markdown",
   "metadata": {},
   "source": [
    "We cazn thus instead of writting `ac*a*(ac*vac).unit()`, just write `num(5)*basis(5,1)`"
   ]
  },
  {
   "cell_type": "code",
   "execution_count": 15,
   "metadata": {},
   "outputs": [
    {
     "data": {
      "text/latex": [
       "Quantum object: dims = [[5], [1]], shape = (5, 1), type = ket\\begin{equation*}\\left(\\begin{array}{*{11}c}0.0\\\\1.0\\\\0.0\\\\0.0\\\\0.0\\\\\\end{array}\\right)\\end{equation*}"
      ],
      "text/plain": [
       "Quantum object: dims = [[5], [1]], shape = (5, 1), type = ket\n",
       "Qobj data =\n",
       "[[0.]\n",
       " [1.]\n",
       " [0.]\n",
       " [0.]\n",
       " [0.]]"
      ]
     },
     "execution_count": 15,
     "metadata": {},
     "output_type": "execute_result"
    }
   ],
   "source": [
    "num(5)*basis(5,1)"
   ]
  },
  {
   "cell_type": "markdown",
   "metadata": {},
   "source": [
    "We can create **coherent states** and **squeezed states** using the functions `qutip.operator.displace` and `qutip.operator.squeezed` applied ont the vacuum state."
   ]
  },
  {
   "cell_type": "code",
   "execution_count": 16,
   "metadata": {},
   "outputs": [
    {
     "data": {
      "text/latex": [
       "Quantum object: dims = [[5], [1]], shape = (5, 1), type = ket\\begin{equation*}\\left(\\begin{array}{*{11}c}0.607\\\\0.606j\\\\-0.430\\\\-0.241j\\\\0.146\\\\\\end{array}\\right)\\end{equation*}"
      ],
      "text/plain": [
       "Quantum object: dims = [[5], [1]], shape = (5, 1), type = ket\n",
       "Qobj data =\n",
       "[[ 0.60655682+0.j        ]\n",
       " [ 0.        +0.60628133j]\n",
       " [-0.4303874 +0.j        ]\n",
       " [ 0.        -0.24104351j]\n",
       " [ 0.14552147+0.j        ]]"
      ]
     },
     "execution_count": 16,
     "metadata": {},
     "output_type": "execute_result"
    }
   ],
   "source": [
    "displace(5,1j)*vac"
   ]
  },
  {
   "cell_type": "markdown",
   "metadata": {},
   "source": [
    "We can obtain the same result using the expression $\\mt{D}(z)=e^{za^\\dagger - z^\\star a}$ of the displacement operator with complex $i$ for argument."
   ]
  },
  {
   "cell_type": "code",
   "execution_count": 19,
   "metadata": {},
   "outputs": [
    {
     "data": {
      "text/latex": [
       "Quantum object: dims = [[5], [1]], shape = (5, 1), type = ket\\begin{equation*}\\left(\\begin{array}{*{11}c}0.607\\\\0.606j\\\\-0.430\\\\-0.241j\\\\0.146\\\\\\end{array}\\right)\\end{equation*}"
      ],
      "text/plain": [
       "Quantum object: dims = [[5], [1]], shape = (5, 1), type = ket\n",
       "Qobj data =\n",
       "[[ 0.60655682+0.j        ]\n",
       " [ 0.        +0.60628133j]\n",
       " [-0.4303874 +0.j        ]\n",
       " [ 0.        -0.24104351j]\n",
       " [ 0.14552147+0.j        ]]"
      ]
     },
     "execution_count": 19,
     "metadata": {},
     "output_type": "execute_result"
    }
   ],
   "source": [
    "((1j*create(5)-np.conj(1j)*destroy(5)).expm())*vac"
   ]
  },
  {
   "cell_type": "code",
   "execution_count": 41,
   "metadata": {},
   "outputs": [
    {
     "data": {
      "text/latex": [
       "Quantum object: dims = [[5], [5]], shape = (5, 5), type = oper, isherm = False\\begin{equation*}\\left(\\begin{array}{*{11}c}0.985 & 0.0 & -0.170j & 0.0 & -0.038\\\\0.0 & 0.953 & 0.0 & -0.301j & 0.0\\\\-0.170j & 0.0 & 0.893 & 0.0 & -0.417j\\\\0.0 & -0.301j & 0.0 & 0.953 & 0.0\\\\-0.038 & 0.0 & -0.417j & 0.0 & 0.908\\\\\\end{array}\\right)\\end{equation*}"
      ],
      "text/plain": [
       "Quantum object: dims = [[5], [5]], shape = (5, 5), type = oper, isherm = False\n",
       "Qobj data =\n",
       "[[ 0.98465776+0.j          0.        +0.j          0.        -0.17040184j\n",
       "   0.        +0.j         -0.03758065+0.j        ]\n",
       " [ 0.        +0.j          0.95349007+0.j          0.        +0.j\n",
       "   0.        -0.30142443j  0.        +0.j        ]\n",
       " [ 0.        -0.17040184j  0.        +0.j          0.89260433+0.j\n",
       "   0.        +0.j          0.        -0.41739755j]\n",
       " [ 0.        +0.j          0.        -0.30142443j  0.        +0.j\n",
       "   0.95349007+0.j          0.        +0.j        ]\n",
       " [-0.03758065+0.j          0.        +0.j          0.        -0.41739755j\n",
       "   0.        +0.j          0.90794657+0.j        ]]"
      ]
     },
     "execution_count": 41,
     "metadata": {},
     "output_type": "execute_result"
    }
   ],
   "source": [
    "qutip.squeeze(5,0.25j) # signal the library used because function 'squeeze' exist in both libries qutip and numpy"
   ]
  },
  {
   "cell_type": "markdown",
   "metadata": {},
   "source": [
    "## Manipulating $\\mt{PAULI}$ operators with Sympy"
   ]
  },
  {
   "cell_type": "code",
   "execution_count": 8,
   "metadata": {},
   "outputs": [],
   "source": [
    "s_ops=sx,sy,sz,sp,sm=SigmaX(),SigmaY(),SigmaZ(),SigmaPlus(),SigmaMinus()"
   ]
  },
  {
   "cell_type": "code",
   "execution_count": 9,
   "metadata": {},
   "outputs": [],
   "source": [
    "sx1,sy1,sz1=SigmaX(1),SigmaY(1),SigmaZ(1)\n",
    "sx2,sy2,sz2=SigmaX(2),SigmaY(2),SigmaZ(2)"
   ]
  },
  {
   "cell_type": "markdown",
   "metadata": {},
   "source": [
    "$\\sigma_x\\sigma_y=i\\sigma_z$"
   ]
  },
  {
   "cell_type": "code",
   "execution_count": 8,
   "metadata": {},
   "outputs": [
    {
     "data": {
      "image/png": "[encoded data removed]",
      "text/latex": [
       "$\\displaystyle i {\\sigma_z}$"
      ],
      "text/plain": [
       "ⅈ⋅False"
      ]
     },
     "execution_count": 8,
     "metadata": {},
     "output_type": "execute_result"
    }
   ],
   "source": [
    "qsimplify_pauli(sx*sy)"
   ]
  },
  {
   "cell_type": "code",
   "execution_count": 9,
   "metadata": {},
   "outputs": [
    {
     "data": {
      "image/png": "[encoded data removed]",
      "text/latex": [
       "$\\displaystyle - {\\sigma_z^{(1)}} {\\sigma_z^{(2)}}$"
      ],
      "text/plain": [
       "-1⋅2"
      ]
     },
     "execution_count": 9,
     "metadata": {},
     "output_type": "execute_result"
    }
   ],
   "source": [
    "qsimplify_pauli(sx1*sy1*sx2*sy2)"
   ]
  },
  {
   "cell_type": "markdown",
   "metadata": {},
   "source": [
    "### HTML table"
   ]
  },
  {
   "cell_type": "markdown",
   "metadata": {},
   "source": [
    "Now we will take a look at $\\mt{PAULI}$ matrices using HTML tables."
   ]
  },
  {
   "cell_type": "code",
   "execution_count": 19,
   "metadata": {},
   "outputs": [],
   "source": [
    "def print_table (data):\n",
    "    t_table=\"<table>\\n%s\\n</table>\"\n",
    "    t_row=\"<tr>%s</tr>\"\n",
    "    t_col=\"<td>%s</td>\"\n",
    "    table_code=t_table % \"\".join([t_row % \"\".join ([t_col % (\"$%s$\" % latex(col)) \n",
    "                                                    for col in row])\n",
    "                                  for row in data])\n",
    "    return HTML(table_code)"
   ]
  },
  {
   "cell_type": "markdown",
   "metadata": {},
   "source": [
    "#### Matrix representations"
   ]
  },
  {
   "cell_type": "markdown",
   "metadata": {},
   "source": [
    "To give the representations of all $\\mt{PAULI}$ matrices"
   ]
  },
  {
   "cell_type": "code",
   "execution_count": 20,
   "metadata": {},
   "outputs": [
    {
     "data": {
      "text/html": [
       "<table>\n",
       "<tr><td>${\\sigma_x}$</td><td>${\\sigma_y}$</td><td>${\\sigma_z}$</td><td>${\\sigma_+}$</td><td>${\\sigma_-}$</td></tr><tr><td>$\\left[\\begin{matrix}0 & 1\\\\1 & 0\\end{matrix}\\right]$</td><td>$\\left[\\begin{matrix}0 & - i\\\\i & 0\\end{matrix}\\right]$</td><td>$\\left[\\begin{matrix}1 & 0\\\\0 & -1\\end{matrix}\\right]$</td><td>$\\left[\\begin{matrix}0 & 1\\\\0 & 0\\end{matrix}\\right]$</td><td>$\\left[\\begin{matrix}0 & 0\\\\1 & 0\\end{matrix}\\right]$</td></tr>\n",
       "</table>"
      ],
      "text/plain": [
       "<IPython.core.display.HTML object>"
      ]
     },
     "execution_count": 20,
     "metadata": {},
     "output_type": "execute_result"
    }
   ],
   "source": [
    "data=[s_ops, [represent(s) for s in s_ops]]\n",
    "print_table(data)"
   ]
  },
  {
   "cell_type": "markdown",
   "metadata": {},
   "source": [
    "#### Commutators"
   ]
  },
  {
   "cell_type": "markdown",
   "metadata": {},
   "source": [
    "Now, we will print in a table all the commutations relations between all the elements of `s_ops=sx,sy,sz,sp,sm`"
   ]
  },
  {
   "cell_type": "code",
   "execution_count": 24,
   "metadata": {},
   "outputs": [
    {
     "data": {
      "text/html": [
       "<table>\n",
       "<tr><td>${\\rm Expression}$</td><td>${\\rm Returned\\;expression}$</td><td>${\\rm Equality\\;test}$</td></tr><tr><td>$\\left[{\\sigma_x},{\\sigma_y}\\right]$</td><td>$2 i {\\sigma_z}$</td><td>$\\text{True}$</td></tr><tr><td>$\\left[{\\sigma_x},{\\sigma_z}\\right]$</td><td>$- 2 i {\\sigma_y}$</td><td>$\\text{True}$</td></tr><tr><td>$- \\left[{\\sigma_+},{\\sigma_x}\\right]$</td><td>$- {\\sigma_z}$</td><td>$\\text{True}$</td></tr><tr><td>$- \\left[{\\sigma_-},{\\sigma_x}\\right]$</td><td>${\\sigma_z}$</td><td>$\\text{True}$</td></tr><tr><td>$- \\left[{\\sigma_x},{\\sigma_y}\\right]$</td><td>$- 2 i {\\sigma_z}$</td><td>$\\text{True}$</td></tr><tr><td>$\\left[{\\sigma_y},{\\sigma_z}\\right]$</td><td>$2 i {\\sigma_x}$</td><td>$\\text{True}$</td></tr><tr><td>$- \\left[{\\sigma_+},{\\sigma_y}\\right]$</td><td>$- i {\\sigma_z}$</td><td>$\\text{True}$</td></tr><tr><td>$- \\left[{\\sigma_-},{\\sigma_y}\\right]$</td><td>$- i {\\sigma_z}$</td><td>$\\text{True}$</td></tr><tr><td>$- \\left[{\\sigma_x},{\\sigma_z}\\right]$</td><td>$2 i {\\sigma_y}$</td><td>$\\text{True}$</td></tr><tr><td>$- \\left[{\\sigma_y},{\\sigma_z}\\right]$</td><td>$- 2 i {\\sigma_x}$</td><td>$\\text{True}$</td></tr><tr><td>$- \\left[{\\sigma_+},{\\sigma_z}\\right]$</td><td>$2 {\\sigma_+}$</td><td>$\\text{True}$</td></tr><tr><td>$- \\left[{\\sigma_-},{\\sigma_z}\\right]$</td><td>$- 2 {\\sigma_-}$</td><td>$\\text{True}$</td></tr><tr><td>$\\left[{\\sigma_+},{\\sigma_x}\\right]$</td><td>${\\sigma_z}$</td><td>$\\text{True}$</td></tr><tr><td>$\\left[{\\sigma_+},{\\sigma_y}\\right]$</td><td>$i {\\sigma_z}$</td><td>$\\text{True}$</td></tr><tr><td>$\\left[{\\sigma_+},{\\sigma_z}\\right]$</td><td>$- 2 {\\sigma_+}$</td><td>$\\text{True}$</td></tr><tr><td>$- \\left[{\\sigma_-},{\\sigma_+}\\right]$</td><td>${\\sigma_z}$</td><td>$\\text{True}$</td></tr><tr><td>$\\left[{\\sigma_-},{\\sigma_x}\\right]$</td><td>$- {\\sigma_z}$</td><td>$\\text{True}$</td></tr><tr><td>$\\left[{\\sigma_-},{\\sigma_y}\\right]$</td><td>$i {\\sigma_z}$</td><td>$\\text{True}$</td></tr><tr><td>$\\left[{\\sigma_-},{\\sigma_z}\\right]$</td><td>$2 {\\sigma_-}$</td><td>$\\text{True}$</td></tr><tr><td>$\\left[{\\sigma_-},{\\sigma_+}\\right]$</td><td>$- {\\sigma_z}$</td><td>$\\text{True}$</td></tr>\n",
       "</table>"
      ],
      "text/plain": [
       "<IPython.core.display.HTML object>"
      ]
     },
     "execution_count": 24,
     "metadata": {},
     "output_type": "execute_result"
    }
   ],
   "source": [
    "data=[[r\"{\\rm Expression}\", r\"{\\rm Returned\\;expression}\", r\"{\\rm Equality\\;test}\"]] + \\\n",
    "     [[Commutator(s1,s2),\n",
    "       Commutator(s1,s2).doit(),\n",
    "       represent(Commutator(s1,s2))==represent(Commutator(s1,s2).doit())]\n",
    "      for s1 in s_ops for s2 in s_ops if s1!=s2]\n",
    "\n",
    "print_table(data)"
   ]
  },
  {
   "cell_type": "code",
   "execution_count": 31,
   "metadata": {},
   "outputs": [],
   "source": [
    "def eliminative_zero_matrix(e): #function which tells us if the caculation of the anticommutator is well done\n",
    "     return 0 if e==Matrix([[0,0],[0,0]]) else e"
   ]
  },
  {
   "cell_type": "code",
   "execution_count": 33,
   "metadata": {},
   "outputs": [
    {
     "data": {
      "text/html": [
       "<table>\n",
       "<tr><td>${\\rm Expression}$</td><td>${\\rm Returned\\;Value}$</td><td>${\\rm Equality\\;test}$</td></tr><tr><td>$\\left\\{{\\sigma_x},{\\sigma_y}\\right\\}$</td><td>$0$</td><td>$\\text{True}$</td></tr><tr><td>$\\left\\{{\\sigma_x},{\\sigma_z}\\right\\}$</td><td>$0$</td><td>$\\text{True}$</td></tr><tr><td>$\\left\\{{\\sigma_+},{\\sigma_x}\\right\\}$</td><td>$1$</td><td>$\\text{True}$</td></tr><tr><td>$\\left\\{{\\sigma_-},{\\sigma_x}\\right\\}$</td><td>$1$</td><td>$\\text{True}$</td></tr><tr><td>$\\left\\{{\\sigma_x},{\\sigma_y}\\right\\}$</td><td>$0$</td><td>$\\text{True}$</td></tr><tr><td>$\\left\\{{\\sigma_y},{\\sigma_z}\\right\\}$</td><td>$0$</td><td>$\\text{True}$</td></tr><tr><td>$\\left\\{{\\sigma_+},{\\sigma_y}\\right\\}$</td><td>$i$</td><td>$\\text{True}$</td></tr><tr><td>$\\left\\{{\\sigma_-},{\\sigma_y}\\right\\}$</td><td>$- i$</td><td>$\\text{True}$</td></tr><tr><td>$\\left\\{{\\sigma_x},{\\sigma_z}\\right\\}$</td><td>$0$</td><td>$\\text{True}$</td></tr><tr><td>$\\left\\{{\\sigma_y},{\\sigma_z}\\right\\}$</td><td>$0$</td><td>$\\text{True}$</td></tr><tr><td>$\\left\\{{\\sigma_+},{\\sigma_z}\\right\\}$</td><td>$0$</td><td>$\\text{True}$</td></tr><tr><td>$\\left\\{{\\sigma_-},{\\sigma_z}\\right\\}$</td><td>$0$</td><td>$\\text{True}$</td></tr><tr><td>$\\left\\{{\\sigma_+},{\\sigma_x}\\right\\}$</td><td>$1$</td><td>$\\text{True}$</td></tr><tr><td>$\\left\\{{\\sigma_+},{\\sigma_y}\\right\\}$</td><td>$i$</td><td>$\\text{True}$</td></tr><tr><td>$\\left\\{{\\sigma_+},{\\sigma_z}\\right\\}$</td><td>$0$</td><td>$\\text{True}$</td></tr><tr><td>$\\left\\{{\\sigma_-},{\\sigma_+}\\right\\}$</td><td>$1$</td><td>$\\text{True}$</td></tr><tr><td>$\\left\\{{\\sigma_-},{\\sigma_x}\\right\\}$</td><td>$1$</td><td>$\\text{True}$</td></tr><tr><td>$\\left\\{{\\sigma_-},{\\sigma_y}\\right\\}$</td><td>$- i$</td><td>$\\text{True}$</td></tr><tr><td>$\\left\\{{\\sigma_-},{\\sigma_z}\\right\\}$</td><td>$0$</td><td>$\\text{True}$</td></tr><tr><td>$\\left\\{{\\sigma_-},{\\sigma_+}\\right\\}$</td><td>$1$</td><td>$\\text{True}$</td></tr>\n",
       "</table>"
      ],
      "text/plain": [
       "<IPython.core.display.HTML object>"
      ]
     },
     "execution_count": 33,
     "metadata": {},
     "output_type": "execute_result"
    }
   ],
   "source": [
    "I=IdentityOperator(2)\n",
    "data=[[r\"{\\rm Expression}\", r\"{\\rm Returned\\;Value}\", r\"{\\rm Equality\\;test}\"]] + \\\n",
    "     [[AntiCommutator(s1,s2),\n",
    "       AntiCommutator(s1,s2).doit(),\n",
    "       eliminative_zero_matrix(represent(AntiCommutator(s1,s2)))==represent(I*AntiCommutator(s1,s2).doit())]\n",
    "      for s1 in s_ops for s2 in s_ops if s1!=s2]\n",
    "\n",
    "print_table(data)"
   ]
  },
  {
   "cell_type": "markdown",
   "metadata": {},
   "source": [
    "#### Adjoint"
   ]
  },
  {
   "cell_type": "code",
   "execution_count": 36,
   "metadata": {},
   "outputs": [
    {
     "data": {
      "image/png": "[encoded data removed]",
      "text/latex": [
       "$\\displaystyle {\\sigma_x}$"
      ],
      "text/plain": [
       "False"
      ]
     },
     "execution_count": 36,
     "metadata": {},
     "output_type": "execute_result"
    }
   ],
   "source": [
    "Dagger(sx)"
   ]
  },
  {
   "cell_type": "markdown",
   "metadata": {},
   "source": [
    "$\\sigma_x^\\dagger=\\sigma_x$"
   ]
  },
  {
   "cell_type": "code",
   "execution_count": 37,
   "metadata": {},
   "outputs": [
    {
     "data": {
      "image/png": "[encoded data removed]",
      "text/latex": [
       "$\\displaystyle {\\sigma_y}$"
      ],
      "text/plain": [
       "False"
      ]
     },
     "execution_count": 37,
     "metadata": {},
     "output_type": "execute_result"
    }
   ],
   "source": [
    "Dagger(sy)"
   ]
  },
  {
   "cell_type": "markdown",
   "metadata": {},
   "source": [
    "$\\sigma_y^\\dagger=\\sigma_y$"
   ]
  },
  {
   "cell_type": "code",
   "execution_count": 39,
   "metadata": {},
   "outputs": [
    {
     "data": {
      "image/png": "[encoded data removed]",
      "text/latex": [
       "$\\displaystyle {\\sigma_z}$"
      ],
      "text/plain": [
       "False"
      ]
     },
     "execution_count": 39,
     "metadata": {},
     "output_type": "execute_result"
    }
   ],
   "source": [
    "Dagger(sz)"
   ]
  },
  {
   "cell_type": "markdown",
   "metadata": {},
   "source": [
    "#### powers"
   ]
  },
  {
   "cell_type": "markdown",
   "metadata": {},
   "source": [
    "In what follws, we will calculate the powers of $\\mt{PAULI}$ matrices using python lists to be fast"
   ]
  },
  {
   "cell_type": "code",
   "execution_count": 44,
   "metadata": {},
   "outputs": [
    {
     "data": {
      "image/png": "[encoded data removed]",
      "text/latex": [
       "$\\displaystyle \\left[ 1, \\  {\\sigma_x}, \\  1, \\  {\\sigma_x}, \\  1, \\  {\\sigma_x}, \\  1, \\  {\\sigma_x}, \\  1, \\  {\\sigma_x}\\right]$"
      ],
      "text/plain": [
       "[1, False, 1, False, 1, False, 1, False, 1, False]"
      ]
     },
     "execution_count": 44,
     "metadata": {},
     "output_type": "execute_result"
    }
   ],
   "source": [
    "[sx**n for n in range(10)] #sx^n, n=1,2,.....,10"
   ]
  },
  {
   "cell_type": "markdown",
   "metadata": {},
   "source": [
    "Furthermore $\\sigma_x^{2k}=\\sigma_x$ and $\\sigma_x^{2k+1}=\\mathbb{I}$"
   ]
  },
  {
   "cell_type": "code",
   "execution_count": 42,
   "metadata": {},
   "outputs": [
    {
     "data": {
      "image/png": "[encoded data removed]",
      "text/latex": [
       "$\\displaystyle \\left[ 1, \\  {\\sigma_y}, \\  1, \\  {\\sigma_y}, \\  1, \\  {\\sigma_y}, \\  1, \\  {\\sigma_y}, \\  1, \\  {\\sigma_y}\\right]$"
      ],
      "text/plain": [
       "[1, False, 1, False, 1, False, 1, False, 1, False]"
      ]
     },
     "execution_count": 42,
     "metadata": {},
     "output_type": "execute_result"
    }
   ],
   "source": [
    "[sy**n for n in range(10)]  #sy^n, n=1,2,.....,10"
   ]
  },
  {
   "cell_type": "markdown",
   "metadata": {},
   "source": [
    "Furthermore $\\sigma_y^{2k}=\\sigma_y$ and $\\sigma_y^{2k+1}=\\mathbb{I}$"
   ]
  },
  {
   "cell_type": "code",
   "execution_count": 46,
   "metadata": {},
   "outputs": [
    {
     "data": {
      "image/png": "[encoded data removed]",
      "text/latex": [
       "$\\displaystyle \\left[ 1, \\  {\\sigma_z}, \\  1, \\  {\\sigma_z}, \\  1, \\  {\\sigma_z}, \\  1, \\  {\\sigma_z}, \\  1, \\  {\\sigma_z}\\right]$"
      ],
      "text/plain": [
       "[1, False, 1, False, 1, False, 1, False, 1, False]"
      ]
     },
     "execution_count": 46,
     "metadata": {},
     "output_type": "execute_result"
    }
   ],
   "source": [
    "[sz**n for n in range(10)]  #sy^n, n=1,2,.....,10"
   ]
  },
  {
   "cell_type": "markdown",
   "metadata": {},
   "source": [
    "Furthermore $\\sigma_z^{2k}=\\sigma_z$ and $\\sigma_z^{2k+1}=\\mathbb{I}$"
   ]
  },
  {
   "cell_type": "markdown",
   "metadata": {},
   "source": [
    "   ## Exercise 2.6.1-Représentation matricielle "
   ]
  },
  {
   "cell_type": "markdown",
   "metadata": {},
   "source": []
  },
  {
   "cell_type": "markdown",
   "metadata": {},
   "source": [
    "$\n",
    "\\newcommand{\\mt}[1]{\\mathtt{#1}}\n",
    "\\newcommand{\\mc}[1]{\\mathcal{#1}}\n",
    "\\newcommand{\\mb}[1]{\\mathbb{#1}} \n",
    "\\newcommand{\\mr}[1]{\\mathrm{#1}} \n",
    "\\newcommand{\\bra}[1]{\\langle#1|}  \n",
    "\\newcommand{\\ket}[1]{|#1\\rangle}\n",
    "\\newcommand{\\fr}[2]{\\frac{#1}{#2}}\n",
    "\\newcommand{\\sq}[1]{\\sqrt{#1}}\n",
    "\\newcommand{\\phiu}{|\\varphi_1\\rangle}\n",
    "\\newcommand{\\phid}{|\\varphi_2\\rangle}\n",
    "\\newcommand{\\phit}{|\\varphi_3\\rangle}\n",
    "\\newcommand{\\psiz}{|\\psi_0\\rangle}\n",
    "\\newcommand{\\psiu}{|\\psi_1\\rangle}\n",
    "$\n",
    "\n",
    "1. On définit les kets $\\ket{\\psi_0}=\\frac{1}{\\sq{2}}\\phiu+\\fr{i}{2}\\phid+ \\frac{1}{2}\\phit$ et $\\ket{\\psi_1}=\\fr{1}{\\sq{3}}(\\phiu+i\\phit$\n",
    "\n",
    "(a) Vérifions si ces kets sont normé.Commençons par définir les vecteurs $\\ket{\\psi_0}$ et $\\ket{\\psi_1}$"
   ]
  },
  {
   "cell_type": "code",
   "execution_count": 19,
   "metadata": {},
   "outputs": [],
   "source": [
    "psi0=Qobj([[1/sqrt(2)],[1j/2],[1/2]])\n",
    "psi1=Qobj([[1/sqrt(3)],[0],[1j/sqrt(3)]])"
   ]
  },
  {
   "cell_type": "markdown",
   "metadata": {},
   "source": [
    "Pour vérifier si ces kets sont normés, il suffit leurs normes respectives en leurs produits scalaires"
   ]
  },
  {
   "cell_type": "code",
   "execution_count": 87,
   "metadata": {},
   "outputs": [
    {
     "data": {
      "text/plain": [
       "array([[1.+0.j]])"
      ]
     },
     "execution_count": 87,
     "metadata": {},
     "output_type": "execute_result"
    }
   ],
   "source": [
    "sqrt(psi0.dag()*psi0)"
   ]
  },
  {
   "cell_type": "code",
   "execution_count": 20,
   "metadata": {},
   "outputs": [
    {
     "data": {
      "text/plain": [
       "array([[0.81649658+0.j]])"
      ]
     },
     "execution_count": 20,
     "metadata": {},
     "output_type": "execute_result"
    }
   ],
   "source": [
    "sqrt(psi1.dag()*psi1)"
   ]
  },
  {
   "cell_type": "markdown",
   "metadata": {},
   "source": [
    "$\\ket{\\psi_0}$ est un ket normé mais $\\ket{\\psi_1}$ ne l'est pas."
   ]
  },
  {
   "cell_type": "markdown",
   "metadata": {},
   "source": [
    "(b) Projecteurs sur les états $\\ket{\\psi_0}$ et $\\ket{\\psi_1}$\n",
    "    Le projecteur sur $\\ket{\\psi_i}$ est donné par $\\ket{\\psi_i}\\bra{\\psi_i}$. En QuTiP, on peut évaluer le projecteur d'un Qobj en utilisant la fonction `Q.proj()`\n",
    "    \n",
    "  Projecteur $\\mt{P_0}$ sur $\\ket{\\psi_0}$"
   ]
  },
  {
   "cell_type": "code",
   "execution_count": 102,
   "metadata": {},
   "outputs": [
    {
     "data": {
      "text/latex": [
       "Quantum object: dims = [[3], [3]], shape = (3, 3), type = oper, isherm = True\\begin{equation*}\\left(\\begin{array}{*{11}c}0.500 & -0.354j & 0.354\\\\0.354j & 0.250 & 0.250j\\\\0.354 & -0.250j & 0.250\\\\\\end{array}\\right)\\end{equation*}"
      ],
      "text/plain": [
       "Quantum object: dims = [[3], [3]], shape = (3, 3), type = oper, isherm = True\n",
       "Qobj data =\n",
       "[[0.5       +0.j         0.        -0.35355339j 0.35355339+0.j        ]\n",
       " [0.        +0.35355339j 0.25      +0.j         0.        +0.25j      ]\n",
       " [0.35355339+0.j         0.        -0.25j       0.25      +0.j        ]]"
      ]
     },
     "execution_count": 102,
     "metadata": {},
     "output_type": "execute_result"
    }
   ],
   "source": [
    "psi0.proj()"
   ]
  },
  {
   "cell_type": "markdown",
   "metadata": {},
   "source": [
    "Projecteur $\\mt{P_1}$  sur $\\ket{\\psi_1}$ "
   ]
  },
  {
   "cell_type": "code",
   "execution_count": 103,
   "metadata": {},
   "outputs": [
    {
     "data": {
      "text/latex": [
       "Quantum object: dims = [[3], [3]], shape = (3, 3), type = oper, isherm = True\\begin{equation*}\\left(\\begin{array}{*{11}c}0.333 & 0.0 & -0.333j\\\\0.0 & 0.0 & 0.0\\\\0.333j & 0.0 & 0.333\\\\\\end{array}\\right)\\end{equation*}"
      ],
      "text/plain": [
       "Quantum object: dims = [[3], [3]], shape = (3, 3), type = oper, isherm = True\n",
       "Qobj data =\n",
       "[[0.33333333+0.j         0.        +0.j         0.        -0.33333333j]\n",
       " [0.        +0.j         0.        +0.j         0.        +0.j        ]\n",
       " [0.        +0.33333333j 0.        +0.j         0.33333333+0.j        ]]"
      ]
     },
     "execution_count": 103,
     "metadata": {},
     "output_type": "execute_result"
    }
   ],
   "source": [
    "psi1.proj()"
   ]
  },
  {
   "cell_type": "markdown",
   "metadata": {},
   "source": [
    "(c) Hermiticité de matrices $\\mt{P_0}$ et $\\mt{P_1}$\n",
    "\n",
    "En QuTiP, on vérifie l'hermiticité d'un opérateur en utilisant l'attribut `Q.isherm`."
   ]
  },
  {
   "cell_type": "code",
   "execution_count": 104,
   "metadata": {},
   "outputs": [
    {
     "data": {
      "text/plain": [
       "True"
      ]
     },
     "execution_count": 104,
     "metadata": {},
     "output_type": "execute_result"
    }
   ],
   "source": [
    "(psi0.proj()).isherm"
   ]
  },
  {
   "cell_type": "code",
   "execution_count": 105,
   "metadata": {},
   "outputs": [
    {
     "data": {
      "text/plain": [
       "True"
      ]
     },
     "execution_count": 105,
     "metadata": {},
     "output_type": "execute_result"
    }
   ],
   "source": [
    "(psi1.proj()).isherm"
   ]
  },
  {
   "cell_type": "markdown",
   "metadata": {},
   "source": [
    "D'où les projecteurs $\\mt{P_0}$ et $\\mt{P_1}$ sont **hermitiens**."
   ]
  },
  {
   "cell_type": "markdown",
   "metadata": {},
   "source": [
    "2. On définit dans un espace à deux dimeniosn L'opérateur $\\mt{Y}$ donné par $\\mt{Y}=\\begin{pmatrix} 0 & -i \\\\ i & 0 \\end{pmatrix}$"
   ]
  },
  {
   "cell_type": "code",
   "execution_count": 106,
   "metadata": {},
   "outputs": [
    {
     "data": {
      "text/latex": [
       "Quantum object: dims = [[2], [2]], shape = (2, 2), type = oper, isherm = True\\begin{equation*}\\left(\\begin{array}{*{11}c}0.0 & -1.0j\\\\1.0j & 0.0\\\\\\end{array}\\right)\\end{equation*}"
      ],
      "text/plain": [
       "Quantum object: dims = [[2], [2]], shape = (2, 2), type = oper, isherm = True\n",
       "Qobj data =\n",
       "[[0.+0.j 0.-1.j]\n",
       " [0.+1.j 0.+0.j]]"
      ]
     },
     "execution_count": 106,
     "metadata": {},
     "output_type": "execute_result"
    }
   ],
   "source": [
    "Y=Qobj([[0,-1j],[1j,0]])\n",
    "Y"
   ]
  },
  {
   "cell_type": "markdown",
   "metadata": {},
   "source": [
    "(a) Vérifions l'hermiticité de $\\mt{Y}$ en utilisant la fonction `Q.check_herm()`"
   ]
  },
  {
   "cell_type": "code",
   "execution_count": 107,
   "metadata": {},
   "outputs": [
    {
     "data": {
      "text/plain": [
       "True"
      ]
     },
     "execution_count": 107,
     "metadata": {},
     "output_type": "execute_result"
    }
   ],
   "source": [
    "Y.check_herm()"
   ]
  },
  {
   "cell_type": "markdown",
   "metadata": {},
   "source": [
    "$\\mt{Y}$ est hermitien."
   ]
  },
  {
   "cell_type": "markdown",
   "metadata": {},
   "source": [
    "(b) Calculons ses valeurs propres.\n",
    "En QuTiP, les valeurs et vecteurs propres d'un Qobj se calculent en utilisant la focntion `Q.eigenstates()`"
   ]
  },
  {
   "cell_type": "code",
   "execution_count": 108,
   "metadata": {},
   "outputs": [
    {
     "data": {
      "text/plain": [
       "(array([-1.,  1.]),\n",
       " array([Quantum object: dims = [[2], [1]], shape = (2, 1), type = ket\n",
       " Qobj data =\n",
       " [[-0.70710678+0.j        ]\n",
       "  [ 0.        +0.70710678j]],\n",
       "        Quantum object: dims = [[2], [1]], shape = (2, 1), type = ket\n",
       " Qobj data =\n",
       " [[-0.70710678+0.j        ]\n",
       "  [ 0.        -0.70710678j]]], dtype=object))"
      ]
     },
     "execution_count": 108,
     "metadata": {},
     "output_type": "execute_result"
    }
   ],
   "source": [
    "Y.eigenstates()"
   ]
  },
  {
   "cell_type": "markdown",
   "metadata": {},
   "source": [
    "les valeurs propres de $\\mt{Y}$ sont -1 et 1 avec respectivement pur vecteurs propres $\\fr{1}{\\sq{2}}(-\\phiu+i\\phid)$ et $-\\fr{1}{\\sq{2}}(\\phiu+i\\phid)$"
   ]
  },
  {
   "cell_type": "markdown",
   "metadata": {},
   "source": [
    "(c) Calculons les matrices représentants ces projecteurs sur ces vecteurs propres et vérifions que celles-ci satisfont à des relations d'orthogonalités.\n",
    " \n",
    " - Projecteur sur $\\fr{1}{\\sq{2}}(-\\phiu+i\\phid)$"
   ]
  },
  {
   "cell_type": "code",
   "execution_count": 109,
   "metadata": {},
   "outputs": [
    {
     "data": {
      "text/latex": [
       "Quantum object: dims = [[2], [2]], shape = (2, 2), type = oper, isherm = True\\begin{equation*}\\left(\\begin{array}{*{11}c}0.500 & 0.500j\\\\-0.500j & 0.500\\\\\\end{array}\\right)\\end{equation*}"
      ],
      "text/plain": [
       "Quantum object: dims = [[2], [2]], shape = (2, 2), type = oper, isherm = True\n",
       "Qobj data =\n",
       "[[0.5+0.j  0. +0.5j]\n",
       " [0. -0.5j 0.5+0.j ]]"
      ]
     },
     "execution_count": 109,
     "metadata": {},
     "output_type": "execute_result"
    }
   ],
   "source": [
    "(Qobj([[-1/sqrt(2)],[1j/sqrt(2)]])).proj()"
   ]
  },
  {
   "cell_type": "markdown",
   "metadata": {},
   "source": [
    "- Projecteur sur  $-\\fr{1}{\\sq{2}}(\\phiu+i\\phid)$"
   ]
  },
  {
   "cell_type": "code",
   "execution_count": 110,
   "metadata": {},
   "outputs": [
    {
     "data": {
      "text/latex": [
       "Quantum object: dims = [[2], [2]], shape = (2, 2), type = oper, isherm = True\\begin{equation*}\\left(\\begin{array}{*{11}c}0.500 & -0.500j\\\\0.500j & 0.500\\\\\\end{array}\\right)\\end{equation*}"
      ],
      "text/plain": [
       "Quantum object: dims = [[2], [2]], shape = (2, 2), type = oper, isherm = True\n",
       "Qobj data =\n",
       "[[0.5+0.j  0. -0.5j]\n",
       " [0. +0.5j 0.5+0.j ]]"
      ]
     },
     "execution_count": 110,
     "metadata": {},
     "output_type": "execute_result"
    }
   ],
   "source": [
    "(Qobj([[-1/sqrt(2)],[-1j/sqrt(2)]])).proj()"
   ]
  },
  {
   "cell_type": "markdown",
   "metadata": {},
   "source": [
    "- Relations d'orthogonalité et de ferméture:\n",
    "\n",
    "    **Relation de d'orhogonalité**: $\\mt{P_iP_j}=\\delta_{ij}\\mt{P_i}$\n",
    "    \n",
    "    **Relation de ferméture**: $\\sum_i \\mt{P_i}=\\mb{I}$"
   ]
  },
  {
   "cell_type": "code",
   "execution_count": 14,
   "metadata": {},
   "outputs": [
    {
     "data": {
      "text/latex": [
       "Quantum object: dims = [[2], [2]], shape = (2, 2), type = oper, isherm = True\\begin{equation*}\\left(\\begin{array}{*{11}c}0.0 & 0.0\\\\0.0 & 0.0\\\\\\end{array}\\right)\\end{equation*}"
      ],
      "text/plain": [
       "Quantum object: dims = [[2], [2]], shape = (2, 2), type = oper, isherm = True\n",
       "Qobj data =\n",
       "[[0. 0.]\n",
       " [0. 0.]]"
      ]
     },
     "execution_count": 14,
     "metadata": {},
     "output_type": "execute_result"
    }
   ],
   "source": [
    "(Qobj([[-1/sqrt(2)],[1j/sqrt(2)]])).proj()*(Qobj([[-1/sqrt(2)],[-1j/sqrt(2)]])).proj()"
   ]
  },
  {
   "cell_type": "markdown",
   "metadata": {},
   "source": [
    "La relation d'orhtogonalité est vérifiée."
   ]
  },
  {
   "cell_type": "code",
   "execution_count": 15,
   "metadata": {},
   "outputs": [
    {
     "data": {
      "text/latex": [
       "Quantum object: dims = [[2], [2]], shape = (2, 2), type = oper, isherm = True\\begin{equation*}\\left(\\begin{array}{*{11}c}1.000 & 0.0\\\\0.0 & 1.000\\\\\\end{array}\\right)\\end{equation*}"
      ],
      "text/plain": [
       "Quantum object: dims = [[2], [2]], shape = (2, 2), type = oper, isherm = True\n",
       "Qobj data =\n",
       "[[1. 0.]\n",
       " [0. 1.]]"
      ]
     },
     "execution_count": 15,
     "metadata": {},
     "output_type": "execute_result"
    }
   ],
   "source": [
    "(Qobj([[-1/sqrt(2)],[1j/sqrt(2)]])).proj()+(Qobj([[-1/sqrt(2)],[-1j/sqrt(2)]])).proj()"
   ]
  },
  {
   "cell_type": "markdown",
   "metadata": {},
   "source": [
    "relation de ferméture vérifiée."
   ]
  },
  {
   "cell_type": "markdown",
   "metadata": {},
   "source": [
    "## Exercise 3.4.2- ECOC\n",
    "$\n",
    "\\newcommand{\\bra}[1]{\\langle#1|} \n",
    "\\newcommand{\\ket}[1]{|#1\\rangle} \n",
    "$\n",
    "Le Hamiltonien d'un système exprimé dans la base standard  $\\{\\ket{u_1},\\ket{u_2},\\ket{u_3}\\}$  est $\\mt{H}=\\begin{pmatrix}  2 & -3\\sq{2} & 3\\sq{2}\\\\ -3\\sq{2} & -1 & -3\\\\ 3\\sq{2} & -3 & -1 \\end{pmatrix}$\n",
    "\n",
    "1. Définissons les vecteurs de base $\\ket{u_1},\\ket{u_2}, \\ket{u_3}$ et le hamiltonien $\\mt{H}$"
   ]
  },
  {
   "cell_type": "code",
   "execution_count": 64,
   "metadata": {},
   "outputs": [
    {
     "name": "stdout",
     "output_type": "stream",
     "text": [
      "Les vecteurs de base sont u1= Quantum object: dims = [[3], [1]], shape = (3, 1), type = ket\n",
      "Qobj data =\n",
      "[[1.]\n",
      " [0.]\n",
      " [0.]] u2= Quantum object: dims = [[3], [1]], shape = (3, 1), type = ket\n",
      "Qobj data =\n",
      "[[0.]\n",
      " [1.]\n",
      " [0.]] u3= Quantum object: dims = [[3], [1]], shape = (3, 1), type = ket\n",
      "Qobj data =\n",
      "[[0.]\n",
      " [0.]\n",
      " [1.]] et le hamiltonien H est H= Quantum object: dims = [[3], [3]], shape = (3, 3), type = oper, isherm = True\n",
      "Qobj data =\n",
      "[[ 2.         -4.24264069  4.24264069]\n",
      " [-4.24264069 -1.         -3.        ]\n",
      " [ 4.24264069 -3.         -1.        ]]\n"
     ]
    }
   ],
   "source": [
    "u1=ket('0',3)\n",
    "u2=ket(\"1\",3)\n",
    "u3=ket(\"2\",3)\n",
    "H=Qobj([[2,-3*sqrt(2),3*sqrt(2)],[-3*sqrt(2),-1,-3],[3*sqrt(2),-3,-1]])\n",
    "print('Les vecteurs de base sont u1=',u1,'u2=',u2,'u3=',u3,'et le hamiltonien H est H=',H)"
   ]
  },
  {
   "cell_type": "markdown",
   "metadata": {},
   "source": [
    "2. Valeurs propres $E_1, E_2$ et $E_3$ et vecteurs propres $\\ket{E_1},\\ket{E_2},\\ket{E_3}$ associés.\n",
    "\n",
    "Les valeures et vecteurs propres d'un opérateur s'obtiennent dans la bibliotheque QuTiP à travers la fontion `Q.eigenstates()`. Dans ce qui suit, nous allons stocker ces valeures propres dans les variables `Hvals` et `Hvects` "
   ]
  },
  {
   "cell_type": "code",
   "execution_count": 65,
   "metadata": {},
   "outputs": [],
   "source": [
    "Hvals,Hvects=H.eigenstates()"
   ]
  },
  {
   "cell_type": "code",
   "execution_count": 68,
   "metadata": {},
   "outputs": [
    {
     "name": "stdout",
     "output_type": "stream",
     "text": [
      "Les valeurs propres de H sont:\n",
      " E1= -4.0 E2= -3.999999999999993 E3= 8.0 \n",
      " et les vecteurs propres associés sont vect1= Quantum object: dims = [[3], [1]], shape = (3, 1), type = ket\n",
      "Qobj data =\n",
      "[[0.        ]\n",
      " [0.70710678]\n",
      " [0.70710678]] \n",
      " vect2= Quantum object: dims = [[3], [1]], shape = (3, 1), type = ket\n",
      "Qobj data =\n",
      "[[ 0.70710678]\n",
      " [ 0.5       ]\n",
      " [-0.5       ]] \n",
      " et vect3= Quantum object: dims = [[3], [1]], shape = (3, 1), type = ket\n",
      "Qobj data =\n",
      "[[ 0.70710678]\n",
      " [-0.5       ]\n",
      " [ 0.5       ]]\n"
     ]
    }
   ],
   "source": [
    "vect1=Hvects[0]\n",
    "vect2=Hvects[1]\n",
    "vect3=Hvects[2]\n",
    "print('Les valeurs propres de H sont:\\n E1=',Hvals[0],'E2=',Hvals[1],'E3=',Hvals[2],'\\n et les vecteurs propres associés sont vect1=',vect1,'\\n vect2=',vect2,'\\n et vect3=',vect3)"
   ]
  },
  {
   "cell_type": "markdown",
   "metadata": {},
   "source": [
    "5. Projecteurs $\\mt{P_1}, \\mt{P_2}$ et $\\mt{P_3}$ sur les états propres de $\\mt{H}$"
   ]
  },
  {
   "cell_type": "code",
   "execution_count": 69,
   "metadata": {},
   "outputs": [
    {
     "name": "stdout",
     "output_type": "stream",
     "text": [
      "Les projecteurs P1, P2 et P3 respectivement sur les états propres vect1 ,vect2 et vec3 sont:\n",
      " P1= Quantum object: dims = [[3], [3]], shape = (3, 3), type = oper, isherm = True\n",
      "Qobj data =\n",
      "[[0.  0.  0. ]\n",
      " [0.  0.5 0.5]\n",
      " [0.  0.5 0.5]] \n",
      "P2= Quantum object: dims = [[3], [3]], shape = (3, 3), type = oper, isherm = True\n",
      "Qobj data =\n",
      "[[ 0.5         0.35355339 -0.35355339]\n",
      " [ 0.35355339  0.25       -0.25      ]\n",
      " [-0.35355339 -0.25        0.25      ]] \n",
      "P3= Quantum object: dims = [[3], [3]], shape = (3, 3), type = oper, isherm = True\n",
      "Qobj data =\n",
      "[[ 0.5        -0.35355339  0.35355339]\n",
      " [-0.35355339  0.25       -0.25      ]\n",
      " [ 0.35355339 -0.25        0.25      ]]\n"
     ]
    }
   ],
   "source": [
    "P1=vect1.proj()\n",
    "P2=vect2.proj()\n",
    "P3=vect3.proj()\n",
    "print('Les projecteurs P1, P2 et P3 respectivement sur les états propres vect1 ,vect2 et vec3 sont:\\n P1=', P1,'\\nP2=',P2,'\\nP3=',P3) "
   ]
  },
  {
   "cell_type": "markdown",
   "metadata": {},
   "source": [
    "6. Valeurs et vecteurs propres de $K=P_1+P_3$"
   ]
  },
  {
   "cell_type": "code",
   "execution_count": 70,
   "metadata": {},
   "outputs": [
    {
     "data": {
      "text/latex": [
       "Quantum object: dims = [[3], [3]], shape = (3, 3), type = oper, isherm = True\\begin{equation*}\\left(\\begin{array}{*{11}c}0.500 & -0.354 & 0.354\\\\-0.354 & 0.750 & 0.250\\\\0.354 & 0.250 & 0.750\\\\\\end{array}\\right)\\end{equation*}"
      ],
      "text/plain": [
       "Quantum object: dims = [[3], [3]], shape = (3, 3), type = oper, isherm = True\n",
       "Qobj data =\n",
       "[[ 0.5        -0.35355339  0.35355339]\n",
       " [-0.35355339  0.75        0.25      ]\n",
       " [ 0.35355339  0.25        0.75      ]]"
      ]
     },
     "execution_count": 70,
     "metadata": {},
     "output_type": "execute_result"
    }
   ],
   "source": [
    "K=P1+P3 #Définition de K\n",
    "K"
   ]
  },
  {
   "cell_type": "code",
   "execution_count": 71,
   "metadata": {},
   "outputs": [
    {
     "data": {
      "text/plain": [
       "(array([4.4408921e-16, 1.0000000e+00, 1.0000000e+00]),\n",
       " array([Quantum object: dims = [[3], [1]], shape = (3, 1), type = ket\n",
       " Qobj data =\n",
       " [[ 0.70710678]\n",
       "  [ 0.5       ]\n",
       "  [-0.5       ]],\n",
       "        Quantum object: dims = [[3], [1]], shape = (3, 1), type = ket\n",
       " Qobj data =\n",
       " [[ 0.70710678]\n",
       "  [-0.5       ]\n",
       "  [ 0.5       ]],\n",
       "        Quantum object: dims = [[3], [1]], shape = (3, 1), type = ket\n",
       " Qobj data =\n",
       " [[0.        ]\n",
       "  [0.70710678]\n",
       "  [0.70710678]]], dtype=object))"
      ]
     },
     "execution_count": 71,
     "metadata": {},
     "output_type": "execute_result"
    }
   ],
   "source": [
    "K.eigenstates()"
   ]
  },
  {
   "cell_type": "markdown",
   "metadata": {},
   "source": [
    "6. Montrons que H et K forment un ensemble complet d'opérateurs compatibles (ECOC)"
   ]
  },
  {
   "cell_type": "code",
   "execution_count": 72,
   "metadata": {},
   "outputs": [
    {
     "name": "stdout",
     "output_type": "stream",
     "text": [
      "\n",
      " H est hermitien\n",
      "\n",
      " K est hermitien\n",
      "\n",
      " H et K commutent\n",
      "Les valeures propres communes de H et K sont  [[ 8.00000000e+00 -4.00000000e+00 -4.00000000e+00]\n",
      " [ 1.00000000e+00  6.66666667e-01  1.38777878e-17]]\n",
      "\n",
      " Les vecteurs propres communs de H et K sont: [Quantum object: dims = [[3], [1]], shape = (3, 1), type = ket\n",
      "Qobj data =\n",
      "[[ 0.70710678]\n",
      " [-0.5       ]\n",
      " [ 0.5       ]]\n",
      " Quantum object: dims = [[3], [1]], shape = (3, 1), type = ket\n",
      "Qobj data =\n",
      "[[-0.40824829]\n",
      " [ 0.28867513]\n",
      " [ 0.8660254 ]]\n",
      " Quantum object: dims = [[3], [1]], shape = (3, 1), type = ket\n",
      "Qobj data =\n",
      "[[ 0.70710678]\n",
      " [ 0.5       ]\n",
      " [-0.5       ]]]\n",
      "\n",
      " H et K forment un Ecoc\n"
     ]
    }
   ],
   "source": [
    "\"\"\"\n",
    "inspired from intrduction à la mécanique quantique:\n",
    "\n",
    "\"\"\"\n",
    "# Les matrices  H et K ont déja été diagonlisées\n",
    "\n",
    "#Vérification d'hermiticité à l'aide de la structure conditionelle python if\n",
    "\n",
    "if H.check_herm():\n",
    "    print('\\n H est hermitien')\n",
    "else:\n",
    "    print('\\n H n\\'est pas hermitien')\n",
    "if K.isherm:\n",
    "     print('\\n K est hermitien')\n",
    "else:\n",
    "    print('\\n K n\\'est pas hermitien')\n",
    "    \n",
    "    # Vérification de la commutation\n",
    "\n",
    "if H*K==K*H:\n",
    "    print('\\n H et K commutent')\n",
    "    \n",
    "    #Dans ce cas, on peut procéder à une diagonalisation simultanée de H et K\n",
    "       \n",
    "    evals,evects=simdiag([H,K])\n",
    "    print('Les valeures propres communes de H et K sont ', evals)\n",
    "    print('\\n Les vecteurs propres communs de H et K sont:', evects)\n",
    "        \n",
    "        # Vérification de l'hermiticité des couples de valeures propres de H et K\n",
    "        \n",
    "    i=0\n",
    "    Ecoc=False\n",
    "    while (i<len(evals[0])):\n",
    "        j=i\n",
    "        while (j<(len(evals[0])-1)):\n",
    "                if (evals[0][i]==evals[0][j+1] and evals[1][i]==evals[1][j+1]):\n",
    "                     Ecoc=True\n",
    "                j=j+1\n",
    "        vv=Ecoc or Ecoc\n",
    "        i=i+1\n",
    "    if (vv==False):\n",
    "            print('\\n H et K forment un Ecoc')\n",
    "    else:\n",
    "            print('H et K ne forment pas un Ecoc')\n",
    "else:\n",
    "    print('H et K ne commutent pas')            "
   ]
  },
  {
   "cell_type": "markdown",
   "metadata": {},
   "source": [
    "## Basic symbolic Quantum Mechanics\n",
    "\n",
    "### Bras and Kets"
   ]
  },
  {
   "cell_type": "markdown",
   "metadata": {},
   "source": [
    "We can create symbolic Ktets usung th `ket` class"
   ]
  },
  {
   "cell_type": "code",
   "execution_count": 12,
   "metadata": {},
   "outputs": [
    {
     "data": {
      "image/png": "[encoded data removed]",
      "text/latex": [
       "$\\displaystyle \\left( {\\left|\\phi\\right\\rangle }, \\  {\\left|\\psi\\right\\rangle }\\right)$"
      ],
      "text/plain": [
       "(❘φ⟩, ❘ψ⟩)"
      ]
     },
     "execution_count": 12,
     "metadata": {},
     "output_type": "execute_result"
    }
   ],
   "source": [
    "phi, psi=Ket('phi'), Ket('psi')\n",
    "phi,psi"
   ]
  },
  {
   "cell_type": "markdown",
   "metadata": {},
   "source": [
    "We can also form a linear combination of kets using addition and sclar multiplication"
   ]
  },
  {
   "cell_type": "code",
   "execution_count": 56,
   "metadata": {},
   "outputs": [
    {
     "data": {
      "image/png": "[encoded data removed]",
      "text/latex": [
       "$\\displaystyle \\alpha {\\left|\\psi\\right\\rangle } + \\beta {\\left|\\phi\\right\\rangle }$"
      ],
      "text/plain": [
       "α⋅❘ψ⟩ + β⋅❘φ⟩"
      ]
     },
     "execution_count": 56,
     "metadata": {},
     "output_type": "execute_result"
    }
   ],
   "source": [
    "alpha=Symbol('alpha',complex=True)\n",
    "beta=Symbol('beta',complex=True)\n",
    "state=alpha*psi+beta*phi\n",
    "state"
   ]
  },
  {
   "cell_type": "markdown",
   "metadata": {},
   "source": [
    "We can also creta  bras using the `Bra` class or by taking the `Dagger` of kets"
   ]
  },
  {
   "cell_type": "code",
   "execution_count": 54,
   "metadata": {},
   "outputs": [
    {
     "data": {
      "image/png": "[encoded data removed]",
      "text/latex": [
       "$\\displaystyle {\\left\\langle \\phi\\right|}$"
      ],
      "text/plain": [
       "⟨φ❘"
      ]
     },
     "execution_count": 54,
     "metadata": {},
     "output_type": "execute_result"
    }
   ],
   "source": [
    "bphi=Bra('phi');bphi"
   ]
  },
  {
   "cell_type": "code",
   "execution_count": 62,
   "metadata": {},
   "outputs": [
    {
     "data": {
      "image/png": "[encoded data removed]",
      "text/latex": [
       "$\\displaystyle \\overline{\\alpha} {\\left\\langle \\psi\\right|} + \\overline{\\beta} {\\left\\langle \\phi\\right|}$"
      ],
      "text/plain": [
       "_       _    \n",
       "α⋅⟨ψ❘ + β⋅⟨φ❘"
      ]
     },
     "execution_count": 62,
     "metadata": {},
     "output_type": "execute_result"
    }
   ],
   "source": [
    "Dagger(state)"
   ]
  },
  {
   "cell_type": "markdown",
   "metadata": {},
   "source": [
    "### Operators\n",
    "There are many classes for handling symbolic operators with SymPy"
   ]
  },
  {
   "cell_type": "code",
   "execution_count": 19,
   "metadata": {},
   "outputs": [],
   "source": [
    "A=Operator('A')\n",
    "B=Operator('B')\n",
    "c=HermitianOperator('C') #Hermitian operator"
   ]
  },
  {
   "cell_type": "code",
   "execution_count": 75,
   "metadata": {},
   "outputs": [
    {
     "data": {
      "image/png": "[encoded data removed]",
      "text/latex": [
       "$\\displaystyle A B A + A B^{2} + A^{2} B + A^{3} + B A B + B A^{2} + B^{2} A + B^{3}$"
      ],
      "text/plain": [
       "           2    2      3              2    2      3\n",
       "A⋅B⋅A + A⋅B  + A ⋅B + A  + B⋅A⋅B + B⋅A  + B ⋅A + B "
      ]
     },
     "execution_count": 75,
     "metadata": {},
     "output_type": "execute_result"
    }
   ],
   "source": [
    "expand((A+B)**3)"
   ]
  },
  {
   "cell_type": "markdown",
   "metadata": {},
   "source": [
    "Sympy is aware that the operators $A$ and $B$ do not necessarily commute"
   ]
  },
  {
   "cell_type": "markdown",
   "metadata": {},
   "source": [
    "We can also crete commutators"
   ]
  },
  {
   "cell_type": "code",
   "execution_count": 8,
   "metadata": {},
   "outputs": [
    {
     "data": {
      "image/png": "[encoded data removed]",
      "text/latex": [
       "$\\displaystyle \\left[A - B,A + B\\right]$"
      ],
      "text/plain": [
       "[A - B,A + B]"
      ]
     },
     "execution_count": 8,
     "metadata": {},
     "output_type": "execute_result"
    }
   ],
   "source": [
    "com=Commutator(A-B,A+B)\n",
    "com"
   ]
  },
  {
   "cell_type": "code",
   "execution_count": 34,
   "metadata": {},
   "outputs": [
    {
     "data": {
      "image/png": "[encoded data removed]",
      "text/latex": [
       "$\\displaystyle - \\left[A + B,A\\right] + \\left[A,B\\right]$"
      ],
      "text/plain": [
       "-[A + B,A] + [A,B]"
      ]
     },
     "execution_count": 34,
     "metadata": {},
     "output_type": "execute_result"
    }
   ],
   "source": [
    "com.expand(commutator=True)"
   ]
  },
  {
   "cell_type": "markdown",
   "metadata": {},
   "source": [
    "### Tensor Products"
   ]
  },
  {
   "cell_type": "markdown",
   "metadata": {},
   "source": [
    "We can also create tensor products of operators using the class `TensorProduct`"
   ]
  },
  {
   "cell_type": "code",
   "execution_count": 33,
   "metadata": {},
   "outputs": [
    {
     "data": {
      "image/png": "[encoded data removed]",
      "text/latex": [
       "$\\displaystyle {{\\left|\\psi\\right\\rangle }}\\otimes {{\\left|\\phi\\right\\rangle }}$"
      ],
      "text/plain": [
       "❘ψ⟩⨂ ❘φ⟩"
      ]
     },
     "execution_count": 33,
     "metadata": {},
     "output_type": "execute_result"
    }
   ],
   "source": [
    "state=TensorProduct(psi,phi);state"
   ]
  },
  {
   "cell_type": "code",
   "execution_count": 39,
   "metadata": {},
   "outputs": [
    {
     "data": {
      "text/html": [
       "<table><tr><th>Software</th><th>Version</th></tr><tr><td>QuTiP</td><td>4.5.0</td></tr><tr><td>Numpy</td><td>1.18.1</td></tr><tr><td>SciPy</td><td>1.4.1</td></tr><tr><td>matplotlib</td><td>3.1.3</td></tr><tr><td>Cython</td><td>0.29.15</td></tr><tr><td>Number of CPUs</td><td>2</td></tr><tr><td>BLAS Info</td><td>INTEL MKL</td></tr><tr><td>IPython</td><td>7.12.0</td></tr><tr><td>Python</td><td>3.7.6 (default, Jan  8 2020, 19:59:22) \n",
       "[GCC 7.3.0]</td></tr><tr><td>OS</td><td>posix [linux]</td></tr><tr><td colspan='2'>Mon Sep 07 06:31:35 2020 WAT</td></tr></table>"
      ],
      "text/plain": [
       "<IPython.core.display.HTML object>"
      ]
     },
     "execution_count": 39,
     "metadata": {},
     "output_type": "execute_result"
    }
   ],
   "source": [
    "from qutip.ipynbtools import version_table\n",
    "version_table()"
   ]
  }
 ],
 "metadata": {
  "author": "States and operators in QuTiP",
  "kernelspec": {
   "display_name": "Python 3",
   "language": "python",
   "name": "python3"
  },
  "language_info": {
   "codemirror_mode": {
    "name": "ipython",
    "version": 3
   },
   "file_extension": ".py",
   "mimetype": "text/x-python",
   "name": "python",
   "nbconvert_exporter": "python",
   "pygments_lexer": "ipython3",
   "version": "3.7.6"
  },
  "latex_envs": {
   "LaTeX_envs_menu_present": true,
   "autoclose": true,
   "autocomplete": true,
   "bibliofile": "biblio.bib",
   "cite_by": "apalike",
   "current_citInitial": 1,
   "eqLabelWithNumbers": true,
   "eqNumInitial": 1,
   "hotkeys": {
    "equation": "Ctrl-E",
    "itemize": "Ctrl-I"
   },
   "labels_anchors": false,
   "latex_user_defs": false,
   "report_style_numbering": true,
   "user_envs_cfg": true
  },
  "toc": {
   "base_numbering": 1,
   "nav_menu": {},
   "number_sections": true,
   "sideBar": true,
   "skip_h1_title": false,
   "title_cell": "Table of Contents",
   "title_sidebar": "Contents",
   "toc_cell": true,
   "toc_position": {},
   "toc_section_display": true,
   "toc_window_display": false
  }
 },
 "nbformat": 4,
 "nbformat_minor": 4
}
